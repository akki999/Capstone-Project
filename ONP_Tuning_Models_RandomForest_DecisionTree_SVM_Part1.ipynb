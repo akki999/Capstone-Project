{
 "cells": [
  {
   "cell_type": "code",
   "execution_count": 1,
   "metadata": {},
   "outputs": [],
   "source": [
    "import numpy as np\n",
    "import pandas as pd\n",
    "import matplotlib.pyplot as plt\n",
    "import seaborn as sns\n",
    "plt.style.use('seaborn')\n",
    "\n",
    "import warnings\n",
    "warnings.filterwarnings(\"ignore\")"
   ]
  },
  {
   "cell_type": "code",
   "execution_count": 2,
   "metadata": {},
   "outputs": [],
   "source": [
    "df = pd.read_csv('Data.csv', sep=r'\\s*,\\s*',\n",
    "                           header=0, encoding='ascii', engine='python')"
   ]
  },
  {
   "cell_type": "code",
   "execution_count": 3,
   "metadata": {},
   "outputs": [],
   "source": [
    "from scipy.stats import randint as sp_randint\n",
    "\n",
    "from sklearn.model_selection import GridSearchCV, RandomizedSearchCV"
   ]
  },
  {
   "cell_type": "code",
   "execution_count": 4,
   "metadata": {},
   "outputs": [],
   "source": [
    "df = df.drop(['url', 'timedelta'], axis = 1)"
   ]
  },
  {
   "cell_type": "code",
   "execution_count": 5,
   "metadata": {},
   "outputs": [
    {
     "data": {
      "text/plain": [
       "0        0\n",
       "1        0\n",
       "2        1\n",
       "3        0\n",
       "4        0\n",
       "        ..\n",
       "39639    1\n",
       "39640    1\n",
       "39641    1\n",
       "39642    0\n",
       "39643    0\n",
       "Name: class, Length: 39644, dtype: int64"
      ]
     },
     "execution_count": 5,
     "metadata": {},
     "output_type": "execute_result"
    }
   ],
   "source": [
    "df['class'] = df['shares'].apply(lambda x:1 if x > 1400 else 0)\n",
    "df['class']"
   ]
  },
  {
   "cell_type": "code",
   "execution_count": 6,
   "metadata": {},
   "outputs": [
    {
     "data": {
      "text/html": [
       "<div>\n",
       "<style scoped>\n",
       "    .dataframe tbody tr th:only-of-type {\n",
       "        vertical-align: middle;\n",
       "    }\n",
       "\n",
       "    .dataframe tbody tr th {\n",
       "        vertical-align: top;\n",
       "    }\n",
       "\n",
       "    .dataframe thead th {\n",
       "        text-align: right;\n",
       "    }\n",
       "</style>\n",
       "<table border=\"1\" class=\"dataframe\">\n",
       "  <thead>\n",
       "    <tr style=\"text-align: right;\">\n",
       "      <th></th>\n",
       "      <th>n_tokens_title</th>\n",
       "      <th>n_tokens_content</th>\n",
       "      <th>n_unique_tokens</th>\n",
       "      <th>n_non_stop_words</th>\n",
       "      <th>n_non_stop_unique_tokens</th>\n",
       "      <th>num_hrefs</th>\n",
       "      <th>num_self_hrefs</th>\n",
       "      <th>num_imgs</th>\n",
       "      <th>num_videos</th>\n",
       "      <th>average_token_length</th>\n",
       "      <th>...</th>\n",
       "      <th>min_positive_polarity</th>\n",
       "      <th>max_positive_polarity</th>\n",
       "      <th>avg_negative_polarity</th>\n",
       "      <th>min_negative_polarity</th>\n",
       "      <th>max_negative_polarity</th>\n",
       "      <th>title_subjectivity</th>\n",
       "      <th>title_sentiment_polarity</th>\n",
       "      <th>abs_title_subjectivity</th>\n",
       "      <th>abs_title_sentiment_polarity</th>\n",
       "      <th>class</th>\n",
       "    </tr>\n",
       "  </thead>\n",
       "  <tbody>\n",
       "    <tr>\n",
       "      <td>0</td>\n",
       "      <td>12.0</td>\n",
       "      <td>219.0</td>\n",
       "      <td>0.663594</td>\n",
       "      <td>1.0</td>\n",
       "      <td>0.815385</td>\n",
       "      <td>4.0</td>\n",
       "      <td>2.0</td>\n",
       "      <td>1.0</td>\n",
       "      <td>0.0</td>\n",
       "      <td>4.680365</td>\n",
       "      <td>...</td>\n",
       "      <td>0.100000</td>\n",
       "      <td>0.7</td>\n",
       "      <td>-0.350000</td>\n",
       "      <td>-0.600</td>\n",
       "      <td>-0.200000</td>\n",
       "      <td>0.500000</td>\n",
       "      <td>-0.187500</td>\n",
       "      <td>0.000000</td>\n",
       "      <td>0.187500</td>\n",
       "      <td>0</td>\n",
       "    </tr>\n",
       "    <tr>\n",
       "      <td>1</td>\n",
       "      <td>9.0</td>\n",
       "      <td>255.0</td>\n",
       "      <td>0.604743</td>\n",
       "      <td>1.0</td>\n",
       "      <td>0.791946</td>\n",
       "      <td>3.0</td>\n",
       "      <td>1.0</td>\n",
       "      <td>1.0</td>\n",
       "      <td>0.0</td>\n",
       "      <td>4.913725</td>\n",
       "      <td>...</td>\n",
       "      <td>0.033333</td>\n",
       "      <td>0.7</td>\n",
       "      <td>-0.118750</td>\n",
       "      <td>-0.125</td>\n",
       "      <td>-0.100000</td>\n",
       "      <td>0.000000</td>\n",
       "      <td>0.000000</td>\n",
       "      <td>0.500000</td>\n",
       "      <td>0.000000</td>\n",
       "      <td>0</td>\n",
       "    </tr>\n",
       "    <tr>\n",
       "      <td>2</td>\n",
       "      <td>9.0</td>\n",
       "      <td>211.0</td>\n",
       "      <td>0.575130</td>\n",
       "      <td>1.0</td>\n",
       "      <td>0.663866</td>\n",
       "      <td>3.0</td>\n",
       "      <td>1.0</td>\n",
       "      <td>1.0</td>\n",
       "      <td>0.0</td>\n",
       "      <td>4.393365</td>\n",
       "      <td>...</td>\n",
       "      <td>0.100000</td>\n",
       "      <td>1.0</td>\n",
       "      <td>-0.466667</td>\n",
       "      <td>-0.800</td>\n",
       "      <td>-0.133333</td>\n",
       "      <td>0.000000</td>\n",
       "      <td>0.000000</td>\n",
       "      <td>0.500000</td>\n",
       "      <td>0.000000</td>\n",
       "      <td>1</td>\n",
       "    </tr>\n",
       "    <tr>\n",
       "      <td>3</td>\n",
       "      <td>9.0</td>\n",
       "      <td>531.0</td>\n",
       "      <td>0.503788</td>\n",
       "      <td>1.0</td>\n",
       "      <td>0.665635</td>\n",
       "      <td>9.0</td>\n",
       "      <td>0.0</td>\n",
       "      <td>1.0</td>\n",
       "      <td>0.0</td>\n",
       "      <td>4.404896</td>\n",
       "      <td>...</td>\n",
       "      <td>0.136364</td>\n",
       "      <td>0.8</td>\n",
       "      <td>-0.369697</td>\n",
       "      <td>-0.600</td>\n",
       "      <td>-0.166667</td>\n",
       "      <td>0.000000</td>\n",
       "      <td>0.000000</td>\n",
       "      <td>0.500000</td>\n",
       "      <td>0.000000</td>\n",
       "      <td>0</td>\n",
       "    </tr>\n",
       "    <tr>\n",
       "      <td>4</td>\n",
       "      <td>13.0</td>\n",
       "      <td>1072.0</td>\n",
       "      <td>0.415646</td>\n",
       "      <td>1.0</td>\n",
       "      <td>0.540890</td>\n",
       "      <td>19.0</td>\n",
       "      <td>19.0</td>\n",
       "      <td>20.0</td>\n",
       "      <td>0.0</td>\n",
       "      <td>4.682836</td>\n",
       "      <td>...</td>\n",
       "      <td>0.033333</td>\n",
       "      <td>1.0</td>\n",
       "      <td>-0.220192</td>\n",
       "      <td>-0.500</td>\n",
       "      <td>-0.050000</td>\n",
       "      <td>0.454545</td>\n",
       "      <td>0.136364</td>\n",
       "      <td>0.045455</td>\n",
       "      <td>0.136364</td>\n",
       "      <td>0</td>\n",
       "    </tr>\n",
       "  </tbody>\n",
       "</table>\n",
       "<p>5 rows × 59 columns</p>\n",
       "</div>"
      ],
      "text/plain": [
       "   n_tokens_title  n_tokens_content  n_unique_tokens  n_non_stop_words  \\\n",
       "0            12.0             219.0         0.663594               1.0   \n",
       "1             9.0             255.0         0.604743               1.0   \n",
       "2             9.0             211.0         0.575130               1.0   \n",
       "3             9.0             531.0         0.503788               1.0   \n",
       "4            13.0            1072.0         0.415646               1.0   \n",
       "\n",
       "   n_non_stop_unique_tokens  num_hrefs  num_self_hrefs  num_imgs  num_videos  \\\n",
       "0                  0.815385        4.0             2.0       1.0         0.0   \n",
       "1                  0.791946        3.0             1.0       1.0         0.0   \n",
       "2                  0.663866        3.0             1.0       1.0         0.0   \n",
       "3                  0.665635        9.0             0.0       1.0         0.0   \n",
       "4                  0.540890       19.0            19.0      20.0         0.0   \n",
       "\n",
       "   average_token_length  ...  min_positive_polarity  max_positive_polarity  \\\n",
       "0              4.680365  ...               0.100000                    0.7   \n",
       "1              4.913725  ...               0.033333                    0.7   \n",
       "2              4.393365  ...               0.100000                    1.0   \n",
       "3              4.404896  ...               0.136364                    0.8   \n",
       "4              4.682836  ...               0.033333                    1.0   \n",
       "\n",
       "   avg_negative_polarity  min_negative_polarity  max_negative_polarity  \\\n",
       "0              -0.350000                 -0.600              -0.200000   \n",
       "1              -0.118750                 -0.125              -0.100000   \n",
       "2              -0.466667                 -0.800              -0.133333   \n",
       "3              -0.369697                 -0.600              -0.166667   \n",
       "4              -0.220192                 -0.500              -0.050000   \n",
       "\n",
       "   title_subjectivity  title_sentiment_polarity  abs_title_subjectivity  \\\n",
       "0            0.500000                 -0.187500                0.000000   \n",
       "1            0.000000                  0.000000                0.500000   \n",
       "2            0.000000                  0.000000                0.500000   \n",
       "3            0.000000                  0.000000                0.500000   \n",
       "4            0.454545                  0.136364                0.045455   \n",
       "\n",
       "   abs_title_sentiment_polarity  class  \n",
       "0                      0.187500      0  \n",
       "1                      0.000000      0  \n",
       "2                      0.000000      1  \n",
       "3                      0.000000      0  \n",
       "4                      0.136364      0  \n",
       "\n",
       "[5 rows x 59 columns]"
      ]
     },
     "execution_count": 6,
     "metadata": {},
     "output_type": "execute_result"
    }
   ],
   "source": [
    "df = df.drop(['shares'], axis = 1)\n",
    "df.head()"
   ]
  },
  {
   "cell_type": "code",
   "execution_count": 7,
   "metadata": {},
   "outputs": [],
   "source": [
    "from sklearn.preprocessing import StandardScaler\n",
    "from sklearn.model_selection import train_test_split, cross_validate\n",
    "from sklearn.decomposition import PCA\n",
    "from sklearn import model_selection\n",
    "from sklearn import feature_selection\n",
    "from sklearn.feature_selection import RFECV\n",
    "\n",
    "from sklearn.model_selection import GridSearchCV, validation_curve\n",
    "from sklearn.linear_model import LogisticRegression\n",
    "from sklearn.neighbors import KNeighborsClassifier\n",
    "from sklearn.tree import DecisionTreeClassifier\n",
    "from sklearn.ensemble import RandomForestClassifier,AdaBoostClassifier,BaggingClassifier,GradientBoostingClassifier\n",
    "from sklearn.metrics import accuracy_score,confusion_matrix, classification_report, f1_score,roc_auc_score, roc_curve, auc"
   ]
  },
  {
   "cell_type": "code",
   "execution_count": 8,
   "metadata": {},
   "outputs": [],
   "source": [
    "# function for scaling the data\n",
    "def std_data(x):\n",
    "    sc = StandardScaler()\n",
    "    scaled = sc.fit_transform(x)\n",
    "    return scaled"
   ]
  },
  {
   "cell_type": "code",
   "execution_count": 9,
   "metadata": {},
   "outputs": [],
   "source": [
    "X = df.drop(['class'], axis = 1)\n",
    "y = df['class']"
   ]
  },
  {
   "cell_type": "code",
   "execution_count": 10,
   "metadata": {},
   "outputs": [
    {
     "data": {
      "text/plain": [
       "array([[ 0.75744723, -0.69521045,  0.03277187, ..., -0.97543219,\n",
       "        -1.81071884,  0.13891975],\n",
       "       [-0.66165665, -0.61879381,  0.01605588, ..., -0.26907618,\n",
       "         0.83774863, -0.68965812],\n",
       "       [-0.66165665, -0.71219192,  0.00764453, ..., -0.26907618,\n",
       "         0.83774863, -0.68965812],\n",
       "       ...,\n",
       "       [-0.18862202, -0.2218518 , -0.00904959, ...,  0.24463729,\n",
       "        -1.56994907, -0.08705603],\n",
       "       [-2.08076053,  0.28759248, -0.00247749, ..., -0.26907618,\n",
       "         0.83774863, -0.68965812],\n",
       "       [-0.18862202, -0.82681689,  0.04367671, ...,  0.67273184,\n",
       "        -0.92789635,  0.41511238]])"
      ]
     },
     "execution_count": 10,
     "metadata": {},
     "output_type": "execute_result"
    }
   ],
   "source": [
    "X_scaled = std_data(X)\n",
    "X_scaled"
   ]
  },
  {
   "cell_type": "code",
   "execution_count": 11,
   "metadata": {
    "scrolled": true
   },
   "outputs": [
    {
     "data": {
      "text/html": [
       "<div>\n",
       "<style scoped>\n",
       "    .dataframe tbody tr th:only-of-type {\n",
       "        vertical-align: middle;\n",
       "    }\n",
       "\n",
       "    .dataframe tbody tr th {\n",
       "        vertical-align: top;\n",
       "    }\n",
       "\n",
       "    .dataframe thead th {\n",
       "        text-align: right;\n",
       "    }\n",
       "</style>\n",
       "<table border=\"1\" class=\"dataframe\">\n",
       "  <thead>\n",
       "    <tr style=\"text-align: right;\">\n",
       "      <th></th>\n",
       "      <th>n_tokens_title</th>\n",
       "      <th>n_tokens_content</th>\n",
       "      <th>n_unique_tokens</th>\n",
       "      <th>n_non_stop_words</th>\n",
       "      <th>n_non_stop_unique_tokens</th>\n",
       "      <th>num_hrefs</th>\n",
       "      <th>num_self_hrefs</th>\n",
       "      <th>num_imgs</th>\n",
       "      <th>num_videos</th>\n",
       "      <th>average_token_length</th>\n",
       "      <th>...</th>\n",
       "      <th>avg_positive_polarity</th>\n",
       "      <th>min_positive_polarity</th>\n",
       "      <th>max_positive_polarity</th>\n",
       "      <th>avg_negative_polarity</th>\n",
       "      <th>min_negative_polarity</th>\n",
       "      <th>max_negative_polarity</th>\n",
       "      <th>title_subjectivity</th>\n",
       "      <th>title_sentiment_polarity</th>\n",
       "      <th>abs_title_subjectivity</th>\n",
       "      <th>abs_title_sentiment_polarity</th>\n",
       "    </tr>\n",
       "  </thead>\n",
       "  <tbody>\n",
       "    <tr>\n",
       "      <td>0</td>\n",
       "      <td>0.757447</td>\n",
       "      <td>-0.695210</td>\n",
       "      <td>0.032772</td>\n",
       "      <td>0.000675</td>\n",
       "      <td>0.038658</td>\n",
       "      <td>-0.607463</td>\n",
       "      <td>-0.335566</td>\n",
       "      <td>-0.426526</td>\n",
       "      <td>-0.304268</td>\n",
       "      <td>0.156474</td>\n",
       "      <td>...</td>\n",
       "      <td>0.237337</td>\n",
       "      <td>0.063865</td>\n",
       "      <td>-0.228941</td>\n",
       "      <td>-0.708369</td>\n",
       "      <td>-0.268895</td>\n",
       "      <td>-0.969886</td>\n",
       "      <td>0.671245</td>\n",
       "      <td>-0.975432</td>\n",
       "      <td>-1.810719</td>\n",
       "      <td>0.138920</td>\n",
       "    </tr>\n",
       "    <tr>\n",
       "      <td>1</td>\n",
       "      <td>-0.661657</td>\n",
       "      <td>-0.618794</td>\n",
       "      <td>0.016056</td>\n",
       "      <td>0.000675</td>\n",
       "      <td>0.031479</td>\n",
       "      <td>-0.695709</td>\n",
       "      <td>-0.594963</td>\n",
       "      <td>-0.426526</td>\n",
       "      <td>-0.304268</td>\n",
       "      <td>0.432838</td>\n",
       "      <td>...</td>\n",
       "      <td>-0.640040</td>\n",
       "      <td>-0.870968</td>\n",
       "      <td>-0.228941</td>\n",
       "      <td>1.102174</td>\n",
       "      <td>1.367424</td>\n",
       "      <td>0.078642</td>\n",
       "      <td>-0.870807</td>\n",
       "      <td>-0.269076</td>\n",
       "      <td>0.837749</td>\n",
       "      <td>-0.689658</td>\n",
       "    </tr>\n",
       "    <tr>\n",
       "      <td>2</td>\n",
       "      <td>-0.661657</td>\n",
       "      <td>-0.712192</td>\n",
       "      <td>0.007645</td>\n",
       "      <td>0.000675</td>\n",
       "      <td>-0.007752</td>\n",
       "      <td>-0.695709</td>\n",
       "      <td>-0.594963</td>\n",
       "      <td>-0.426526</td>\n",
       "      <td>-0.304268</td>\n",
       "      <td>-0.183415</td>\n",
       "      <td>...</td>\n",
       "      <td>1.358401</td>\n",
       "      <td>0.063865</td>\n",
       "      <td>0.981798</td>\n",
       "      <td>-1.621797</td>\n",
       "      <td>-0.957871</td>\n",
       "      <td>-0.270867</td>\n",
       "      <td>-0.870807</td>\n",
       "      <td>-0.269076</td>\n",
       "      <td>0.837749</td>\n",
       "      <td>-0.689658</td>\n",
       "    </tr>\n",
       "    <tr>\n",
       "      <td>3</td>\n",
       "      <td>-0.661657</td>\n",
       "      <td>-0.032933</td>\n",
       "      <td>-0.012619</td>\n",
       "      <td>0.000675</td>\n",
       "      <td>-0.007211</td>\n",
       "      <td>-0.166229</td>\n",
       "      <td>-0.854360</td>\n",
       "      <td>-0.426526</td>\n",
       "      <td>-0.304268</td>\n",
       "      <td>-0.169758</td>\n",
       "      <td>...</td>\n",
       "      <td>0.307442</td>\n",
       "      <td>0.573773</td>\n",
       "      <td>0.174639</td>\n",
       "      <td>-0.862584</td>\n",
       "      <td>-0.268895</td>\n",
       "      <td>-0.620377</td>\n",
       "      <td>-0.870807</td>\n",
       "      <td>-0.269076</td>\n",
       "      <td>0.837749</td>\n",
       "      <td>-0.689658</td>\n",
       "    </tr>\n",
       "    <tr>\n",
       "      <td>4</td>\n",
       "      <td>1.230482</td>\n",
       "      <td>1.115439</td>\n",
       "      <td>-0.037655</td>\n",
       "      <td>0.000675</td>\n",
       "      <td>-0.045420</td>\n",
       "      <td>0.716237</td>\n",
       "      <td>4.074185</td>\n",
       "      <td>1.860061</td>\n",
       "      <td>-0.304268</td>\n",
       "      <td>0.159400</td>\n",
       "      <td>...</td>\n",
       "      <td>0.548135</td>\n",
       "      <td>-0.870968</td>\n",
       "      <td>0.981798</td>\n",
       "      <td>0.307944</td>\n",
       "      <td>0.075594</td>\n",
       "      <td>0.602906</td>\n",
       "      <td>0.531059</td>\n",
       "      <td>0.244637</td>\n",
       "      <td>-1.569949</td>\n",
       "      <td>-0.087056</td>\n",
       "    </tr>\n",
       "    <tr>\n",
       "      <td>...</td>\n",
       "      <td>...</td>\n",
       "      <td>...</td>\n",
       "      <td>...</td>\n",
       "      <td>...</td>\n",
       "      <td>...</td>\n",
       "      <td>...</td>\n",
       "      <td>...</td>\n",
       "      <td>...</td>\n",
       "      <td>...</td>\n",
       "      <td>...</td>\n",
       "      <td>...</td>\n",
       "      <td>...</td>\n",
       "      <td>...</td>\n",
       "      <td>...</td>\n",
       "      <td>...</td>\n",
       "      <td>...</td>\n",
       "      <td>...</td>\n",
       "      <td>...</td>\n",
       "      <td>...</td>\n",
       "      <td>...</td>\n",
       "      <td>...</td>\n",
       "    </tr>\n",
       "    <tr>\n",
       "      <td>39639</td>\n",
       "      <td>0.284413</td>\n",
       "      <td>-0.425630</td>\n",
       "      <td>-0.005443</td>\n",
       "      <td>0.000675</td>\n",
       "      <td>-0.001346</td>\n",
       "      <td>-0.166229</td>\n",
       "      <td>0.961420</td>\n",
       "      <td>-0.426526</td>\n",
       "      <td>-0.060829</td>\n",
       "      <td>-0.029747</td>\n",
       "      <td>...</td>\n",
       "      <td>-0.191635</td>\n",
       "      <td>0.063865</td>\n",
       "      <td>-0.027151</td>\n",
       "      <td>-0.003726</td>\n",
       "      <td>0.075594</td>\n",
       "      <td>-0.183490</td>\n",
       "      <td>-0.562396</td>\n",
       "      <td>-0.269076</td>\n",
       "      <td>0.308055</td>\n",
       "      <td>-0.689658</td>\n",
       "    </tr>\n",
       "    <tr>\n",
       "      <td>39640</td>\n",
       "      <td>0.757447</td>\n",
       "      <td>-0.463838</td>\n",
       "      <td>0.042060</td>\n",
       "      <td>0.000675</td>\n",
       "      <td>0.059999</td>\n",
       "      <td>-0.166229</td>\n",
       "      <td>0.961420</td>\n",
       "      <td>-0.185832</td>\n",
       "      <td>11.380809</td>\n",
       "      <td>-0.169058</td>\n",
       "      <td>...</td>\n",
       "      <td>0.200881</td>\n",
       "      <td>0.573773</td>\n",
       "      <td>-0.228941</td>\n",
       "      <td>0.379044</td>\n",
       "      <td>0.420082</td>\n",
       "      <td>0.078642</td>\n",
       "      <td>0.054425</td>\n",
       "      <td>3.498156</td>\n",
       "      <td>-0.751332</td>\n",
       "      <td>3.729424</td>\n",
       "    </tr>\n",
       "    <tr>\n",
       "      <td>39641</td>\n",
       "      <td>-0.188622</td>\n",
       "      <td>-0.221852</td>\n",
       "      <td>-0.009050</td>\n",
       "      <td>0.000675</td>\n",
       "      <td>-0.013798</td>\n",
       "      <td>1.157470</td>\n",
       "      <td>-0.594963</td>\n",
       "      <td>0.897288</td>\n",
       "      <td>-0.060829</td>\n",
       "      <td>0.626110</td>\n",
       "      <td>...</td>\n",
       "      <td>-0.445302</td>\n",
       "      <td>0.573773</td>\n",
       "      <td>-1.036100</td>\n",
       "      <td>-0.758786</td>\n",
       "      <td>-0.957871</td>\n",
       "      <td>-0.620377</td>\n",
       "      <td>0.531059</td>\n",
       "      <td>0.244637</td>\n",
       "      <td>-1.569949</td>\n",
       "      <td>-0.087056</td>\n",
       "    </tr>\n",
       "    <tr>\n",
       "      <td>39642</td>\n",
       "      <td>-2.080761</td>\n",
       "      <td>0.287592</td>\n",
       "      <td>-0.002477</td>\n",
       "      <td>0.000675</td>\n",
       "      <td>0.001068</td>\n",
       "      <td>-0.077983</td>\n",
       "      <td>-0.594963</td>\n",
       "      <td>-0.426526</td>\n",
       "      <td>-0.304268</td>\n",
       "      <td>0.505491</td>\n",
       "      <td>...</td>\n",
       "      <td>-1.118934</td>\n",
       "      <td>-0.461978</td>\n",
       "      <td>-1.036100</td>\n",
       "      <td>0.424968</td>\n",
       "      <td>0.075594</td>\n",
       "      <td>0.996104</td>\n",
       "      <td>-0.870807</td>\n",
       "      <td>-0.269076</td>\n",
       "      <td>0.837749</td>\n",
       "      <td>-0.689658</td>\n",
       "    </tr>\n",
       "    <tr>\n",
       "      <td>39643</td>\n",
       "      <td>-0.188622</td>\n",
       "      <td>-0.826817</td>\n",
       "      <td>0.043677</td>\n",
       "      <td>0.000675</td>\n",
       "      <td>0.048082</td>\n",
       "      <td>-0.872203</td>\n",
       "      <td>-0.594963</td>\n",
       "      <td>-0.546872</td>\n",
       "      <td>0.182610</td>\n",
       "      <td>-0.091073</td>\n",
       "      <td>...</td>\n",
       "      <td>-1.018619</td>\n",
       "      <td>0.063865</td>\n",
       "      <td>-1.036100</td>\n",
       "      <td>0.466037</td>\n",
       "      <td>1.109058</td>\n",
       "      <td>-0.969886</td>\n",
       "      <td>0.157228</td>\n",
       "      <td>0.672732</td>\n",
       "      <td>-0.927896</td>\n",
       "      <td>0.415112</td>\n",
       "    </tr>\n",
       "  </tbody>\n",
       "</table>\n",
       "<p>39644 rows × 58 columns</p>\n",
       "</div>"
      ],
      "text/plain": [
       "       n_tokens_title  n_tokens_content  n_unique_tokens  n_non_stop_words  \\\n",
       "0            0.757447         -0.695210         0.032772          0.000675   \n",
       "1           -0.661657         -0.618794         0.016056          0.000675   \n",
       "2           -0.661657         -0.712192         0.007645          0.000675   \n",
       "3           -0.661657         -0.032933        -0.012619          0.000675   \n",
       "4            1.230482          1.115439        -0.037655          0.000675   \n",
       "...               ...               ...              ...               ...   \n",
       "39639        0.284413         -0.425630        -0.005443          0.000675   \n",
       "39640        0.757447         -0.463838         0.042060          0.000675   \n",
       "39641       -0.188622         -0.221852        -0.009050          0.000675   \n",
       "39642       -2.080761          0.287592        -0.002477          0.000675   \n",
       "39643       -0.188622         -0.826817         0.043677          0.000675   \n",
       "\n",
       "       n_non_stop_unique_tokens  num_hrefs  num_self_hrefs  num_imgs  \\\n",
       "0                      0.038658  -0.607463       -0.335566 -0.426526   \n",
       "1                      0.031479  -0.695709       -0.594963 -0.426526   \n",
       "2                     -0.007752  -0.695709       -0.594963 -0.426526   \n",
       "3                     -0.007211  -0.166229       -0.854360 -0.426526   \n",
       "4                     -0.045420   0.716237        4.074185  1.860061   \n",
       "...                         ...        ...             ...       ...   \n",
       "39639                 -0.001346  -0.166229        0.961420 -0.426526   \n",
       "39640                  0.059999  -0.166229        0.961420 -0.185832   \n",
       "39641                 -0.013798   1.157470       -0.594963  0.897288   \n",
       "39642                  0.001068  -0.077983       -0.594963 -0.426526   \n",
       "39643                  0.048082  -0.872203       -0.594963 -0.546872   \n",
       "\n",
       "       num_videos  average_token_length  ...  avg_positive_polarity  \\\n",
       "0       -0.304268              0.156474  ...               0.237337   \n",
       "1       -0.304268              0.432838  ...              -0.640040   \n",
       "2       -0.304268             -0.183415  ...               1.358401   \n",
       "3       -0.304268             -0.169758  ...               0.307442   \n",
       "4       -0.304268              0.159400  ...               0.548135   \n",
       "...           ...                   ...  ...                    ...   \n",
       "39639   -0.060829             -0.029747  ...              -0.191635   \n",
       "39640   11.380809             -0.169058  ...               0.200881   \n",
       "39641   -0.060829              0.626110  ...              -0.445302   \n",
       "39642   -0.304268              0.505491  ...              -1.118934   \n",
       "39643    0.182610             -0.091073  ...              -1.018619   \n",
       "\n",
       "       min_positive_polarity  max_positive_polarity  avg_negative_polarity  \\\n",
       "0                   0.063865              -0.228941              -0.708369   \n",
       "1                  -0.870968              -0.228941               1.102174   \n",
       "2                   0.063865               0.981798              -1.621797   \n",
       "3                   0.573773               0.174639              -0.862584   \n",
       "4                  -0.870968               0.981798               0.307944   \n",
       "...                      ...                    ...                    ...   \n",
       "39639               0.063865              -0.027151              -0.003726   \n",
       "39640               0.573773              -0.228941               0.379044   \n",
       "39641               0.573773              -1.036100              -0.758786   \n",
       "39642              -0.461978              -1.036100               0.424968   \n",
       "39643               0.063865              -1.036100               0.466037   \n",
       "\n",
       "       min_negative_polarity  max_negative_polarity  title_subjectivity  \\\n",
       "0                  -0.268895              -0.969886            0.671245   \n",
       "1                   1.367424               0.078642           -0.870807   \n",
       "2                  -0.957871              -0.270867           -0.870807   \n",
       "3                  -0.268895              -0.620377           -0.870807   \n",
       "4                   0.075594               0.602906            0.531059   \n",
       "...                      ...                    ...                 ...   \n",
       "39639               0.075594              -0.183490           -0.562396   \n",
       "39640               0.420082               0.078642            0.054425   \n",
       "39641              -0.957871              -0.620377            0.531059   \n",
       "39642               0.075594               0.996104           -0.870807   \n",
       "39643               1.109058              -0.969886            0.157228   \n",
       "\n",
       "       title_sentiment_polarity  abs_title_subjectivity  \\\n",
       "0                     -0.975432               -1.810719   \n",
       "1                     -0.269076                0.837749   \n",
       "2                     -0.269076                0.837749   \n",
       "3                     -0.269076                0.837749   \n",
       "4                      0.244637               -1.569949   \n",
       "...                         ...                     ...   \n",
       "39639                 -0.269076                0.308055   \n",
       "39640                  3.498156               -0.751332   \n",
       "39641                  0.244637               -1.569949   \n",
       "39642                 -0.269076                0.837749   \n",
       "39643                  0.672732               -0.927896   \n",
       "\n",
       "       abs_title_sentiment_polarity  \n",
       "0                          0.138920  \n",
       "1                         -0.689658  \n",
       "2                         -0.689658  \n",
       "3                         -0.689658  \n",
       "4                         -0.087056  \n",
       "...                             ...  \n",
       "39639                     -0.689658  \n",
       "39640                      3.729424  \n",
       "39641                     -0.087056  \n",
       "39642                     -0.689658  \n",
       "39643                      0.415112  \n",
       "\n",
       "[39644 rows x 58 columns]"
      ]
     },
     "execution_count": 11,
     "metadata": {},
     "output_type": "execute_result"
    }
   ],
   "source": [
    "X_scaled = pd.DataFrame(X_scaled, columns = X.columns)\n",
    "X_scaled"
   ]
  },
  {
   "cell_type": "code",
   "execution_count": 12,
   "metadata": {},
   "outputs": [],
   "source": [
    "def model_compare(algo, X_train, X_test, y_train, y_test):\n",
    "    algo.fit(X_train, y_train)\n",
    "    \n",
    "    y_pred_train = algo.predict(X_train)\n",
    "    y_pred_test = algo.predict(X_test)\n",
    "    \n",
    "    y_prob_train = algo.predict_proba(X_train)[:,1]\n",
    "    y_prob_test = algo.predict_proba(X_test)[:,1]\n",
    "    \n",
    "    print('Accuracy on Train Set: \\n', accuracy_score(y_train, y_pred_train))\n",
    "    print('\\n')\n",
    "    print('Accuracy on Test Set: \\n', accuracy_score(y_test, y_pred_test))\n",
    "    print('\\n')\n",
    "    \n",
    "    print('Confusion Matrix for Train Set:\\n', confusion_matrix(y_train, y_pred_train))\n",
    "    print('\\n')\n",
    "    print('Confusion Matrix for Test Set:\\n', confusion_matrix(y_test, y_pred_test))\n",
    "    print('\\n')\n",
    "    \n",
    "    print('Classification Report for Train Set:\\n', classification_report(y_train, y_pred_train))\n",
    "    print('\\n')\n",
    "    print('Classification Report for Test Set:\\n', classification_report(y_test, y_pred_test))\n",
    "    print('\\n')\n",
    "    \n",
    "    print('ROC AUC on Train Set:\\n', roc_auc_score(y_train, y_prob_train))\n",
    "    print('\\n')\n",
    "    print('ROC AUC on Test Set:\\n', roc_auc_score(y_test, y_prob_test))\n",
    "    print('\\n')\n",
    "    \n",
    "    print('ROC AUC Curve for Train Set:')\n",
    "    print('\\n')\n",
    "    fpr, tpr, thresholds = roc_curve(y_train, y_prob_train)\n",
    "    plt.plot(fpr, tpr)\n",
    "    plt.plot(fpr, fpr, 'r-')\n",
    "    plt.show()\n",
    "    print('\\n')\n",
    "    \n",
    "    print('ROC AUC Curve for Test Set:')\n",
    "    print('\\n')\n",
    "    fpr, tpr, thresholds = roc_curve(y_test, y_prob_test)\n",
    "    plt.plot(fpr, tpr)\n",
    "    plt.plot(fpr, fpr, 'r-')\n",
    "    plt.show()\n",
    "    print('\\n')"
   ]
  },
  {
   "cell_type": "code",
   "execution_count": 13,
   "metadata": {},
   "outputs": [],
   "source": [
    "X = X_scaled\n",
    "y = df['class']"
   ]
  },
  {
   "cell_type": "code",
   "execution_count": 14,
   "metadata": {},
   "outputs": [],
   "source": [
    "X_train, X_test, y_train, y_test = train_test_split(X, y, test_size = 0.3, random_state = 0)"
   ]
  },
  {
   "cell_type": "code",
   "execution_count": 15,
   "metadata": {},
   "outputs": [],
   "source": [
    "dt = DecisionTreeClassifier()"
   ]
  },
  {
   "cell_type": "markdown",
   "metadata": {},
   "source": [
    "## First Desicion Tree Base model With all Features"
   ]
  },
  {
   "cell_type": "code",
   "execution_count": 16,
   "metadata": {},
   "outputs": [
    {
     "name": "stdout",
     "output_type": "stream",
     "text": [
      "Accuracy on Train Set: \n",
      " 1.0\n",
      "\n",
      "\n",
      "Accuracy on Test Set: \n",
      " 0.5802925844963848\n",
      "\n",
      "\n",
      "Confusion Matrix for Train Set:\n",
      " [[14010     0]\n",
      " [    0 13740]]\n",
      "\n",
      "\n",
      "Confusion Matrix for Test Set:\n",
      " [[3532 2540]\n",
      " [2452 3370]]\n",
      "\n",
      "\n",
      "Classification Report for Train Set:\n",
      "               precision    recall  f1-score   support\n",
      "\n",
      "           0       1.00      1.00      1.00     14010\n",
      "           1       1.00      1.00      1.00     13740\n",
      "\n",
      "    accuracy                           1.00     27750\n",
      "   macro avg       1.00      1.00      1.00     27750\n",
      "weighted avg       1.00      1.00      1.00     27750\n",
      "\n",
      "\n",
      "\n",
      "Classification Report for Test Set:\n",
      "               precision    recall  f1-score   support\n",
      "\n",
      "           0       0.59      0.58      0.59      6072\n",
      "           1       0.57      0.58      0.57      5822\n",
      "\n",
      "    accuracy                           0.58     11894\n",
      "   macro avg       0.58      0.58      0.58     11894\n",
      "weighted avg       0.58      0.58      0.58     11894\n",
      "\n",
      "\n",
      "\n",
      "ROC AUC on Train Set:\n",
      " 1.0\n",
      "\n",
      "\n",
      "ROC AUC on Test Set:\n",
      " 0.5802626582464678\n",
      "\n",
      "\n",
      "ROC AUC Curve for Train Set:\n",
      "\n",
      "\n"
     ]
    },
    {
     "data": {
      "image/png": "[encoded data removed]",
      "text/plain": [
       "<Figure size 432x288 with 1 Axes>"
      ]
     },
     "metadata": {
      "needs_background": "light"
     },
     "output_type": "display_data"
    },
    {
     "name": "stdout",
     "output_type": "stream",
     "text": [
      "\n",
      "\n",
      "ROC AUC Curve for Test Set:\n",
      "\n",
      "\n"
     ]
    },
    {
     "data": {
      "image/png": "[encoded data removed]",
      "text/plain": [
       "<Figure size 432x288 with 1 Axes>"
      ]
     },
     "metadata": {
      "needs_background": "light"
     },
     "output_type": "display_data"
    },
    {
     "name": "stdout",
     "output_type": "stream",
     "text": [
      "\n",
      "\n"
     ]
    }
   ],
   "source": [
    "model_compare(dt, X_train, X_test, y_train, y_test)"
   ]
  },
  {
   "cell_type": "markdown",
   "metadata": {},
   "source": [
    "## Hyperparameter Tunning with all features for Decision Tree"
   ]
  },
  {
   "cell_type": "code",
   "execution_count": 17,
   "metadata": {},
   "outputs": [
    {
     "name": "stdout",
     "output_type": "stream",
     "text": [
      "{'criterion': 'entropy', 'max_depth': 4, 'min_samples_leaf': 2, 'min_samples_split': 2}\n"
     ]
    }
   ],
   "source": [
    "dtrscvall = DecisionTreeClassifier(random_state = 0)\n",
    "\n",
    "params = {'max_depth': sp_randint(3,5),\n",
    "         'min_samples_split': sp_randint(2,7),\n",
    "         'min_samples_leaf': sp_randint(2,5),\n",
    "         'criterion': ['gini', 'entropy']}\n",
    "\n",
    "rand_search = RandomizedSearchCV(dtrscvall, param_distributions = params, cv = 5, random_state = 1)\n",
    "\n",
    "rand_search.fit(X,y)\n",
    "\n",
    "print(rand_search.best_params_)"
   ]
  },
  {
   "cell_type": "code",
   "execution_count": 18,
   "metadata": {},
   "outputs": [
    {
     "name": "stdout",
     "output_type": "stream",
     "text": [
      "Accuracy on Train Set: \n",
      " 0.6381261261261262\n",
      "\n",
      "\n",
      "Accuracy on Test Set: \n",
      " 0.6298133512695476\n",
      "\n",
      "\n",
      "Confusion Matrix for Train Set:\n",
      " [[9666 4344]\n",
      " [5698 8042]]\n",
      "\n",
      "\n",
      "Confusion Matrix for Test Set:\n",
      " [[4143 1929]\n",
      " [2474 3348]]\n",
      "\n",
      "\n",
      "Classification Report for Train Set:\n",
      "               precision    recall  f1-score   support\n",
      "\n",
      "           0       0.63      0.69      0.66     14010\n",
      "           1       0.65      0.59      0.62     13740\n",
      "\n",
      "    accuracy                           0.64     27750\n",
      "   macro avg       0.64      0.64      0.64     27750\n",
      "weighted avg       0.64      0.64      0.64     27750\n",
      "\n",
      "\n",
      "\n",
      "Classification Report for Test Set:\n",
      "               precision    recall  f1-score   support\n",
      "\n",
      "           0       0.63      0.68      0.65      6072\n",
      "           1       0.63      0.58      0.60      5822\n",
      "\n",
      "    accuracy                           0.63     11894\n",
      "   macro avg       0.63      0.63      0.63     11894\n",
      "weighted avg       0.63      0.63      0.63     11894\n",
      "\n",
      "\n",
      "\n",
      "ROC AUC on Train Set:\n",
      " 0.6763240438572157\n",
      "\n",
      "\n",
      "ROC AUC on Test Set:\n",
      " 0.6631603060310512\n",
      "\n",
      "\n",
      "ROC AUC Curve for Train Set:\n",
      "\n",
      "\n"
     ]
    },
    {
     "data": {
      "image/png": "[encoded data removed]",
      "text/plain": [
       "<Figure size 432x288 with 1 Axes>"
      ]
     },
     "metadata": {
      "needs_background": "light"
     },
     "output_type": "display_data"
    },
    {
     "name": "stdout",
     "output_type": "stream",
     "text": [
      "\n",
      "\n",
      "ROC AUC Curve for Test Set:\n",
      "\n",
      "\n"
     ]
    },
    {
     "data": {
      "image/png": "[encoded data removed]",
      "text/plain": [
       "<Figure size 432x288 with 1 Axes>"
      ]
     },
     "metadata": {
      "needs_background": "light"
     },
     "output_type": "display_data"
    },
    {
     "name": "stdout",
     "output_type": "stream",
     "text": [
      "\n",
      "\n"
     ]
    }
   ],
   "source": [
    "dtrscvall = DecisionTreeClassifier(**rand_search.best_params_)\n",
    "\n",
    "model_compare(dtrscvall, X_train, X_test, y_train, y_test)"
   ]
  },
  {
   "cell_type": "markdown",
   "metadata": {},
   "source": [
    "1: For first try with these params {'max_depth': sp_randint(3,58),\n",
    "         'min_samples_split': sp_randint(2,50),\n",
    "         'min_samples_leaf': sp_randint(2,50),\n",
    "         'criterion': ['gini', 'entropy']} we get this best parameters like {'criterion': 'gini', 'max_depth': 10, 'min_samples_leaf': 47, 'min_samples_split': 8} and based on that we get roc auc score on train and test is 75 & 67 which is clearly overfitting so we have tune it."
   ]
  },
  {
   "cell_type": "markdown",
   "metadata": {},
   "source": [
    "2: For second try with these params = {'max_depth': sp_randint(3,50),\n",
    "         'min_samples_split': sp_randint(2,47),\n",
    "         'min_samples_leaf': sp_randint(2,48),\n",
    "         'criterion': ['gini', 'entropy']} we get this best parameters like {'criterion': 'gini', 'max_depth': 10, 'min_samples_leaf': 47, 'min_samples_split': 8} but we get same roc auc score as of the above which is 75 & 67."
   ]
  },
  {
   "cell_type": "markdown",
   "metadata": {},
   "source": [
    "3: For third try with these params =  {'max_depth': sp_randint(3,45),\n",
    "         'min_samples_split': sp_randint(2,43),\n",
    "         'min_samples_leaf': sp_randint(2,42),\n",
    "         'criterion': ['gini', 'entropy']} we get the best parameters like and based on that we get the roc auc score on train and test is 74 & 64."
   ]
  },
  {
   "cell_type": "markdown",
   "metadata": {},
   "source": [
    "4: For fourth try with these params = {'max_depth': sp_randint(3,35),\n",
    "         'min_samples_split': sp_randint(2,37),\n",
    "         'min_samples_leaf': sp_randint(2,30),\n",
    "         'criterion': ['gini', 'entropy']} we get this best parameters like {'criterion': 'gini', 'max_depth': 10, 'min_samples_leaf': 15, 'min_samples_split': 8} and based on that we get the roc auc score on train and test is 77 & 66."
   ]
  },
  {
   "cell_type": "markdown",
   "metadata": {},
   "source": [
    "5: For fifth try with these params = {'max_depth': sp_randint(3,25),\n",
    "         'min_samples_split': sp_randint(2,30),\n",
    "         'min_samples_leaf': sp_randint(2,20),\n",
    "         'criterion': ['gini', 'entropy']} we get the best parameters like {'criterion': 'gini', 'max_depth': 7, 'min_samples_leaf': 11, 'min_samples_split': 19} and based on that we get the roc auc score on train and test is 72 & 68."
   ]
  },
  {
   "cell_type": "markdown",
   "metadata": {},
   "source": [
    "6: For sixth try with this params = {'max_depth': sp_randint(3,15),\n",
    "         'min_samples_split': sp_randint(2,17),\n",
    "         'min_samples_leaf': sp_randint(2,13),\n",
    "         'criterion': ['gini', 'entropy']} we get the best parameters like {'criterion': 'gini', 'max_depth': 3, 'min_samples_leaf': 8, 'min_samples_split': 15}and based on that we get the roc auc score on train and test is 65 & 64 which is good enough because is not overfitting. "
   ]
  },
  {
   "cell_type": "markdown",
   "metadata": {},
   "source": [
    "7: For seventh try with these params = {'max_depth': sp_randint(3,10),\n",
    "         'min_samples_split': sp_randint(2,12),\n",
    "         'min_samples_leaf': sp_randint(2,9),\n",
    "         'criterion': ['gini', 'entropy']} we get the best parameters like {'criterion': 'entropy', 'max_depth': 6, 'min_samples_leaf': 6, 'min_samples_split': 10} and based on that we get the roc auc score on train and test is 70 & 67 which is slightly overfiting but it is considerable for final modelling."
   ]
  },
  {
   "cell_type": "markdown",
   "metadata": {},
   "source": [
    "8: For eight try with this params = {'max_depth': sp_randint(3,5),\n",
    "         'min_samples_split': sp_randint(2,7),\n",
    "         'min_samples_leaf': sp_randint(2,5),\n",
    "         'criterion': ['gini', 'entropy']} we get the best parameters like {'criterion': 'entropy', 'max_depth': 4, 'min_samples_leaf': 2, 'min_samples_split': 2} and based on that we get the roc auc score on train and test is 67 & 66."
   ]
  },
  {
   "cell_type": "markdown",
   "metadata": {},
   "source": [
    "So for decision tree with all features we consider 6, 7 and 8th model."
   ]
  },
  {
   "cell_type": "code",
   "execution_count": 19,
   "metadata": {},
   "outputs": [
    {
     "data": {
      "image/png": "[encoded data removed]",
      "text/plain": [
       "<Figure size 432x288 with 1 Axes>"
      ]
     },
     "metadata": {
      "needs_background": "light"
     },
     "output_type": "display_data"
    }
   ],
   "source": [
    "feat_importances_dt = pd.Series(dtrscvall.feature_importances_, index=X.columns)\n",
    "feat_importances_dt.nlargest(20).plot(kind='barh')\n",
    "plt.show()"
   ]
  },
  {
   "cell_type": "code",
   "execution_count": 20,
   "metadata": {},
   "outputs": [
    {
     "data": {
      "text/plain": [
       "Index(['kw_avg_avg', 'data_channel_is_entertainment', 'data_channel_is_tech',\n",
       "       'is_weekend', 'data_channel_is_socmed', 'self_reference_min_shares',\n",
       "       'kw_max_max', 'LDA_02', 'n_unique_tokens', 'kw_max_avg',\n",
       "       'num_self_hrefs', 'n_tokens_content', 'kw_min_avg', 'kw_avg_max',\n",
       "       'kw_min_max', 'kw_avg_min', 'kw_max_min', 'kw_min_min', 'num_hrefs',\n",
       "       'data_channel_is_world'],\n",
       "      dtype='object')"
      ]
     },
     "execution_count": 20,
     "metadata": {},
     "output_type": "execute_result"
    }
   ],
   "source": [
    "# Reorder by importance\n",
    "feat_importances_dt = feat_importances_dt.sort_values(ascending = False)\n",
    "\n",
    "# Converting to Data Frame\n",
    "important_features_dt = feat_importances_dt.to_frame()\n",
    "\n",
    "# First 20 Important Features\n",
    "important_features_dt[0:20].index"
   ]
  },
  {
   "cell_type": "markdown",
   "metadata": {},
   "source": [
    "## Feature Selection and Hyperparameter tunning with Decision Tree"
   ]
  },
  {
   "cell_type": "code",
   "execution_count": 21,
   "metadata": {},
   "outputs": [],
   "source": [
    "# Reorder by importance\n",
    "feat_importances_dt = feat_importances_dt.sort_values(ascending = False)"
   ]
  },
  {
   "cell_type": "code",
   "execution_count": 22,
   "metadata": {},
   "outputs": [],
   "source": [
    "# Converting to Data Frame\n",
    "important_features_dt = feat_importances_dt.to_frame()"
   ]
  },
  {
   "cell_type": "code",
   "execution_count": 23,
   "metadata": {},
   "outputs": [
    {
     "data": {
      "text/plain": [
       "Index(['kw_avg_avg', 'data_channel_is_entertainment', 'data_channel_is_tech',\n",
       "       'is_weekend', 'data_channel_is_socmed', 'self_reference_min_shares',\n",
       "       'kw_max_max', 'LDA_02', 'n_unique_tokens', 'kw_max_avg',\n",
       "       'num_self_hrefs', 'data_channel_is_world', 'average_token_length',\n",
       "       'num_keywords', 'data_channel_is_lifestyle', 'n_non_stop_unique_tokens',\n",
       "       'data_channel_is_bus', 'self_reference_max_shares', 'n_non_stop_words',\n",
       "       'kw_avg_max'],\n",
       "      dtype='object')"
      ]
     },
     "execution_count": 23,
     "metadata": {},
     "output_type": "execute_result"
    }
   ],
   "source": [
    "# First 20 Important Features\n",
    "important_features_dt[0:20].index"
   ]
  },
  {
   "cell_type": "markdown",
   "metadata": {},
   "source": [
    "## Decision Tree with 20 most important features"
   ]
  },
  {
   "cell_type": "code",
   "execution_count": 24,
   "metadata": {},
   "outputs": [],
   "source": [
    "X = X_scaled[['kw_avg_avg', 'data_channel_is_entertainment', 'data_channel_is_tech',\n",
    "       'is_weekend', 'data_channel_is_socmed', 'self_reference_min_shares',\n",
    "       'kw_max_max', 'LDA_02', 'n_unique_tokens', 'kw_max_avg',\n",
    "       'num_self_hrefs', 'n_tokens_content', 'kw_min_avg', 'kw_avg_max',\n",
    "       'kw_min_max', 'kw_avg_min', 'kw_max_min', 'kw_min_min', 'num_hrefs',\n",
    "       'data_channel_is_world']]\n",
    "\n",
    "y = df['class']"
   ]
  },
  {
   "cell_type": "code",
   "execution_count": 25,
   "metadata": {},
   "outputs": [],
   "source": [
    "X_train, X_test, y_train, y_test = train_test_split(X, y, test_size = 0.3, random_state = 0)"
   ]
  },
  {
   "cell_type": "code",
   "execution_count": 26,
   "metadata": {},
   "outputs": [
    {
     "name": "stdout",
     "output_type": "stream",
     "text": [
      "{'criterion': 'gini', 'max_depth': 6, 'min_samples_leaf': 3, 'min_samples_split': 4}\n"
     ]
    }
   ],
   "source": [
    "dtrscv20 = DecisionTreeClassifier(random_state = 0)\n",
    "\n",
    "params = {'max_depth': sp_randint(2,7), \n",
    "          'min_samples_split': sp_randint(2,5), \n",
    "          'min_samples_leaf': sp_randint(2,5), \n",
    "          'criterion': ['gini', 'entropy']}\n",
    "\n",
    "rand_search = RandomizedSearchCV(dtrscv20, param_distributions = params, cv = 5, random_state = 1)\n",
    "\n",
    "rand_search.fit(X,y)\n",
    "\n",
    "print(rand_search.best_params_)"
   ]
  },
  {
   "cell_type": "code",
   "execution_count": 27,
   "metadata": {},
   "outputs": [
    {
     "name": "stdout",
     "output_type": "stream",
     "text": [
      "Accuracy on Train Set: \n",
      " 0.6548468468468468\n",
      "\n",
      "\n",
      "Accuracy on Test Set: \n",
      " 0.6363712796367916\n",
      "\n",
      "\n",
      "Confusion Matrix for Train Set:\n",
      " [[8903 5107]\n",
      " [4471 9269]]\n",
      "\n",
      "\n",
      "Confusion Matrix for Test Set:\n",
      " [[3750 2322]\n",
      " [2003 3819]]\n",
      "\n",
      "\n",
      "Classification Report for Train Set:\n",
      "               precision    recall  f1-score   support\n",
      "\n",
      "           0       0.67      0.64      0.65     14010\n",
      "           1       0.64      0.67      0.66     13740\n",
      "\n",
      "    accuracy                           0.65     27750\n",
      "   macro avg       0.66      0.66      0.65     27750\n",
      "weighted avg       0.66      0.65      0.65     27750\n",
      "\n",
      "\n",
      "\n",
      "Classification Report for Test Set:\n",
      "               precision    recall  f1-score   support\n",
      "\n",
      "           0       0.65      0.62      0.63      6072\n",
      "           1       0.62      0.66      0.64      5822\n",
      "\n",
      "    accuracy                           0.64     11894\n",
      "   macro avg       0.64      0.64      0.64     11894\n",
      "weighted avg       0.64      0.64      0.64     11894\n",
      "\n",
      "\n",
      "\n",
      "ROC AUC on Train Set:\n",
      " 0.7063580391215674\n",
      "\n",
      "\n",
      "ROC AUC on Test Set:\n",
      " 0.6808850730430981\n",
      "\n",
      "\n",
      "ROC AUC Curve for Train Set:\n",
      "\n",
      "\n"
     ]
    },
    {
     "data": {
      "image/png": "[encoded data removed]",
      "text/plain": [
       "<Figure size 432x288 with 1 Axes>"
      ]
     },
     "metadata": {
      "needs_background": "light"
     },
     "output_type": "display_data"
    },
    {
     "name": "stdout",
     "output_type": "stream",
     "text": [
      "\n",
      "\n",
      "ROC AUC Curve for Test Set:\n",
      "\n",
      "\n"
     ]
    },
    {
     "data": {
      "image/png": "[encoded data removed]",
      "text/plain": [
       "<Figure size 432x288 with 1 Axes>"
      ]
     },
     "metadata": {
      "needs_background": "light"
     },
     "output_type": "display_data"
    },
    {
     "name": "stdout",
     "output_type": "stream",
     "text": [
      "\n",
      "\n"
     ]
    }
   ],
   "source": [
    "dtrscv20 = DecisionTreeClassifier(**rand_search.best_params_)\n",
    "\n",
    "model_compare(dtrscv20, X_train, X_test, y_train, y_test)"
   ]
  },
  {
   "cell_type": "markdown",
   "metadata": {},
   "source": [
    "1: For first try with based on these params = {'max_depth': sp_randint(3,7), \n",
    "          'min_samples_split': sp_randint(2,8), \n",
    "          'min_samples_leaf': sp_randint(2,9), \n",
    "          'criterion': ['gini', 'entropy']} we get the best parameters like {'criterion': 'entropy', 'max_depth': 6, 'min_samples_leaf': 3, 'min_samples_split': 3} and based on that we get roc auc score on train  and test are 70 & 67 which is good enough but we ahve to try for more tunning so that our model improves. "
   ]
  },
  {
   "cell_type": "markdown",
   "metadata": {},
   "source": [
    "2: For second try based on these params = {'max_depth': sp_randint(3,20), \n",
    "          'min_samples_split': sp_randint(2,17), \n",
    "          'min_samples_leaf': sp_randint(2,15), \n",
    "          'criterion': ['gini', 'entropy']} we get the best parameters like {'criterion': 'entropy', 'max_depth': 3, 'min_samples_leaf': 2, 'min_samples_split': 3} and based on that we get roc auc score of 65 & 64."
   ]
  },
  {
   "cell_type": "markdown",
   "metadata": {},
   "source": [
    "3: For third try based on these params = {'max_depth': sp_randint(3,10), \n",
    "          'min_samples_split': sp_randint(2,9), \n",
    "          'min_samples_leaf': sp_randint(2,8), \n",
    "          'criterion': ['gini', 'entropy']} we get the bet parameters like {'criterion': 'entropy', 'max_depth': 6, 'min_samples_leaf': 6, 'min_samples_split': 2} and based on that we get roc auc score on train and test is 70 & 67 respectively."
   ]
  },
  {
   "cell_type": "markdown",
   "metadata": {},
   "source": [
    "4: For fourth try based on these params = {'max_depth': sp_randint(3,10), \n",
    "          'min_samples_split': sp_randint(2,10), \n",
    "          'min_samples_leaf': sp_randint(2,7), \n",
    "          'criterion': ['gini', 'entropy']}\n",
    "        we get the best parameters like {'criterion': 'entropy', 'max_depth': 6, 'min_samples_leaf': 6, 'min_samples_split': 2}and based on that we get roc auc score on train and test is 70 & 67."
   ]
  },
  {
   "cell_type": "markdown",
   "metadata": {},
   "source": [
    "5: For fifth try based on these params = {'max_depth': sp_randint(2,7), \n",
    "          'min_samples_split': sp_randint(2,5), \n",
    "          'min_samples_leaf': sp_randint(2,5), \n",
    "          'criterion': ['gini', 'entropy']} we get the best parameters like {'criterion': 'gini', 'max_depth': 6, 'min_samples_leaf': 3, 'min_samples_split': 4} and based on that we get the roc auc score on train and test of 70 & 68 parameters.\n",
    "    "
   ]
  },
  {
   "cell_type": "markdown",
   "metadata": {},
   "source": [
    "So for decision tree with best 20 features we will go with 5, 1 and 2 model."
   ]
  },
  {
   "cell_type": "markdown",
   "metadata": {},
   "source": [
    "## Decision Tree with 30 important features with Tunning"
   ]
  },
  {
   "cell_type": "code",
   "execution_count": 28,
   "metadata": {},
   "outputs": [
    {
     "data": {
      "text/plain": [
       "Index(['kw_avg_avg', 'data_channel_is_entertainment', 'data_channel_is_tech',\n",
       "       'is_weekend', 'data_channel_is_socmed', 'self_reference_min_shares',\n",
       "       'kw_max_max', 'LDA_02', 'n_unique_tokens', 'kw_max_avg',\n",
       "       'num_self_hrefs', 'data_channel_is_world', 'average_token_length',\n",
       "       'num_keywords', 'data_channel_is_lifestyle', 'n_non_stop_unique_tokens',\n",
       "       'data_channel_is_bus', 'self_reference_max_shares', 'n_non_stop_words',\n",
       "       'kw_avg_max', 'num_hrefs', 'kw_min_min', 'kw_max_min', 'kw_avg_min',\n",
       "       'kw_min_max', 'weekday_is_tuesday', 'kw_min_avg', 'n_tokens_content',\n",
       "       'num_videos', 'n_tokens_title'],\n",
       "      dtype='object')"
      ]
     },
     "execution_count": 28,
     "metadata": {},
     "output_type": "execute_result"
    }
   ],
   "source": [
    "# First 30 Important Features\n",
    "important_features_dt[0:30].index"
   ]
  },
  {
   "cell_type": "code",
   "execution_count": 29,
   "metadata": {},
   "outputs": [],
   "source": [
    "X = X_scaled[['kw_avg_avg', 'data_channel_is_entertainment', 'data_channel_is_tech',\n",
    "       'is_weekend', 'data_channel_is_socmed', 'self_reference_min_shares',\n",
    "       'kw_max_max', 'LDA_02', 'n_unique_tokens', 'kw_max_avg',\n",
    "       'num_self_hrefs', 'n_tokens_content', 'kw_min_avg', 'kw_avg_max',\n",
    "       'kw_min_max', 'kw_avg_min', 'kw_max_min', 'kw_min_min', 'num_hrefs',\n",
    "       'data_channel_is_world', 'n_non_stop_words',\n",
    "       'self_reference_max_shares', 'data_channel_is_bus',\n",
    "       'n_non_stop_unique_tokens', 'data_channel_is_lifestyle', 'num_keywords',\n",
    "       'average_token_length', 'num_videos', 'num_imgs',\n",
    "       'abs_title_sentiment_polarity']]\n",
    "\n",
    "y = df['class']"
   ]
  },
  {
   "cell_type": "code",
   "execution_count": 30,
   "metadata": {},
   "outputs": [],
   "source": [
    "X_train, X_test, y_train, y_test = train_test_split(X, y, test_size = 0.3, random_state = 0)"
   ]
  },
  {
   "cell_type": "code",
   "execution_count": 31,
   "metadata": {},
   "outputs": [
    {
     "name": "stdout",
     "output_type": "stream",
     "text": [
      "{'criterion': 'entropy', 'max_depth': 4, 'min_samples_leaf': 3, 'min_samples_split': 2}\n"
     ]
    }
   ],
   "source": [
    "dtrscv30 = DecisionTreeClassifier(random_state = 0)\n",
    "\n",
    "params = {'max_depth': sp_randint(3,7), \n",
    "          'min_samples_split': sp_randint(2,5), \n",
    "          'min_samples_leaf': sp_randint(2,5), \n",
    "          'criterion': ['gini', 'entropy']}\n",
    "\n",
    "rand_search = RandomizedSearchCV(dtrscv30, param_distributions = params, cv = 5, random_state = 1)\n",
    "\n",
    "rand_search.fit(X,y)\n",
    "\n",
    "print(rand_search.best_params_)"
   ]
  },
  {
   "cell_type": "code",
   "execution_count": 32,
   "metadata": {},
   "outputs": [
    {
     "name": "stdout",
     "output_type": "stream",
     "text": [
      "Accuracy on Train Set: \n",
      " 0.6381261261261262\n",
      "\n",
      "\n",
      "Accuracy on Test Set: \n",
      " 0.6298133512695476\n",
      "\n",
      "\n",
      "Confusion Matrix for Train Set:\n",
      " [[9666 4344]\n",
      " [5698 8042]]\n",
      "\n",
      "\n",
      "Confusion Matrix for Test Set:\n",
      " [[4143 1929]\n",
      " [2474 3348]]\n",
      "\n",
      "\n",
      "Classification Report for Train Set:\n",
      "               precision    recall  f1-score   support\n",
      "\n",
      "           0       0.63      0.69      0.66     14010\n",
      "           1       0.65      0.59      0.62     13740\n",
      "\n",
      "    accuracy                           0.64     27750\n",
      "   macro avg       0.64      0.64      0.64     27750\n",
      "weighted avg       0.64      0.64      0.64     27750\n",
      "\n",
      "\n",
      "\n",
      "Classification Report for Test Set:\n",
      "               precision    recall  f1-score   support\n",
      "\n",
      "           0       0.63      0.68      0.65      6072\n",
      "           1       0.63      0.58      0.60      5822\n",
      "\n",
      "    accuracy                           0.63     11894\n",
      "   macro avg       0.63      0.63      0.63     11894\n",
      "weighted avg       0.63      0.63      0.63     11894\n",
      "\n",
      "\n",
      "\n",
      "ROC AUC on Train Set:\n",
      " 0.6763240438572157\n",
      "\n",
      "\n",
      "ROC AUC on Test Set:\n",
      " 0.6631603060310512\n",
      "\n",
      "\n",
      "ROC AUC Curve for Train Set:\n",
      "\n",
      "\n"
     ]
    },
    {
     "data": {
      "image/png": "[encoded data removed]",
      "text/plain": [
       "<Figure size 432x288 with 1 Axes>"
      ]
     },
     "metadata": {
      "needs_background": "light"
     },
     "output_type": "display_data"
    },
    {
     "name": "stdout",
     "output_type": "stream",
     "text": [
      "\n",
      "\n",
      "ROC AUC Curve for Test Set:\n",
      "\n",
      "\n"
     ]
    },
    {
     "data": {
      "image/png": "[encoded data removed]",
      "text/plain": [
       "<Figure size 432x288 with 1 Axes>"
      ]
     },
     "metadata": {
      "needs_background": "light"
     },
     "output_type": "display_data"
    },
    {
     "name": "stdout",
     "output_type": "stream",
     "text": [
      "\n",
      "\n"
     ]
    }
   ],
   "source": [
    "dtrscv30 = DecisionTreeClassifier(**rand_search.best_params_)\n",
    "\n",
    "model_compare(dtrscv30, X_train, X_test, y_train, y_test)"
   ]
  },
  {
   "cell_type": "markdown",
   "metadata": {},
   "source": [
    "1: For first try based on these params = {'max_depth': sp_randint(3,30), \n",
    "          'min_samples_split': sp_randint(2,27), \n",
    "          'min_samples_leaf': sp_randint(2,25), \n",
    "          'criterion': ['gini', 'entropy']} we get best parameters like {'criterion': 'entropy', 'max_depth': 3, 'min_samples_leaf': 18, 'min_samples_split': 3} based on that we get roc auc score on train and test is 65 & 64 respectively."
   ]
  },
  {
   "cell_type": "markdown",
   "metadata": {},
   "source": [
    "2: For second try based on these params = {'max_depth': sp_randint(3,27), \n",
    "          'min_samples_split': sp_randint(2,25), \n",
    "          'min_samples_leaf': sp_randint(2,23), \n",
    "          'criterion': ['gini', 'entropy']} we get the best parameters like {'criterion': 'entropy', 'max_depth': 3, 'min_samples_leaf': 18, 'min_samples_split': 3} and based on that we get the roc auc score on train and test is 65 & 64."
   ]
  },
  {
   "cell_type": "markdown",
   "metadata": {},
   "source": [
    "3: For third try based on these params = {'max_depth': sp_randint(3,25), \n",
    "          'min_samples_split': sp_randint(2,22), \n",
    "          'min_samples_leaf': sp_randint(2,20), \n",
    "          'criterion': ['gini', 'entropy']} we get the best parameters like {'criterion': 'entropy', 'max_depth': 3, 'min_samples_leaf': 18, 'min_samples_split': 3} and based on that we get the roc auc score on train and test is 65 & 64 respectively."
   ]
  },
  {
   "cell_type": "markdown",
   "metadata": {},
   "source": [
    "4: For fourth try based on these params = {'max_depth': sp_randint(3,20), \n",
    "          'min_samples_split': sp_randint(2,17), \n",
    "          'min_samples_leaf': sp_randint(2,19), \n",
    "          'criterion': ['gini', 'entropy']} we get the best parameters like {'criterion': 'entropy', 'max_depth': 4, 'min_samples_leaf': 2, 'min_samples_split': 14} based on that we get the roc auc score on train and test is 67 & 66."
   ]
  },
  {
   "cell_type": "markdown",
   "metadata": {},
   "source": [
    "5: For fifth try based on these params {'max_depth': sp_randint(3,15), \n",
    "          'min_samples_split': sp_randint(2,13), \n",
    "          'min_samples_leaf': sp_randint(2,11), \n",
    "          'criterion': ['gini', 'entropy']}\n",
    " we get the best parameters like {'criterion': 'gini', 'max_depth': 3, 'min_samples_leaf': 8, 'min_samples_split': 11} and based on that we get roc auc score on train and test is 65 & 64."
   ]
  },
  {
   "cell_type": "markdown",
   "metadata": {},
   "source": [
    "6: For sixth try based on these params = {'max_depth': sp_randint(3,13), \n",
    "          'min_samples_split': sp_randint(2,10), \n",
    "          'min_samples_leaf': sp_randint(2,9), \n",
    "          'criterion': ['gini', 'entropy']}\n",
    " we get the best parameters like {'criterion': 'entropy', 'max_depth': 4, 'min_samples_leaf': 2, 'min_samples_split': 6} and based on that we get the roc auc score on train and test is 67 & 66."
   ]
  },
  {
   "cell_type": "markdown",
   "metadata": {},
   "source": [
    "7: For seventh try based on these params = {'max_depth': sp_randint(3,10), \n",
    "          'min_samples_split': sp_randint(2,7), \n",
    "          'min_samples_leaf': sp_randint(2,7), \n",
    "          'criterion': ['gini', 'entropy']}\n",
    " we get the best parameters like {'criterion': 'entropy', 'max_depth': 4, 'min_samples_leaf': 5, 'min_samples_split': 2} and based on that we get the same roc auc score on train and test is 67 & 66."
   ]
  },
  {
   "cell_type": "markdown",
   "metadata": {},
   "source": [
    "8: For eight try based on these params = {'max_depth': sp_randint(3,7), \n",
    "          'min_samples_split': sp_randint(2,5), \n",
    "          'min_samples_leaf': sp_randint(2,5), \n",
    "          'criterion': ['gini', 'entropy']}\n",
    "    we get the best parameters like {'criterion': 'entropy', 'max_depth': 4, 'min_samples_leaf': 3, 'min_samples_split': 2} and based on that we get the same roc auc score on train and test is 67 & 66."
   ]
  },
  {
   "cell_type": "markdown",
   "metadata": {},
   "source": [
    "So for the decision tree with 30 important features we will go with models like 5, 7, & 8."
   ]
  },
  {
   "cell_type": "markdown",
   "metadata": {},
   "source": [
    "## Decision Tree with 40 important features with tunning"
   ]
  },
  {
   "cell_type": "code",
   "execution_count": 33,
   "metadata": {},
   "outputs": [
    {
     "data": {
      "text/plain": [
       "Index(['kw_avg_avg', 'data_channel_is_entertainment', 'data_channel_is_tech',\n",
       "       'is_weekend', 'data_channel_is_socmed', 'self_reference_min_shares',\n",
       "       'kw_max_max', 'LDA_02', 'n_unique_tokens', 'kw_max_avg',\n",
       "       'num_self_hrefs', 'data_channel_is_world', 'average_token_length',\n",
       "       'num_keywords', 'data_channel_is_lifestyle', 'n_non_stop_unique_tokens',\n",
       "       'data_channel_is_bus', 'self_reference_max_shares', 'n_non_stop_words',\n",
       "       'kw_avg_max', 'num_hrefs', 'kw_min_min', 'kw_max_min', 'kw_avg_min',\n",
       "       'kw_min_max', 'weekday_is_tuesday', 'kw_min_avg', 'n_tokens_content',\n",
       "       'num_videos', 'n_tokens_title', 'abs_title_sentiment_polarity',\n",
       "       'self_reference_avg_sharess', 'weekday_is_wednesday',\n",
       "       'weekday_is_thursday', 'weekday_is_friday', 'weekday_is_saturday',\n",
       "       'weekday_is_sunday', 'LDA_00', 'LDA_01', 'LDA_03'],\n",
       "      dtype='object')"
      ]
     },
     "execution_count": 33,
     "metadata": {},
     "output_type": "execute_result"
    }
   ],
   "source": [
    "# First 40 Important Features\n",
    "important_features_dt[0:40].index"
   ]
  },
  {
   "cell_type": "code",
   "execution_count": 34,
   "metadata": {},
   "outputs": [],
   "source": [
    "X = X_scaled[['kw_avg_avg', 'data_channel_is_entertainment', 'data_channel_is_tech',\n",
    "       'is_weekend', 'data_channel_is_socmed', 'self_reference_min_shares',\n",
    "       'kw_max_max', 'LDA_02', 'n_unique_tokens', 'kw_max_avg',\n",
    "       'num_self_hrefs', 'n_tokens_content', 'kw_min_avg', 'kw_avg_max',\n",
    "       'kw_min_max', 'kw_avg_min', 'kw_max_min', 'kw_min_min', 'num_hrefs',\n",
    "       'data_channel_is_world', 'n_non_stop_words',\n",
    "       'self_reference_max_shares', 'data_channel_is_bus',\n",
    "       'n_non_stop_unique_tokens', 'data_channel_is_lifestyle', 'num_keywords',\n",
    "       'average_token_length', 'num_videos', 'num_imgs',\n",
    "       'abs_title_sentiment_polarity', 'self_reference_avg_sharess',\n",
    "       'abs_title_subjectivity', 'global_rate_positive_words',\n",
    "       'title_sentiment_polarity', 'title_subjectivity',\n",
    "       'max_negative_polarity', 'min_negative_polarity',\n",
    "       'avg_negative_polarity', 'max_positive_polarity',\n",
    "       'min_positive_polarity']]\n",
    "\n",
    "y = df['class']"
   ]
  },
  {
   "cell_type": "code",
   "execution_count": 35,
   "metadata": {},
   "outputs": [],
   "source": [
    "X_train, X_test, y_train, y_test = train_test_split(X, y, test_size = 0.3, random_state = 0)"
   ]
  },
  {
   "cell_type": "code",
   "execution_count": 36,
   "metadata": {},
   "outputs": [
    {
     "name": "stdout",
     "output_type": "stream",
     "text": [
      "{'criterion': 'gini', 'max_depth': 3, 'min_samples_leaf': 3, 'min_samples_split': 2}\n"
     ]
    }
   ],
   "source": [
    "dtrscv40 = DecisionTreeClassifier(random_state = 0)\n",
    "\n",
    "params = {'max_depth': sp_randint(3,5), \n",
    "          'min_samples_split': sp_randint(2,4), \n",
    "          'min_samples_leaf': sp_randint(2,5), \n",
    "          'criterion': ['gini', 'entropy']}\n",
    "\n",
    "rand_search = RandomizedSearchCV(dtrscv40, param_distributions = params, cv = 5, random_state = 1)\n",
    "\n",
    "rand_search.fit(X,y)\n",
    "\n",
    "print(rand_search.best_params_)"
   ]
  },
  {
   "cell_type": "code",
   "execution_count": 37,
   "metadata": {},
   "outputs": [
    {
     "name": "stdout",
     "output_type": "stream",
     "text": [
      "Accuracy on Train Set: \n",
      " 0.6289729729729729\n",
      "\n",
      "\n",
      "Accuracy on Test Set: \n",
      " 0.6242643349588027\n",
      "\n",
      "\n",
      "Confusion Matrix for Train Set:\n",
      " [[9298 4712]\n",
      " [5584 8156]]\n",
      "\n",
      "\n",
      "Confusion Matrix for Test Set:\n",
      " [[3992 2080]\n",
      " [2389 3433]]\n",
      "\n",
      "\n",
      "Classification Report for Train Set:\n",
      "               precision    recall  f1-score   support\n",
      "\n",
      "           0       0.62      0.66      0.64     14010\n",
      "           1       0.63      0.59      0.61     13740\n",
      "\n",
      "    accuracy                           0.63     27750\n",
      "   macro avg       0.63      0.63      0.63     27750\n",
      "weighted avg       0.63      0.63      0.63     27750\n",
      "\n",
      "\n",
      "\n",
      "Classification Report for Test Set:\n",
      "               precision    recall  f1-score   support\n",
      "\n",
      "           0       0.63      0.66      0.64      6072\n",
      "           1       0.62      0.59      0.61      5822\n",
      "\n",
      "    accuracy                           0.62     11894\n",
      "   macro avg       0.62      0.62      0.62     11894\n",
      "weighted avg       0.62      0.62      0.62     11894\n",
      "\n",
      "\n",
      "\n",
      "ROC AUC on Train Set:\n",
      " 0.658213820030816\n",
      "\n",
      "\n",
      "ROC AUC on Test Set:\n",
      " 0.6498075849453869\n",
      "\n",
      "\n",
      "ROC AUC Curve for Train Set:\n",
      "\n",
      "\n"
     ]
    },
    {
     "data": {
      "image/png": "[encoded data removed]",
      "text/plain": [
       "<Figure size 432x288 with 1 Axes>"
      ]
     },
     "metadata": {
      "needs_background": "light"
     },
     "output_type": "display_data"
    },
    {
     "name": "stdout",
     "output_type": "stream",
     "text": [
      "\n",
      "\n",
      "ROC AUC Curve for Test Set:\n",
      "\n",
      "\n"
     ]
    },
    {
     "data": {
      "image/png": "[encoded data removed]",
      "text/plain": [
       "<Figure size 432x288 with 1 Axes>"
      ]
     },
     "metadata": {
      "needs_background": "light"
     },
     "output_type": "display_data"
    },
    {
     "name": "stdout",
     "output_type": "stream",
     "text": [
      "\n",
      "\n"
     ]
    }
   ],
   "source": [
    "dtrscv40 = DecisionTreeClassifier(**rand_search.best_params_)\n",
    "\n",
    "model_compare(dtrscv40, X_train, X_test, y_train, y_test)"
   ]
  },
  {
   "cell_type": "markdown",
   "metadata": {},
   "source": [
    "1: For first try based on these params = {'max_depth': sp_randint(3,40), \n",
    "          'min_samples_split': sp_randint(2,37), \n",
    "          'min_samples_leaf': sp_randint(2,35), \n",
    "          'criterion': ['gini', 'entropy']} we get best parameters like {'criterion': 'entropy', 'max_depth': 8, 'min_samples_leaf': 17, 'min_samples_split': 2} and based on that we get the roc auc score on train and test 73 & 67 respectively but it is clearly overfitting so we have to tune it to improve the model performance."
   ]
  },
  {
   "cell_type": "markdown",
   "metadata": {},
   "source": [
    "2: For second try based on these params = {'max_depth': sp_randint(3,37), \n",
    "          'min_samples_split': sp_randint(2,35), \n",
    "          'min_samples_leaf': sp_randint(2,33), \n",
    "          'criterion': ['gini', 'entropy']} we get the best parameters like {'criterion': 'entropy', 'max_depth': 8, 'min_samples_leaf': 17, 'min_samples_split': 2} and based on that we get the roc auc score on train and test of 73 & 67."
   ]
  },
  {
   "cell_type": "markdown",
   "metadata": {},
   "source": [
    "3: For third try based on these params = {'max_depth': sp_randint(3,35), \n",
    "          'min_samples_split': sp_randint(2,33), \n",
    "          'min_samples_leaf': sp_randint(2,30), \n",
    "          'criterion': ['gini', 'entropy']} we get best parameters like {'criterion': 'gini', 'max_depth': 8, 'min_samples_leaf': 20, 'min_samples_split': 22} and based on that we get the roc auc score on train and test is 73 & 67 respectively."
   ]
  },
  {
   "cell_type": "markdown",
   "metadata": {},
   "source": [
    "4: For fourth try based on these params = {'max_depth': sp_randint(3,30), \n",
    "          'min_samples_split': sp_randint(2,27), \n",
    "          'min_samples_leaf': sp_randint(2,25), \n",
    "          'criterion': ['gini', 'entropy']} we get best parameters like {'criterion': 'entropy', 'max_depth': 3, 'min_samples_leaf': 18, 'min_samples_split': 3} and based on that we get roc auc score on train and test is 65 and 64."
   ]
  },
  {
   "cell_type": "markdown",
   "metadata": {},
   "source": [
    "5: For fifth try based on these params = {'max_depth': sp_randint(3,27), \n",
    "          'min_samples_split': sp_randint(2,25), \n",
    "          'min_samples_leaf': sp_randint(2,23), \n",
    "          'criterion': ['gini', 'entropy']} we get the best parameters like {'criterion': 'entropy', 'max_depth': 3, 'min_samples_leaf': 18, 'min_samples_split': 3} and based on that we get the roc auc score on train and test is 65 & 64."
   ]
  },
  {
   "cell_type": "markdown",
   "metadata": {},
   "source": [
    "6: For sixth try based on these params = {'max_depth': sp_randint(3,20), \n",
    "          'min_samples_split': sp_randint(2,25), \n",
    "          'min_samples_leaf': sp_randint(2,17), \n",
    "          'criterion': ['gini', 'entropy']} we get the best parameters like {'criterion': 'entropy', 'max_depth': 4, 'min_samples_leaf': 2, 'min_samples_split': 19} and based on that we get the roc auc score on train and test is 67 & 66."
   ]
  },
  {
   "cell_type": "markdown",
   "metadata": {},
   "source": [
    "7: For seventh try based on these params = {'max_depth': sp_randint(3,17), \n",
    "          'min_samples_split': sp_randint(2,20), \n",
    "          'min_samples_leaf': sp_randint(2,15), \n",
    "          'criterion': ['gini', 'entropy']} we get the best parameters like {'criterion': 'entropy', 'max_depth': 5, 'min_samples_leaf': 6, 'min_samples_split': 7} and based on that we get the roc auc score on train and test is 69 and 67 respectively."
   ]
  },
  {
   "cell_type": "markdown",
   "metadata": {},
   "source": [
    "8: For eight try based on these params = {'max_depth': sp_randint(3,13), \n",
    "          'min_samples_split': sp_randint(2,15), \n",
    "          'min_samples_leaf': sp_randint(2,11), \n",
    "          'criterion': ['gini', 'entropy']} we get the best parameters like {'criterion': 'gini', 'max_depth': 6, 'min_samples_leaf': 10, 'min_samples_split': 9} and based on that we get the roc auc score on train and test is 70 and 67 respectively."
   ]
  },
  {
   "cell_type": "markdown",
   "metadata": {},
   "source": [
    "9: For ninth try based on these params = {'max_depth': sp_randint(3,10), \n",
    "          'min_samples_split': sp_randint(2,11), \n",
    "          'min_samples_leaf': sp_randint(2,7), \n",
    "          'criterion': ['gini', 'entropy']} we get the best parameters like {'criterion': 'entropy', 'max_depth': 6, 'min_samples_leaf': 6, 'min_samples_split': 10} and based on that we get the roc auc score on train and test is 70 and 67 respectively."
   ]
  },
  {
   "cell_type": "markdown",
   "metadata": {},
   "source": [
    "10: For tenth try based on these params = {'max_depth': sp_randint(3,7), `\n",
    "          'min_samples_split': sp_randint(2,5), \n",
    "          'min_samples_leaf': sp_randint(2,7), \n",
    "          'criterion': ['gini', 'entropy']} we get the best parameters like {'criterion': 'entropy', 'max_depth': 6, 'min_samples_leaf': 3, 'min_samples_split': 3} and based on that we get the roc auc score on train and test is 70 and 67 respectively."
   ]
  },
  {
   "cell_type": "markdown",
   "metadata": {},
   "source": [
    "11: For elventh try based on these params = {'max_depth': sp_randint(3,5), \n",
    "          'min_samples_split': sp_randint(2,4), \n",
    "          'min_samples_leaf': sp_randint(2,5), \n",
    "          'criterion': ['gini', 'entropy']} we get the best parameters like {'criterion': 'gini', 'max_depth': 3, 'min_samples_leaf': 3, 'min_samples_split': 2} and based on that we get the roc auc score on train and test is 65 and 64 respectively."
   ]
  },
  {
   "cell_type": "markdown",
   "metadata": {},
   "source": [
    "So for decision tree with 40 features we will go with 8,6,7 models"
   ]
  },
  {
   "cell_type": "markdown",
   "metadata": {},
   "source": [
    "## Random Forest"
   ]
  },
  {
   "cell_type": "code",
   "execution_count": 38,
   "metadata": {},
   "outputs": [],
   "source": [
    "rfc = RandomForestClassifier()"
   ]
  },
  {
   "cell_type": "code",
   "execution_count": 39,
   "metadata": {},
   "outputs": [],
   "source": [
    "X = X_scaled\n",
    "y = df['class']"
   ]
  },
  {
   "cell_type": "code",
   "execution_count": 40,
   "metadata": {},
   "outputs": [
    {
     "name": "stdout",
     "output_type": "stream",
     "text": [
      "Accuracy on Train Set: \n",
      " 0.9856216216216216\n",
      "\n",
      "\n",
      "Accuracy on Test Set: \n",
      " 0.6164452665209349\n",
      "\n",
      "\n",
      "Confusion Matrix for Train Set:\n",
      " [[13943    67]\n",
      " [  332 13408]]\n",
      "\n",
      "\n",
      "Confusion Matrix for Test Set:\n",
      " [[4276 1796]\n",
      " [2766 3056]]\n",
      "\n",
      "\n",
      "Classification Report for Train Set:\n",
      "               precision    recall  f1-score   support\n",
      "\n",
      "           0       0.98      1.00      0.99     14010\n",
      "           1       1.00      0.98      0.99     13740\n",
      "\n",
      "    accuracy                           0.99     27750\n",
      "   macro avg       0.99      0.99      0.99     27750\n",
      "weighted avg       0.99      0.99      0.99     27750\n",
      "\n",
      "\n",
      "\n",
      "Classification Report for Test Set:\n",
      "               precision    recall  f1-score   support\n",
      "\n",
      "           0       0.61      0.70      0.65      6072\n",
      "           1       0.63      0.52      0.57      5822\n",
      "\n",
      "    accuracy                           0.62     11894\n",
      "   macro avg       0.62      0.61      0.61     11894\n",
      "weighted avg       0.62      0.62      0.61     11894\n",
      "\n",
      "\n",
      "\n",
      "ROC AUC on Train Set:\n",
      " 0.9990827408577986\n",
      "\n",
      "\n",
      "ROC AUC on Test Set:\n",
      " 0.6588730663165342\n",
      "\n",
      "\n",
      "ROC AUC Curve for Train Set:\n",
      "\n",
      "\n"
     ]
    },
    {
     "data": {
      "image/png": "[encoded data removed]",
      "text/plain": [
       "<Figure size 432x288 with 1 Axes>"
      ]
     },
     "metadata": {
      "needs_background": "light"
     },
     "output_type": "display_data"
    },
    {
     "name": "stdout",
     "output_type": "stream",
     "text": [
      "\n",
      "\n",
      "ROC AUC Curve for Test Set:\n",
      "\n",
      "\n"
     ]
    },
    {
     "data": {
      "image/png": "[encoded data removed]",
      "text/plain": [
       "<Figure size 432x288 with 1 Axes>"
      ]
     },
     "metadata": {
      "needs_background": "light"
     },
     "output_type": "display_data"
    },
    {
     "name": "stdout",
     "output_type": "stream",
     "text": [
      "\n",
      "\n"
     ]
    }
   ],
   "source": [
    "model_compare(rfc, X_train, X_test, y_train, y_test)"
   ]
  },
  {
   "cell_type": "markdown",
   "metadata": {},
   "source": [
    "From the above results we can clearly see that our base model for random forest is overfitting so we have to tune the paramerters for Random Forest"
   ]
  },
  {
   "cell_type": "markdown",
   "metadata": {},
   "source": [
    "## Hyper-Parameter Tunning for Random Forest"
   ]
  },
  {
   "cell_type": "code",
   "execution_count": 41,
   "metadata": {},
   "outputs": [],
   "source": [
    "from scipy.stats import randint as sp_randint"
   ]
  },
  {
   "cell_type": "code",
   "execution_count": 42,
   "metadata": {},
   "outputs": [],
   "source": [
    "from sklearn.model_selection import GridSearchCV, RandomizedSearchCV"
   ]
  },
  {
   "cell_type": "code",
   "execution_count": 43,
   "metadata": {},
   "outputs": [
    {
     "name": "stdout",
     "output_type": "stream",
     "text": [
      "{'criterion': 'entropy', 'max_depth': 6, 'min_samples_leaf': 5, 'min_samples_split': 5, 'n_estimators': 10}\n"
     ]
    }
   ],
   "source": [
    "rfrscvall = RandomForestClassifier(random_state = 0)\n",
    "\n",
    "params = {'n_estimators': sp_randint(3,12), \n",
    "          'criterion': ['gini', 'entropy'], \n",
    "          'max_depth': sp_randint(3,15), \n",
    "          'min_samples_split': sp_randint(2,13),\n",
    "          'min_samples_leaf': sp_randint(2,11)}\n",
    "\n",
    "rand_search = RandomizedSearchCV(rfrscvall, param_distributions = params, cv = 5, random_state = 0)\n",
    "\n",
    "rand_search.fit(X,y)\n",
    "\n",
    "print(rand_search.best_params_)"
   ]
  },
  {
   "cell_type": "code",
   "execution_count": 44,
   "metadata": {},
   "outputs": [],
   "source": [
    "X_train, X_test, y_train, y_test = train_test_split(X, y, test_size = 0.3, random_state = 0)"
   ]
  },
  {
   "cell_type": "code",
   "execution_count": 45,
   "metadata": {},
   "outputs": [
    {
     "name": "stdout",
     "output_type": "stream",
     "text": [
      "Accuracy on Train Set: \n",
      " 0.6695135135135135\n",
      "\n",
      "\n",
      "Accuracy on Test Set: \n",
      " 0.6422565999663696\n",
      "\n",
      "\n",
      "Confusion Matrix for Train Set:\n",
      " [[9606 4404]\n",
      " [4767 8973]]\n",
      "\n",
      "\n",
      "Confusion Matrix for Test Set:\n",
      " [[4008 2064]\n",
      " [2191 3631]]\n",
      "\n",
      "\n",
      "Classification Report for Train Set:\n",
      "               precision    recall  f1-score   support\n",
      "\n",
      "           0       0.67      0.69      0.68     14010\n",
      "           1       0.67      0.65      0.66     13740\n",
      "\n",
      "    accuracy                           0.67     27750\n",
      "   macro avg       0.67      0.67      0.67     27750\n",
      "weighted avg       0.67      0.67      0.67     27750\n",
      "\n",
      "\n",
      "\n",
      "Classification Report for Test Set:\n",
      "               precision    recall  f1-score   support\n",
      "\n",
      "           0       0.65      0.66      0.65      6072\n",
      "           1       0.64      0.62      0.63      5822\n",
      "\n",
      "    accuracy                           0.64     11894\n",
      "   macro avg       0.64      0.64      0.64     11894\n",
      "weighted avg       0.64      0.64      0.64     11894\n",
      "\n",
      "\n",
      "\n",
      "ROC AUC on Train Set:\n",
      " 0.7305484853301916\n",
      "\n",
      "\n",
      "ROC AUC on Test Set:\n",
      " 0.700625911143457\n",
      "\n",
      "\n",
      "ROC AUC Curve for Train Set:\n",
      "\n",
      "\n"
     ]
    },
    {
     "data": {
      "image/png": "[encoded data removed]",
      "text/plain": [
       "<Figure size 432x288 with 1 Axes>"
      ]
     },
     "metadata": {
      "needs_background": "light"
     },
     "output_type": "display_data"
    },
    {
     "name": "stdout",
     "output_type": "stream",
     "text": [
      "\n",
      "\n",
      "ROC AUC Curve for Test Set:\n",
      "\n",
      "\n"
     ]
    },
    {
     "data": {
      "image/png": "[encoded data removed]",
      "text/plain": [
       "<Figure size 432x288 with 1 Axes>"
      ]
     },
     "metadata": {
      "needs_background": "light"
     },
     "output_type": "display_data"
    },
    {
     "name": "stdout",
     "output_type": "stream",
     "text": [
      "\n",
      "\n"
     ]
    }
   ],
   "source": [
    "rfrscvall = RandomForestClassifier(**rand_search.best_params_)\n",
    "model_compare(rfrscvall, X_train, X_test, y_train, y_test)"
   ]
  },
  {
   "cell_type": "markdown",
   "metadata": {},
   "source": [
    "## With All features"
   ]
  },
  {
   "cell_type": "markdown",
   "metadata": {},
   "source": [
    "1: for first try with these params ={'n_estimators': sp_randint(5,58),\n",
    "         'criterion': ['gini', 'entropy'],\n",
    "         'max_depth': sp_randint(2,57), \n",
    "         'min_samples_split': sp_randint(2,55),\n",
    "         'min_samples_leaf': sp_randint(2,53)}\n",
    " we get this parameters like {'criterion': 'gini', 'max_depth': 20, 'min_samples_leaf': 37, 'min_samples_split': 26, 'n_estimators': 54} and based on that we get the roc auc score on train and test is 81 & 71 respectively."
   ]
  },
  {
   "cell_type": "markdown",
   "metadata": {},
   "source": [
    "2: for second try with these params ={'n_estimators': sp_randint(3,50),\n",
    "         'criterion': ['gini', 'entropy'],\n",
    "         'max_depth': sp_randint(2,55), \n",
    "         'min_samples_split': sp_randint(2,47),\n",
    "         'min_samples_leaf': sp_randint(2,45)} we get this parameters like {'criterion': 'entropy', 'max_depth': 34, 'min_samples_leaf': 33, 'min_samples_split': 12, 'n_estimators': 26} and based on that we get the roc auc score on train and test is 82 & 71 respectively."
   ]
  },
  {
   "cell_type": "markdown",
   "metadata": {},
   "source": [
    "3: for third try with these params = {'n_estimators': sp_randint(3,45),\n",
    "         'criterion': ['gini', 'entropy'],\n",
    "         'max_depth': sp_randint(2,50), \n",
    "         'min_samples_split': sp_randint(2,40),\n",
    "         'min_samples_leaf': sp_randint(2,43)} we get the best parameters like {'criterion': 'entropy', 'max_depth': 11, 'min_samples_leaf': 21, 'min_samples_split': 23, 'n_estimators': 39} and based on that we get roc auc score on train and test is 81 & 71."
   ]
  },
  {
   "cell_type": "markdown",
   "metadata": {},
   "source": [
    "4: For fourth try based on these params = {'n_estimators': sp_randint(3,35),\n",
    "         'criterion': ['gini', 'entropy'],\n",
    "         'max_depth': sp_randint(2,37), \n",
    "         'min_samples_split': sp_randint(2,33),\n",
    "         'min_samples_leaf': sp_randint(2,35)} we get the best parameters like {'criterion': 'entropy', 'max_depth': 34, 'min_samples_leaf': 33, 'min_samples_split': 12, 'n_estimators': 23} and based on that we get roc auc score on train and test is 81 & 71"
   ]
  },
  {
   "cell_type": "markdown",
   "metadata": {},
   "source": [
    "5: For fifth try based on these params = {'n_estimators': sp_randint(3,30),\n",
    "         'criterion': ['gini', 'entropy'],\n",
    "         'max_depth': sp_randint(2,35), \n",
    "         'min_samples_split': sp_randint(2,30),\n",
    "         'min_samples_leaf': sp_randint(2,33)} we get the best parameters like {'criterion': 'gini', 'max_depth': 26, 'min_samples_leaf': 19, 'min_samples_split': 7, 'n_estimators': 28} and based on that we get the roc auc score on train and test is 86 & 71."
   ]
  },
  {
   "cell_type": "markdown",
   "metadata": {},
   "source": [
    "6: For sixth try based on these params = {'n_estimators': sp_randint(3,25),\n",
    "         'criterion': ['gini', 'entropy'],\n",
    "         'max_depth': sp_randint(2,30), \n",
    "         'min_samples_split': sp_randint(2,27),\n",
    "         'min_samples_leaf': sp_randint(2,29)} we get the best parameters like {'criterion': 'entropy', 'max_depth': 26, 'min_samples_leaf': 19, 'min_samples_split': 21, 'n_estimators': 22} and based on that we get roc auc score on train and test is 87 & 71."
   ]
  },
  {
   "cell_type": "markdown",
   "metadata": {},
   "source": [
    "7: For seventh try based on these params = {'n_estimators': sp_randint(3,20),\n",
    "         'criterion': ['gini', 'entropy'],\n",
    "         'max_depth': sp_randint(3,25), \n",
    "         'min_samples_split': sp_randint(2,23),\n",
    "         'min_samples_leaf': sp_randint(2,25)} we get the best parameters like {'criterion': 'gini', 'max_depth': 6, 'min_samples_leaf': 19, 'min_samples_split': 21, 'n_estimators': 17} and based on that we get roc auc score on train and test is 73 & 70."
   ]
  },
  {
   "cell_type": "markdown",
   "metadata": {},
   "source": [
    "8: For eight try based on these params = {'n_estimators': sp_randint(3,17),\n",
    "         'criterion': ['gini', 'entropy'],\n",
    "         'max_depth': sp_randint(3,20), \n",
    "         'min_samples_split': sp_randint(2,19),\n",
    "         'min_samples_leaf': sp_randint(2,21)} we get the best parameters like {'criterion': 'entropy', 'max_depth': 17, 'min_samples_leaf': 19, 'min_samples_split': 7, 'n_estimators': 12} and based on that we get the roc auc score on train and test is 85 & 70."
   ]
  },
  {
   "cell_type": "markdown",
   "metadata": {},
   "source": [
    "9: For ninth try based on these \n",
    "params = {'n_estimators': sp_randint(3,15),\n",
    "         'criterion': ['gini', 'entropy'],\n",
    "         'max_depth': sp_randint(3,17), \n",
    "         'min_samples_split': sp_randint(2,15),\n",
    "         'min_samples_leaf': sp_randint(2,17)} we get the best parameters like {'criterion': 'entropy', 'max_depth': 12, 'min_samples_leaf': 15, 'min_samples_split': 10, 'n_estimators': 12} and based on that we get roc auc score on train and test is 83 & 70."
   ]
  },
  {
   "cell_type": "markdown",
   "metadata": {},
   "source": [
    "10: For tenth try based on these params = {'n_estimators': sp_randint(3,12),\n",
    "         'criterion': ['gini', 'entropy'],\n",
    "         'max_depth': sp_randint(3,15), \n",
    "         'min_samples_split': sp_randint(2,13),\n",
    "         'min_samples_leaf': sp_randint(2,11)} we get the best parameters like {'criterion': 'entropy', 'max_depth': 6, 'min_samples_leaf': 5, 'min_samples_split': 5, 'n_estimators': 10} and based on that we get roc auc score on train and test is 73 & 70."
   ]
  },
  {
   "cell_type": "markdown",
   "metadata": {},
   "source": [
    "11: For eleventh try based on these params = {'n_estimators': sp_randint(3,10),\n",
    "         'criterion': ['gini', 'entropy'],\n",
    "         'max_depth': sp_randint(3,13), \n",
    "         'min_samples_split': sp_randint(2,11),\n",
    "         'min_samples_leaf': sp_randint(2,9)} we get the best parameters like {'criterion': 'entropy', 'max_depth': 10, 'min_samples_leaf': 3, 'min_samples_split': 5, 'n_estimators': 8} and based on that we get roc auc score on train and test is 81 & 70. "
   ]
  },
  {
   "cell_type": "markdown",
   "metadata": {},
   "source": [
    "12: For twevelth try based on these params = {'n_estimators': sp_randint(3,7),\n",
    "         'criterion': ['gini', 'entropy'],\n",
    "         'max_depth': sp_randint(3,11), \n",
    "         'min_samples_split': sp_randint(2,9),\n",
    "         'min_samples_leaf': sp_randint(2,7)} we get the best parameters like {'criterion': 'entropy', 'max_depth': 10, 'min_samples_leaf': 2, 'min_samples_split': 4, 'n_estimators': 6} and based on that we get roc auc score on train and test is 81 & 69."
   ]
  },
  {
   "cell_type": "markdown",
   "metadata": {},
   "source": [
    "13: For thirteen try based on these params = {'n_estimators': sp_randint(3,5),\n",
    "         'criterion': ['gini', 'entropy'],\n",
    "         'max_depth': sp_randint(3,9), \n",
    "         'min_samples_split': sp_randint(2,7),\n",
    "         'min_samples_leaf': sp_randint(2,5)} we get the best parameters like {'criterion': 'gini', 'max_depth': 8, 'min_samples_leaf': 2, 'min_samples_split': 5, 'n_estimators': 4} and based on that we get roc auc score on train and test is 76 & 69."
   ]
  },
  {
   "cell_type": "markdown",
   "metadata": {},
   "source": [
    "14: For fourteen try based on these params = {'n_estimators': sp_randint(3,15),\n",
    "         'criterion': ['gini', 'entropy'],\n",
    "         'max_depth': sp_randint(3,7), \n",
    "         'min_samples_split': sp_randint(2,10),\n",
    "         'min_samples_leaf': sp_randint(2,9)} we get the best parameters like {'criterion': 'entropy', 'max_depth': 6, 'min_samples_leaf': 5, 'min_samples_split': 8, 'n_estimators': 10} and based on that we get roc auc score on train and test is 73 & 69.\n"
   ]
  },
  {
   "cell_type": "markdown",
   "metadata": {},
   "source": [
    "15: For fifteenth try based on these params = {'n_estimators': sp_randint(3,13),\n",
    "         'criterion': ['gini', 'entropy'],\n",
    "         'max_depth': sp_randint(3,10), \n",
    "         'min_samples_split': sp_randint(2,15),\n",
    "         'min_samples_leaf': sp_randint(2,11)}\n",
    " we get the best parameters like {'criterion': 'entropy', 'max_depth': 8, 'min_samples_leaf': 10, 'min_samples_split': 11, 'n_estimators': 7} and based on that we get roc auc score on train and test is 75 & 70."
   ]
  },
  {
   "cell_type": "markdown",
   "metadata": {},
   "source": [
    "After analysing all the results we conclude that for random forest with all features we consider model no 10 which has roc auc score of 73 & 70."
   ]
  },
  {
   "cell_type": "markdown",
   "metadata": {},
   "source": [
    "## Feature Selection and Model Tunning"
   ]
  },
  {
   "cell_type": "code",
   "execution_count": 46,
   "metadata": {},
   "outputs": [
    {
     "data": {
      "image/png": "[encoded data removed]",
      "text/plain": [
       "<Figure size 432x288 with 1 Axes>"
      ]
     },
     "metadata": {
      "needs_background": "light"
     },
     "output_type": "display_data"
    }
   ],
   "source": [
    "feat_importances = pd.Series(rfrscvall.feature_importances_, index=X.columns)\n",
    "feat_importances.nlargest(20).plot(kind='barh')\n",
    "plt.show()"
   ]
  },
  {
   "cell_type": "code",
   "execution_count": 47,
   "metadata": {},
   "outputs": [],
   "source": [
    "# Reorder by importance\n",
    "feat_importances = feat_importances.sort_values(ascending = False)"
   ]
  },
  {
   "cell_type": "code",
   "execution_count": 48,
   "metadata": {},
   "outputs": [],
   "source": [
    "# Converting to Data Frame\n",
    "important_features = feat_importances.to_frame()"
   ]
  },
  {
   "cell_type": "code",
   "execution_count": 49,
   "metadata": {},
   "outputs": [
    {
     "data": {
      "text/plain": [
       "Index(['kw_avg_avg', 'self_reference_min_shares', 'kw_max_avg',\n",
       "       'self_reference_max_shares', 'LDA_02', 'is_weekend',\n",
       "       'self_reference_avg_sharess', 'data_channel_is_entertainment',\n",
       "       'data_channel_is_world', 'min_positive_polarity', 'global_subjectivity',\n",
       "       'data_channel_is_socmed', 'kw_min_avg', 'num_hrefs', 'kw_avg_min',\n",
       "       'weekday_is_saturday', 'LDA_04', 'kw_avg_max', 'LDA_01', 'num_imgs'],\n",
       "      dtype='object')"
      ]
     },
     "execution_count": 49,
     "metadata": {},
     "output_type": "execute_result"
    }
   ],
   "source": [
    "# First 20 Important Features\n",
    "important_features[0:20].index"
   ]
  },
  {
   "cell_type": "markdown",
   "metadata": {},
   "source": [
    "## Random Forest with 20 most important Features without Hyperparameter tunning"
   ]
  },
  {
   "cell_type": "code",
   "execution_count": 50,
   "metadata": {},
   "outputs": [],
   "source": [
    "X = X_scaled[['kw_avg_avg', 'kw_max_avg', 'data_channel_is_entertainment',\n",
    "       'self_reference_avg_sharess', 'is_weekend', 'LDA_02',\n",
    "       'self_reference_min_shares', 'self_reference_max_shares',\n",
    "       'data_channel_is_world', 'LDA_04', 'kw_min_avg',\n",
    "       'data_channel_is_socmed', 'rate_negative_words', 'LDA_01', 'LDA_00',\n",
    "       'weekday_is_saturday', 'num_hrefs', 'kw_min_min',\n",
    "       'n_non_stop_unique_tokens', 'data_channel_is_tech']]\n",
    "\n",
    "y = df['class']"
   ]
  },
  {
   "cell_type": "code",
   "execution_count": 51,
   "metadata": {},
   "outputs": [],
   "source": [
    "X_train, X_test, y_train, y_test = train_test_split(X, y, test_size = 0.3, random_state = 0)"
   ]
  },
  {
   "cell_type": "markdown",
   "metadata": {},
   "source": [
    "## Random Forest with hyper-parameter tunning and 20 Most Important Features"
   ]
  },
  {
   "cell_type": "code",
   "execution_count": 52,
   "metadata": {},
   "outputs": [
    {
     "name": "stdout",
     "output_type": "stream",
     "text": [
      "{'criterion': 'entropy', 'max_depth': 4, 'min_samples_leaf': 2, 'min_samples_split': 3, 'n_estimators': 4}\n"
     ]
    }
   ],
   "source": [
    "rfrscv20 = RandomForestClassifier(random_state = 0)\n",
    "\n",
    "params = {'n_estimators': sp_randint(3,5),\n",
    "         'criterion': ['gini', 'entropy'],\n",
    "         'max_depth': sp_randint(2,5), \n",
    "         'min_samples_split': sp_randint(2,5),\n",
    "         'min_samples_leaf': sp_randint(2,7)}\n",
    "\n",
    "rand_search = RandomizedSearchCV(rfrscv20, param_distributions = params, cv = 5, random_state = 0)\n",
    "\n",
    "rand_search.fit(X,y)\n",
    "\n",
    "print(rand_search.best_params_)"
   ]
  },
  {
   "cell_type": "code",
   "execution_count": 53,
   "metadata": {},
   "outputs": [],
   "source": [
    "X_train, X_test, y_train, y_test = train_test_split(X, y, test_size = 0.3, random_state = 0)"
   ]
  },
  {
   "cell_type": "code",
   "execution_count": 54,
   "metadata": {},
   "outputs": [
    {
     "name": "stdout",
     "output_type": "stream",
     "text": [
      "Accuracy on Train Set: \n",
      " 0.640936936936937\n",
      "\n",
      "\n",
      "Accuracy on Test Set: \n",
      " 0.6364553556414999\n",
      "\n",
      "\n",
      "Confusion Matrix for Train Set:\n",
      " [[8906 5104]\n",
      " [4860 8880]]\n",
      "\n",
      "\n",
      "Confusion Matrix for Test Set:\n",
      " [[3815 2257]\n",
      " [2067 3755]]\n",
      "\n",
      "\n",
      "Classification Report for Train Set:\n",
      "               precision    recall  f1-score   support\n",
      "\n",
      "           0       0.65      0.64      0.64     14010\n",
      "           1       0.64      0.65      0.64     13740\n",
      "\n",
      "    accuracy                           0.64     27750\n",
      "   macro avg       0.64      0.64      0.64     27750\n",
      "weighted avg       0.64      0.64      0.64     27750\n",
      "\n",
      "\n",
      "\n",
      "Classification Report for Test Set:\n",
      "               precision    recall  f1-score   support\n",
      "\n",
      "           0       0.65      0.63      0.64      6072\n",
      "           1       0.62      0.64      0.63      5822\n",
      "\n",
      "    accuracy                           0.64     11894\n",
      "   macro avg       0.64      0.64      0.64     11894\n",
      "weighted avg       0.64      0.64      0.64     11894\n",
      "\n",
      "\n",
      "\n",
      "ROC AUC on Train Set:\n",
      " 0.6941159776703478\n",
      "\n",
      "\n",
      "ROC AUC on Test Set:\n",
      " 0.6864372774614849\n",
      "\n",
      "\n",
      "ROC AUC Curve for Train Set:\n",
      "\n",
      "\n"
     ]
    },
    {
     "data": {
      "image/png": "[encoded data removed]",
      "text/plain": [
       "<Figure size 432x288 with 1 Axes>"
      ]
     },
     "metadata": {
      "needs_background": "light"
     },
     "output_type": "display_data"
    },
    {
     "name": "stdout",
     "output_type": "stream",
     "text": [
      "\n",
      "\n",
      "ROC AUC Curve for Test Set:\n",
      "\n",
      "\n"
     ]
    },
    {
     "data": {
      "image/png": "[encoded data removed]",
      "text/plain": [
       "<Figure size 432x288 with 1 Axes>"
      ]
     },
     "metadata": {
      "needs_background": "light"
     },
     "output_type": "display_data"
    },
    {
     "name": "stdout",
     "output_type": "stream",
     "text": [
      "\n",
      "\n"
     ]
    }
   ],
   "source": [
    "rfrscv20 = RandomForestClassifier(**rand_search.best_params_)\n",
    "model_compare(rfrscv20, X_train, X_test, y_train, y_test)"
   ]
  },
  {
   "cell_type": "markdown",
   "metadata": {},
   "source": [
    "1.for first try with these params = {'n_estimators': sp_randint(3,20),\n",
    "         'criterion': ['gini', 'entropy'],\n",
    "         'max_depth': sp_randint(2,20), \n",
    "         'min_samples_split': sp_randint(2,17),\n",
    "         'min_samples_leaf': sp_randint(2,19)} we get the best parameters like {'criterion': 'gini', 'max_depth':7,'min_samples_leaf': 8, 'min_samples_split': 10, 'n_estimators': 18} and based on that we get roc auc score on train & test 74 & 70."
   ]
  },
  {
   "cell_type": "markdown",
   "metadata": {},
   "source": [
    "2.For second try with these params = {'n_estimators': sp_randint(3,15),\n",
    "         'criterion': ['gini', 'entropy'],\n",
    "         'max_depth': sp_randint(2,17), \n",
    "         'min_samples_split': sp_randint(2,15),\n",
    "         'min_samples_leaf': sp_randint(2,13)} we get the best parameters like {'criterion': 'gini', 'max_depth': 7, 'min_samples_leaf': 2, 'min_samples_split': 5, 'n_estimators': 14} and based on that we get roc auc score on train and test is 74 & 70."
   ]
  },
  {
   "cell_type": "markdown",
   "metadata": {},
   "source": [
    "3.For third try with these params = {'n_estimators': sp_randint(3,13),\n",
    "         'criterion': ['gini', 'entropy'],\n",
    "         'max_depth': sp_randint(2,15), \n",
    "         'min_samples_split': sp_randint(2,12),\n",
    "         'min_samples_leaf': sp_randint(2,11)} we get the best parameters like {'criterion': 'gini', 'max_depth': 9, 'min_samples_leaf': 8, 'min_samples_split': 10, 'n_estimators': 11} and based on that we get roc auc score on train and test is 77 & 70."
   ]
  },
  {
   "cell_type": "markdown",
   "metadata": {},
   "source": [
    "4.For fourth try with these params = {'n_estimators': sp_randint(3,10),\n",
    "         'criterion': ['gini', 'entropy'],\n",
    "         'max_depth': sp_randint(2,11), \n",
    "         'min_samples_split': sp_randint(2,9),\n",
    "         'min_samples_leaf': sp_randint(2,7)} we get the best parameters like {'criterion': 'entropy', 'max_depth': 9, 'min_samples_leaf': 3, 'min_samples_split': 5, 'n_estimators': 8} and based on that we get the roc auc score on train and test is 77 & 70."
   ]
  },
  {
   "cell_type": "markdown",
   "metadata": {},
   "source": [
    "5 For fifth try with these params = {'n_estimators': sp_randint(3,9),\n",
    "         'criterion': ['gini', 'entropy'],\n",
    "         'max_depth': sp_randint(2,10), \n",
    "         'min_samples_split': sp_randint(2,10),\n",
    "         'min_samples_leaf': sp_randint(2,11)} we get this best parameters like {'criterion': 'entropy', 'max_depth': 7, 'min_samples_leaf': 10, 'min_samples_split': 3, 'n_estimators': 7} and based on that we get roc auc score on train and test 73 & 70."
   ]
  },
  {
   "cell_type": "markdown",
   "metadata": {},
   "source": [
    "6 For sixth try with these params = {'n_estimators': sp_randint(3,7),\n",
    "         'criterion': ['gini', 'entropy'],\n",
    "         'max_depth': sp_randint(2,9), \n",
    "         'min_samples_split': sp_randint(2,5),\n",
    "         'min_samples_leaf': sp_randint(2,10)} we get this best parameters like {'criterion': 'entropy', 'max_depth': 7, 'min_samples_leaf': 5, 'min_samples_split': 4, 'n_estimators': 6} and based on that we get roc auc score on train and test 73 & 69."
   ]
  },
  {
   "cell_type": "markdown",
   "metadata": {},
   "source": [
    "7: For seventh try with these params = {'n_estimators': sp_randint(3,5),\n",
    "         'criterion': ['gini', 'entropy'],\n",
    "         'max_depth': sp_randint(2,5), \n",
    "         'min_samples_split': sp_randint(2,5),\n",
    "         'min_samples_leaf': sp_randint(2,7)} we get this parameters like {'criterion': 'entropy', 'max_depth': 4, 'min_samples_leaf': 2, 'min_samples_split': 3, 'n_estimators': 4} and we get roc auc score on train and test 69 & 68."
   ]
  },
  {
   "cell_type": "markdown",
   "metadata": {},
   "source": [
    "So our final model with 20 features we will go with 5 & 7 model respectively."
   ]
  },
  {
   "cell_type": "markdown",
   "metadata": {},
   "source": [
    "## Now Let build Random Forest with 30 Most Important Features without hyperparameter tunning"
   ]
  },
  {
   "cell_type": "code",
   "execution_count": 55,
   "metadata": {},
   "outputs": [
    {
     "data": {
      "text/plain": [
       "Index(['kw_avg_avg', 'self_reference_min_shares', 'kw_max_avg',\n",
       "       'self_reference_max_shares', 'LDA_02', 'is_weekend',\n",
       "       'self_reference_avg_sharess', 'data_channel_is_entertainment',\n",
       "       'data_channel_is_world', 'min_positive_polarity', 'global_subjectivity',\n",
       "       'data_channel_is_socmed', 'kw_min_avg', 'num_hrefs', 'kw_avg_min',\n",
       "       'weekday_is_saturday', 'LDA_04', 'kw_avg_max', 'LDA_01', 'num_imgs',\n",
       "       'n_tokens_content', 'n_non_stop_unique_tokens',\n",
       "       'global_sentiment_polarity', 'LDA_03', 'weekday_is_sunday', 'LDA_00',\n",
       "       'data_channel_is_tech', 'n_unique_tokens', 'kw_max_min', 'kw_max_max'],\n",
       "      dtype='object')"
      ]
     },
     "execution_count": 55,
     "metadata": {},
     "output_type": "execute_result"
    }
   ],
   "source": [
    "# First 30 Important Features\n",
    "important_features[0:30].index"
   ]
  },
  {
   "cell_type": "code",
   "execution_count": 56,
   "metadata": {},
   "outputs": [],
   "source": [
    "X = X_scaled[['kw_avg_avg', 'kw_max_avg', 'data_channel_is_entertainment',\n",
    "       'self_reference_avg_sharess', 'is_weekend', 'LDA_02',\n",
    "       'self_reference_min_shares', 'self_reference_max_shares',\n",
    "       'data_channel_is_world', 'LDA_04', 'kw_min_avg',\n",
    "       'data_channel_is_socmed', 'rate_negative_words', 'LDA_01', 'LDA_00',\n",
    "       'weekday_is_saturday', 'num_hrefs', 'kw_min_min',\n",
    "       'n_non_stop_unique_tokens', 'data_channel_is_tech',\n",
    "       'global_subjectivity', 'n_unique_tokens', 'kw_avg_min',\n",
    "       'min_positive_polarity', 'n_tokens_content', 'LDA_03', 'kw_min_max',\n",
    "       'kw_max_max', 'num_imgs', 'kw_avg_max']]\n",
    "\n",
    "y = df['class']"
   ]
  },
  {
   "cell_type": "code",
   "execution_count": 57,
   "metadata": {},
   "outputs": [],
   "source": [
    "X_train, X_test, y_train, y_test = train_test_split(X, y, test_size = 0.3, random_state = 0)"
   ]
  },
  {
   "cell_type": "markdown",
   "metadata": {},
   "source": [
    "## Random forest with 30 most important fetures and hyper-parameter tunning on top of it"
   ]
  },
  {
   "cell_type": "code",
   "execution_count": 58,
   "metadata": {},
   "outputs": [
    {
     "name": "stdout",
     "output_type": "stream",
     "text": [
      "{'criterion': 'entropy', 'max_depth': 5, 'min_samples_leaf': 9, 'min_samples_split': 11, 'n_estimators': 22}\n"
     ]
    }
   ],
   "source": [
    "rfrscv30 = RandomForestClassifier(random_state = 0)\n",
    "\n",
    "params = {'n_estimators': sp_randint(3,30), \n",
    "          'criterion': ['gini', 'entropy'], \n",
    "          'max_depth': sp_randint(2,27), \n",
    "          'min_samples_split': sp_randint(2,25), \n",
    "          'min_samples_leaf': sp_randint(2,29)}\n",
    "\n",
    "rand_search = RandomizedSearchCV(rfrscv30, param_distributions = params, cv = 5, random_state = 0)\n",
    "\n",
    "rand_search.fit(X,y)\n",
    "\n",
    "print(rand_search.best_params_)"
   ]
  },
  {
   "cell_type": "code",
   "execution_count": 59,
   "metadata": {},
   "outputs": [
    {
     "name": "stdout",
     "output_type": "stream",
     "text": [
      "Accuracy on Train Set: \n",
      " 0.6618018018018018\n",
      "\n",
      "\n",
      "Accuracy on Test Set: \n",
      " 0.646964856230032\n",
      "\n",
      "\n",
      "Confusion Matrix for Train Set:\n",
      " [[9167 4843]\n",
      " [4542 9198]]\n",
      "\n",
      "\n",
      "Confusion Matrix for Test Set:\n",
      " [[3872 2200]\n",
      " [1999 3823]]\n",
      "\n",
      "\n",
      "Classification Report for Train Set:\n",
      "               precision    recall  f1-score   support\n",
      "\n",
      "           0       0.67      0.65      0.66     14010\n",
      "           1       0.66      0.67      0.66     13740\n",
      "\n",
      "    accuracy                           0.66     27750\n",
      "   macro avg       0.66      0.66      0.66     27750\n",
      "weighted avg       0.66      0.66      0.66     27750\n",
      "\n",
      "\n",
      "\n",
      "Classification Report for Test Set:\n",
      "               precision    recall  f1-score   support\n",
      "\n",
      "           0       0.66      0.64      0.65      6072\n",
      "           1       0.63      0.66      0.65      5822\n",
      "\n",
      "    accuracy                           0.65     11894\n",
      "   macro avg       0.65      0.65      0.65     11894\n",
      "weighted avg       0.65      0.65      0.65     11894\n",
      "\n",
      "\n",
      "\n",
      "ROC AUC on Train Set:\n",
      " 0.7224998519460523\n",
      "\n",
      "\n",
      "ROC AUC on Test Set:\n",
      " 0.7032618907474217\n",
      "\n",
      "\n",
      "ROC AUC Curve for Train Set:\n",
      "\n",
      "\n"
     ]
    },
    {
     "data": {
      "image/png": "[encoded data removed]",
      "text/plain": [
       "<Figure size 432x288 with 1 Axes>"
      ]
     },
     "metadata": {
      "needs_background": "light"
     },
     "output_type": "display_data"
    },
    {
     "name": "stdout",
     "output_type": "stream",
     "text": [
      "\n",
      "\n",
      "ROC AUC Curve for Test Set:\n",
      "\n",
      "\n"
     ]
    },
    {
     "data": {
      "image/png": "[encoded data removed]",
      "text/plain": [
       "<Figure size 432x288 with 1 Axes>"
      ]
     },
     "metadata": {
      "needs_background": "light"
     },
     "output_type": "display_data"
    },
    {
     "name": "stdout",
     "output_type": "stream",
     "text": [
      "\n",
      "\n"
     ]
    }
   ],
   "source": [
    "rfrscv30 = RandomForestClassifier(**rand_search.best_params_)\n",
    "model_compare(rfrscv30, X_train, X_test, y_train, y_test)"
   ]
  },
  {
   "cell_type": "markdown",
   "metadata": {},
   "source": [
    "1: For first try with these params = {'n_estimators': sp_randint(3,30),\n",
    "         'criterion': ['gini', 'entropy'],\n",
    "         'max_depth': sp_randint(2,27), \n",
    "         'min_samples_split': sp_randint(2,25),\n",
    "         'min_samples_leaf': sp_randint(2,29)} we get these best parameters like {'criterion': 'entropy', 'max_depth': 5, 'min_samples_leaf': 9, 'min_samples_split': 11, 'n_estimators': 22} and based on that we get roc auc score on train and test 72 and 70 respectively.\n",
    " "
   ]
  },
  {
   "cell_type": "markdown",
   "metadata": {},
   "source": [
    "2: For second try with these params = {'n_estimators': sp_randint(3,25),\n",
    "         'criterion': ['gini', 'entropy'],\n",
    "         'max_depth': sp_randint(2,23), \n",
    "         'min_samples_split': sp_randint(2,22),\n",
    "         'min_samples_leaf': sp_randint(2,25)} we get these best parameters {'criterion': 'entropy', 'max_depth': 19, 'min_samples_leaf': 21, 'min_samples_split': 21, 'n_estimators': 22} and we get roc auc score on train and test are 84 and 71 respectively.\n"
   ]
  },
  {
   "cell_type": "markdown",
   "metadata": {},
   "source": [
    "3: For Third try with these params = params = {'n_estimators': sp_randint(3,20),\n",
    "         'criterion': ['gini', 'entropy'],\n",
    "         'max_depth': sp_randint(2,19), \n",
    "         'min_samples_split': sp_randint(2,21),\n",
    "         'min_samples_leaf': sp_randint(2,21)} we get these best parameters {'criterion': 'gini', 'max_depth': 11, 'min_samples_leaf': 18, 'min_samples_split': 7, 'n_estimators': 18} and we get roc auc score on train and tes are 80 and 71 respectively."
   ]
  },
  {
   "cell_type": "markdown",
   "metadata": {},
   "source": [
    "4: For Fourth try with these params = {'n_estimators': sp_randint(3,17),\n",
    "         'criterion': ['gini', 'entropy'],\n",
    "         'max_depth': sp_randint(2,17), \n",
    "         'min_samples_split': sp_randint(2,19),\n",
    "         'min_samples_leaf': sp_randint(2,19)}\n",
    " we get these best parameters {'criterion': 'gini', 'max_depth': 6, 'min_samples_leaf': 7, 'min_samples_split': 8, 'n_estimators': 11} and we get roc auc score on train and tes are 73 and 70 respectively."
   ]
  },
  {
   "cell_type": "markdown",
   "metadata": {},
   "source": [
    "5: For Fifth try with these params = {'n_estimators': sp_randint(3,15),\n",
    "         'criterion': ['gini', 'entropy'],\n",
    "         'max_depth': sp_randint(2,15), \n",
    "         'min_samples_split': sp_randint(2,17),\n",
    "         'min_samples_leaf': sp_randint(2,17)}\n",
    " we get these best parameters {'criterion': 'gini', 'max_depth': 6, 'min_samples_leaf': 9, 'min_samples_split': 8, 'n_estimators': 11} and we get roc auc score on train and tes are 73 and 70 respectively"
   ]
  },
  {
   "cell_type": "markdown",
   "metadata": {},
   "source": [
    "6: For Sixth try with these params = {'n_estimators': sp_randint(3,13),\n",
    "         'criterion': ['gini', 'entropy'],\n",
    "         'max_depth': sp_randint(2,11), \n",
    "         'min_samples_split': sp_randint(2,15),\n",
    "         'min_samples_leaf': sp_randint(2,15)} we get these best parameters {'criterion': 'entropy', 'max_depth': 9, 'min_samples_leaf': 2, 'min_samples_split': 3, 'n_estimators': 12} and we get roc auc score on train and test are 79 and 70 respectively."
   ]
  },
  {
   "cell_type": "markdown",
   "metadata": {},
   "source": [
    "7: For Seventh try with these params = {'n_estimators': sp_randint(3,11),\n",
    "         'criterion': ['gini', 'entropy'],\n",
    "         'max_depth': sp_randint(2,10), \n",
    "         'min_samples_split': sp_randint(2,13),\n",
    "         'min_samples_leaf': sp_randint(2,11)}\n",
    "    we get these best parameters {'criterion': 'entropy', 'max_depth': 4, 'min_samples_leaf': 6, 'min_samples_split': 9, 'n_estimators': 9} and we get roc auc score on train and tes are 70 and 69 respectively."
   ]
  },
  {
   "cell_type": "markdown",
   "metadata": {},
   "source": [
    "8: For Eight try with these params = params = {'n_estimators': sp_randint(3,7),\n",
    "         'criterion': ['gini', 'entropy'],\n",
    "         'max_depth': sp_randint(2,5), \n",
    "         'min_samples_split': sp_randint(2,9),\n",
    "         'min_samples_leaf': sp_randint(2,7)} we get best parameters {'criterion': 'gini', 'max_depth': 4, 'min_samples_leaf': 2, 'min_samples_split': 2, 'n_estimators': 3} and we get roc auc score on train and test 69 and 68 respectively."
   ]
  },
  {
   "cell_type": "markdown",
   "metadata": {},
   "source": [
    "So for random forest with 30 features we will go with 8,7, & 1 model."
   ]
  },
  {
   "cell_type": "markdown",
   "metadata": {},
   "source": [
    "## Now Trying with 40 most important features without Hyper-parameter tunning"
   ]
  },
  {
   "cell_type": "code",
   "execution_count": 60,
   "metadata": {},
   "outputs": [
    {
     "data": {
      "text/plain": [
       "Index(['kw_avg_avg', 'self_reference_min_shares', 'kw_max_avg',\n",
       "       'self_reference_max_shares', 'LDA_02', 'is_weekend',\n",
       "       'self_reference_avg_sharess', 'data_channel_is_entertainment',\n",
       "       'data_channel_is_world', 'min_positive_polarity', 'global_subjectivity',\n",
       "       'data_channel_is_socmed', 'kw_min_avg', 'num_hrefs', 'kw_avg_min',\n",
       "       'weekday_is_saturday', 'LDA_04', 'kw_avg_max', 'LDA_01', 'num_imgs',\n",
       "       'n_tokens_content', 'n_non_stop_unique_tokens',\n",
       "       'global_sentiment_polarity', 'LDA_03', 'weekday_is_sunday', 'LDA_00',\n",
       "       'data_channel_is_tech', 'n_unique_tokens', 'kw_max_min', 'kw_max_max',\n",
       "       'global_rate_positive_words', 'average_token_length',\n",
       "       'title_sentiment_polarity', 'global_rate_negative_words',\n",
       "       'num_self_hrefs', 'num_keywords', 'kw_min_max', 'avg_negative_polarity',\n",
       "       'kw_min_min', 'n_tokens_title'],\n",
       "      dtype='object')"
      ]
     },
     "execution_count": 60,
     "metadata": {},
     "output_type": "execute_result"
    }
   ],
   "source": [
    "# First 40 Important Features\n",
    "important_features[0:40].index"
   ]
  },
  {
   "cell_type": "code",
   "execution_count": 61,
   "metadata": {},
   "outputs": [],
   "source": [
    "X = X_scaled[['kw_avg_avg', 'kw_max_avg', 'data_channel_is_entertainment',\n",
    "       'self_reference_avg_sharess', 'is_weekend', 'LDA_02',\n",
    "       'self_reference_min_shares', 'self_reference_max_shares',\n",
    "       'data_channel_is_world', 'LDA_04', 'kw_min_avg',\n",
    "       'data_channel_is_socmed', 'rate_negative_words', 'LDA_01', 'LDA_00',\n",
    "       'weekday_is_saturday', 'num_hrefs', 'kw_min_min',\n",
    "       'n_non_stop_unique_tokens', 'data_channel_is_tech',\n",
    "       'global_subjectivity', 'n_unique_tokens', 'kw_avg_min',\n",
    "       'min_positive_polarity', 'n_tokens_content', 'LDA_03', 'kw_min_max',\n",
    "       'kw_max_max', 'num_imgs', 'kw_avg_max', 'average_token_length',\n",
    "       'data_channel_is_bus', 'weekday_is_sunday',\n",
    "       'global_rate_negative_words', 'global_sentiment_polarity', 'kw_max_min',\n",
    "       'avg_negative_polarity', 'title_sentiment_polarity',\n",
    "       'avg_positive_polarity', 'global_rate_positive_words']]\n",
    "\n",
    "y = df['class']\n",
    "\n",
    "X_train, X_test, y_train, y_test = train_test_split(X, y, test_size = 0.3, random_state = 0)"
   ]
  },
  {
   "cell_type": "markdown",
   "metadata": {},
   "source": [
    "## Now tune the random Forest with 40 best features for improving model performance and reducing overfitting"
   ]
  },
  {
   "cell_type": "code",
   "execution_count": 62,
   "metadata": {},
   "outputs": [
    {
     "name": "stdout",
     "output_type": "stream",
     "text": [
      "{'criterion': 'gini', 'max_depth': 5, 'min_samples_leaf': 2, 'min_samples_split': 4, 'n_estimators': 6}\n"
     ]
    }
   ],
   "source": [
    "rfrscv40 = RandomForestClassifier(random_state = 0)\n",
    "\n",
    "params = {'n_estimators': sp_randint(3,9), \n",
    "          'criterion': ['gini', 'entropy'], \n",
    "          'max_depth': sp_randint(2,7), \n",
    "          'min_samples_split': sp_randint(2,9), \n",
    "          'min_samples_leaf': sp_randint(2,7)}\n",
    "\n",
    "rand_search = RandomizedSearchCV(rfrscv40, param_distributions = params, cv = 5, random_state = 0)\n",
    "\n",
    "rand_search.fit(X,y)\n",
    "\n",
    "print(rand_search.best_params_)"
   ]
  },
  {
   "cell_type": "code",
   "execution_count": 63,
   "metadata": {},
   "outputs": [
    {
     "name": "stdout",
     "output_type": "stream",
     "text": [
      "Accuracy on Train Set: \n",
      " 0.6534774774774775\n",
      "\n",
      "\n",
      "Accuracy on Test Set: \n",
      " 0.6451992601311586\n",
      "\n",
      "\n",
      "Confusion Matrix for Train Set:\n",
      " [[8911 5099]\n",
      " [4517 9223]]\n",
      "\n",
      "\n",
      "Confusion Matrix for Test Set:\n",
      " [[3812 2260]\n",
      " [1960 3862]]\n",
      "\n",
      "\n",
      "Classification Report for Train Set:\n",
      "               precision    recall  f1-score   support\n",
      "\n",
      "           0       0.66      0.64      0.65     14010\n",
      "           1       0.64      0.67      0.66     13740\n",
      "\n",
      "    accuracy                           0.65     27750\n",
      "   macro avg       0.65      0.65      0.65     27750\n",
      "weighted avg       0.65      0.65      0.65     27750\n",
      "\n",
      "\n",
      "\n",
      "Classification Report for Test Set:\n",
      "               precision    recall  f1-score   support\n",
      "\n",
      "           0       0.66      0.63      0.64      6072\n",
      "           1       0.63      0.66      0.65      5822\n",
      "\n",
      "    accuracy                           0.65     11894\n",
      "   macro avg       0.65      0.65      0.65     11894\n",
      "weighted avg       0.65      0.65      0.65     11894\n",
      "\n",
      "\n",
      "\n",
      "ROC AUC on Train Set:\n",
      " 0.7113320673422082\n",
      "\n",
      "\n",
      "ROC AUC on Test Set:\n",
      " 0.6961682386649342\n",
      "\n",
      "\n",
      "ROC AUC Curve for Train Set:\n",
      "\n",
      "\n"
     ]
    },
    {
     "data": {
      "image/png": "[encoded data removed]",
      "text/plain": [
       "<Figure size 432x288 with 1 Axes>"
      ]
     },
     "metadata": {
      "needs_background": "light"
     },
     "output_type": "display_data"
    },
    {
     "name": "stdout",
     "output_type": "stream",
     "text": [
      "\n",
      "\n",
      "ROC AUC Curve for Test Set:\n",
      "\n",
      "\n"
     ]
    },
    {
     "data": {
      "image/png": "[encoded data removed]",
      "text/plain": [
       "<Figure size 432x288 with 1 Axes>"
      ]
     },
     "metadata": {
      "needs_background": "light"
     },
     "output_type": "display_data"
    },
    {
     "name": "stdout",
     "output_type": "stream",
     "text": [
      "\n",
      "\n"
     ]
    }
   ],
   "source": [
    "rfrscv40 = RandomForestClassifier(**rand_search.best_params_)\n",
    "model_compare(rfrscv40, X_train, X_test, y_train, y_test)"
   ]
  },
  {
   "cell_type": "markdown",
   "metadata": {},
   "source": [
    "1: For first try based on these params = params = {'n_estimators': sp_randint(3,40),\n",
    "         'criterion': ['gini', 'entropy'],\n",
    "         'max_depth': sp_randint(2,37), \n",
    "         'min_samples_split': sp_randint(2,35),\n",
    "         'min_samples_leaf': sp_randint(2,37)} we get these best parameters {'criterion': 'entropy', 'max_depth': 12, 'min_samples_leaf': 25, 'min_samples_split': 13, 'n_estimators': 31} and based on this we get roc auc score on train and test 81 & 71 respectively. "
   ]
  },
  {
   "cell_type": "markdown",
   "metadata": {},
   "source": [
    "2: For second try based on these params = {'n_estimators': sp_randint(3,35),\n",
    "         'criterion': ['gini', 'entropy'],\n",
    "         'max_depth': sp_randint(2,33), \n",
    "         'min_samples_split': sp_randint(2,30),\n",
    "         'min_samples_leaf': sp_randint(2,33)} we get these best parameters {'criterion': 'gini', 'max_depth': 9, 'min_samples_leaf': 25, 'min_samples_split': 16, 'n_estimators': 27} and based on that we get roc auc score on train and test 77 and 71 respectively."
   ]
  },
  {
   "cell_type": "markdown",
   "metadata": {},
   "source": [
    "3: For third try based on these params = {'n_estimators': sp_randint(3,30),\n",
    "         'criterion': ['gini', 'entropy'],\n",
    "         'max_depth': sp_randint(2,27), \n",
    "         'min_samples_split': sp_randint(2,25),\n",
    "         'min_samples_leaf': sp_randint(2,27)} we get these best parameters {'criterion': 'entropy', 'max_depth': 21, 'min_samples_leaf': 21, 'min_samples_split': 21, 'n_estimators': 17} and based on that we get roc auc score on train and test 85 & 71 respectively."
   ]
  },
  {
   "cell_type": "markdown",
   "metadata": {},
   "source": [
    "4: For fourth try based on these params = {'n_estimators': sp_randint(3,27),\n",
    "         'criterion': ['gini', 'entropy'],\n",
    "         'max_depth': sp_randint(2,25), \n",
    "         'min_samples_split': sp_randint(2,23),\n",
    "         'min_samples_leaf': sp_randint(2,25)} we get these best parameters {'criterion': 'entropy', 'max_depth': 17, 'min_samples_leaf': 17, 'min_samples_split': 2, 'n_estimators': 21} and based on that we get roc auc score on train and test 87 & 71."
   ]
  },
  {
   "cell_type": "markdown",
   "metadata": {},
   "source": [
    "5: For fifth try based on these params = {'n_estimators': sp_randint(3,25),\n",
    "         'criterion': ['gini', 'entropy'],\n",
    "         'max_depth': sp_randint(2,23), \n",
    "         'min_samples_split': sp_randint(2,21),\n",
    "         'min_samples_leaf': sp_randint(2,23)}\n",
    " we get these best parameters {'criterion': 'gini', 'max_depth': 11, 'min_samples_leaf': 22, 'min_samples_split': 18, 'n_estimators': 22} and based on that we get roc auc score on train and test 80 & 71 which is also overfitted."
   ]
  },
  {
   "cell_type": "markdown",
   "metadata": {},
   "source": [
    "6: For sixth try based on these params = {'n_estimators': sp_randint(3,23),\n",
    "         'criterion': ['gini', 'entropy'],\n",
    "         'max_depth': sp_randint(2,21), \n",
    "         'min_samples_split': sp_randint(2,19),\n",
    "         'min_samples_leaf': sp_randint(2,21)} we get these best parameters {'criterion': 'entropy', 'max_depth': 7, 'min_samples_leaf': 8, 'min_samples_split': 10, 'n_estimators': 20} and based on that we get roc auc score on train and test 75 & 70."
   ]
  },
  {
   "cell_type": "markdown",
   "metadata": {},
   "source": [
    "7: For seventh try based on these params = {'n_estimators': sp_randint(3,21),\n",
    "         'criterion': ['gini', 'entropy'],\n",
    "         'max_depth': sp_randint(2,19), \n",
    "         'min_samples_split': sp_randint(2,17),\n",
    "         'min_samples_leaf': sp_randint(2,19)} we get these best parameters {'criterion': 'gini', 'max_depth': 7, 'min_samples_leaf': 8, 'min_samples_split': 10, 'n_estimators': 20} and based on that we get roc auc score on train and test 75 & 70 respectively."
   ]
  },
  {
   "cell_type": "markdown",
   "metadata": {},
   "source": [
    "8: For eight try based on these params = {'n_estimators': sp_randint(3,17),\n",
    "         'criterion': ['gini', 'entropy'],\n",
    "         'max_depth': sp_randint(2,15), \n",
    "         'min_samples_split': sp_randint(2,13),\n",
    "         'min_samples_leaf': sp_randint(2,15)}\n",
    " we get these best parameters {'criterion': 'gini', 'max_depth': 7, 'min_samples_leaf': 2, 'min_samples_split': 5, 'n_estimators': 14} and based on that we get roc auc score on train and test 75 and 71 respectively."
   ]
  },
  {
   "cell_type": "markdown",
   "metadata": {},
   "source": [
    "9: For ninth try based on these params = {'n_estimators': sp_randint(3,10),\n",
    "         'criterion': ['gini', 'entropy'],\n",
    "         'max_depth': sp_randint(2,10), \n",
    "         'min_samples_split': sp_randint(2,9),\n",
    "         'min_samples_leaf': sp_randint(2,10)} we get these best parameters {'criterion': 'gini', 'max_depth': 6, 'min_samples_leaf': 4, 'min_samples_split': 3, 'n_estimators': 9} and based on that we get roc auc score on train and test 73 and 70 respectively."
   ]
  },
  {
   "cell_type": "markdown",
   "metadata": {},
   "source": [
    "10: For tenth try based on these params = {'n_estimators': sp_randint(3,9),\n",
    "         'criterion': ['gini', 'entropy'],\n",
    "         'max_depth': sp_randint(2,7), \n",
    "         'min_samples_split': sp_randint(2,9),\n",
    "         'min_samples_leaf': sp_randint(2,7)} we get these best parameters {'criterion': 'gini', 'max_depth': 5, 'min_samples_leaf': 2, 'min_samples_split': 4, 'n_estimators': 6} and based on that we get roc auc score on train and test 71 and 69 respectively."
   ]
  },
  {
   "cell_type": "markdown",
   "metadata": {},
   "source": [
    "11: For eleventh try based on these params = {'n_estimators': sp_randint(3,7),\n",
    "         'criterion': ['gini', 'entropy'],\n",
    "         'max_depth': sp_randint(2,5), \n",
    "         'min_samples_split': sp_randint(2,7),\n",
    "         'min_samples_leaf': sp_randint(2,5)} we get these best parameters {'criterion': 'entropy', 'max_depth': 4, 'min_samples_leaf': 4, 'min_samples_split': 6, 'n_estimators': 5} and based on that we get roc auc score on train and test 69 and 68 respectively."
   ]
  },
  {
   "cell_type": "markdown",
   "metadata": {},
   "source": [
    "So for random Forest with 40 features we will go with 9,10, and 11 model."
   ]
  },
  {
   "cell_type": "markdown",
   "metadata": {},
   "source": [
    "## SVM"
   ]
  },
  {
   "cell_type": "code",
   "execution_count": 64,
   "metadata": {},
   "outputs": [],
   "source": [
    "X = X_scaled\n",
    "\n",
    "y = df['class']"
   ]
  },
  {
   "cell_type": "code",
   "execution_count": 65,
   "metadata": {},
   "outputs": [],
   "source": [
    "from sklearn.svm import SVC"
   ]
  },
  {
   "cell_type": "code",
   "execution_count": 68,
   "metadata": {},
   "outputs": [],
   "source": [
    "kernels = ['Polynomial', 'RBF', 'Sigmoid','Linear']\n",
    "\n",
    "#A function which returns the corresponding SVC model\n",
    "\n",
    "def getClassifier(ktype):\n",
    "    if ktype == 0:\n",
    "        # Polynomial kernal\n",
    "        return SVC(kernel='poly', degree=8, gamma=\"auto\", probability = True)\n",
    "    \n",
    "    elif ktype == 1:\n",
    "        # Radial Basis Function kernal\n",
    "        return SVC(kernel='rbf', gamma=\"auto\", probability = True)\n",
    "    \n",
    "    elif ktype == 2:\n",
    "        # Sigmoid kernal\n",
    "        return SVC(kernel='sigmoid', gamma=\"auto\", probability = True)\n",
    "    \n",
    "    elif ktype == 3:\n",
    "        # Linear kernal\n",
    "        return SVC(kernel='linear', gamma=\"auto\", probability = True)"
   ]
  },
  {
   "cell_type": "code",
   "execution_count": 69,
   "metadata": {},
   "outputs": [
    {
     "name": "stdout",
     "output_type": "stream",
     "text": [
      "Evaluation: Polynomial kernel\n",
      "              precision    recall  f1-score   support\n",
      "\n",
      "           0       0.55      0.90      0.68      6072\n",
      "           1       0.69      0.23      0.34      5822\n",
      "\n",
      "    accuracy                           0.57     11894\n",
      "   macro avg       0.62      0.56      0.51     11894\n",
      "weighted avg       0.62      0.57      0.52     11894\n",
      "\n",
      "ROC AUC on Train Set:\n",
      " 0.4995647733423932\n",
      "\n",
      "\n",
      "ROC AUC on Test Set:\n",
      " 0.4990627470921483\n",
      "\n",
      "\n",
      "Evaluation: RBF kernel\n",
      "              precision    recall  f1-score   support\n",
      "\n",
      "           0       0.66      0.66      0.66      6072\n",
      "           1       0.64      0.64      0.64      5822\n",
      "\n",
      "    accuracy                           0.65     11894\n",
      "   macro avg       0.65      0.65      0.65     11894\n",
      "weighted avg       0.65      0.65      0.65     11894\n",
      "\n",
      "ROC AUC on Train Set:\n",
      " 0.7900434603272564\n",
      "\n",
      "\n",
      "ROC AUC on Test Set:\n",
      " 0.7095259100798434\n",
      "\n",
      "\n",
      "Evaluation: Sigmoid kernel\n",
      "              precision    recall  f1-score   support\n",
      "\n",
      "           0       0.56      0.57      0.56      6072\n",
      "           1       0.54      0.53      0.54      5822\n",
      "\n",
      "    accuracy                           0.55     11894\n",
      "   macro avg       0.55      0.55      0.55     11894\n",
      "weighted avg       0.55      0.55      0.55     11894\n",
      "\n",
      "ROC AUC on Train Set:\n",
      " 0.5625113845693501\n",
      "\n",
      "\n",
      "ROC AUC on Test Set:\n",
      " 0.5588626819401579\n",
      "\n",
      "\n",
      "Evaluation: Linear kernel\n",
      "              precision    recall  f1-score   support\n",
      "\n",
      "           0       0.64      0.65      0.64      6072\n",
      "           1       0.63      0.62      0.63      5822\n",
      "\n",
      "    accuracy                           0.63     11894\n",
      "   macro avg       0.63      0.63      0.63     11894\n",
      "weighted avg       0.63      0.63      0.63     11894\n",
      "\n",
      "ROC AUC on Train Set:\n",
      " 0.7003497917374467\n",
      "\n",
      "\n",
      "ROC AUC on Test Set:\n",
      " 0.690363680605436\n",
      "\n",
      "\n"
     ]
    }
   ],
   "source": [
    "for i in range(4):\n",
    "    # Separate data into test and training sets\n",
    "    X_train, X_test, y_train, y_test = train_test_split(X, y, test_size = 0.3, random_state = 0)\n",
    "    \n",
    "# Train a SVC model using different kernal\n",
    "    svclassifier = getClassifier(i) \n",
    "    svclassifier.fit(X_train, y_train)\n",
    "    \n",
    "# Make prediction\n",
    "    y_prde_train = svclassifier.predict(X_train)\n",
    "    y_pred_test = svclassifier.predict(X_test)\n",
    "    \n",
    "    y_prob_train = svclassifier.predict_proba(X_train)[:,1]\n",
    "    y_prob_test = svclassifier.predict_proba(X_test)[:,1]\n",
    "    \n",
    "# Evaluate our model\n",
    "    print(\"Evaluation:\", kernels[i], \"kernel\")\n",
    "    print(classification_report(y_test,y_pred_test))\n",
    "    \n",
    "    print('ROC AUC on Train Set:\\n', roc_auc_score(y_train, y_prob_train))\n",
    "    print('\\n')\n",
    "    print('ROC AUC on Test Set:\\n', roc_auc_score(y_test, y_prob_test))\n",
    "    print('\\n')"
   ]
  },
  {
   "cell_type": "markdown",
   "metadata": {},
   "source": [
    "## Hyper parameter tunning"
   ]
  },
  {
   "cell_type": "code",
   "execution_count": null,
   "metadata": {},
   "outputs": [
    {
     "name": "stdout",
     "output_type": "stream",
     "text": [
      "Fitting 3 folds for each of 48 candidates, totalling 144 fits\n",
      "[CV] C=0.1, gamma=1, kernel=rbf ......................................\n"
     ]
    },
    {
     "name": "stderr",
     "output_type": "stream",
     "text": [
      "[Parallel(n_jobs=1)]: Using backend SequentialBackend with 1 concurrent workers.\n"
     ]
    },
    {
     "name": "stdout",
     "output_type": "stream",
     "text": [
      "[CV] ....................... C=0.1, gamma=1, kernel=rbf, total=11.7min\n",
      "[CV] C=0.1, gamma=1, kernel=rbf ......................................\n"
     ]
    },
    {
     "name": "stderr",
     "output_type": "stream",
     "text": [
      "[Parallel(n_jobs=1)]: Done   1 out of   1 | elapsed: 11.7min remaining:    0.0s\n"
     ]
    },
    {
     "name": "stdout",
     "output_type": "stream",
     "text": [
      "[CV] ....................... C=0.1, gamma=1, kernel=rbf, total=12.7min\n",
      "[CV] C=0.1, gamma=1, kernel=rbf ......................................\n",
      "[CV] ....................... C=0.1, gamma=1, kernel=rbf, total=10.2min\n",
      "[CV] C=0.1, gamma=1, kernel=poly .....................................\n",
      "[CV] ..................... C=0.1, gamma=1, kernel=poly, total=224.5min\n",
      "[CV] C=0.1, gamma=1, kernel=poly .....................................\n",
      "[CV] ..................... C=0.1, gamma=1, kernel=poly, total=213.8min\n",
      "[CV] C=0.1, gamma=1, kernel=poly .....................................\n",
      "[CV] ..................... C=0.1, gamma=1, kernel=poly, total=273.3min\n",
      "[CV] C=0.1, gamma=1, kernel=linear ...................................\n",
      "[CV] .................... C=0.1, gamma=1, kernel=linear, total= 5.1min\n",
      "[CV] C=0.1, gamma=1, kernel=linear ...................................\n",
      "[CV] .................... C=0.1, gamma=1, kernel=linear, total= 5.1min\n",
      "[CV] C=0.1, gamma=1, kernel=linear ...................................\n",
      "[CV] .................... C=0.1, gamma=1, kernel=linear, total= 5.2min\n",
      "[CV] C=0.1, gamma=0.1, kernel=rbf ....................................\n",
      "[CV] ..................... C=0.1, gamma=0.1, kernel=rbf, total= 6.3min\n",
      "[CV] C=0.1, gamma=0.1, kernel=rbf ....................................\n",
      "[CV] ..................... C=0.1, gamma=0.1, kernel=rbf, total= 6.3min\n",
      "[CV] C=0.1, gamma=0.1, kernel=rbf ....................................\n",
      "[CV] ..................... C=0.1, gamma=0.1, kernel=rbf, total= 6.3min\n",
      "[CV] C=0.1, gamma=0.1, kernel=poly ...................................\n",
      "[CV] .................... C=0.1, gamma=0.1, kernel=poly, total=17.0min\n",
      "[CV] C=0.1, gamma=0.1, kernel=poly ...................................\n",
      "[CV] .................... C=0.1, gamma=0.1, kernel=poly, total=17.1min\n",
      "[CV] C=0.1, gamma=0.1, kernel=poly ...................................\n",
      "[CV] .................... C=0.1, gamma=0.1, kernel=poly, total=17.7min\n",
      "[CV] C=0.1, gamma=0.1, kernel=linear .................................\n",
      "[CV] .................. C=0.1, gamma=0.1, kernel=linear, total= 5.2min\n",
      "[CV] C=0.1, gamma=0.1, kernel=linear .................................\n",
      "[CV] .................. C=0.1, gamma=0.1, kernel=linear, total= 5.2min\n",
      "[CV] C=0.1, gamma=0.1, kernel=linear .................................\n",
      "[CV] .................. C=0.1, gamma=0.1, kernel=linear, total= 5.2min\n",
      "[CV] C=0.1, gamma=0.01, kernel=rbf ...................................\n",
      "[CV] .................... C=0.1, gamma=0.01, kernel=rbf, total= 5.7min\n",
      "[CV] C=0.1, gamma=0.01, kernel=rbf ...................................\n",
      "[CV] .................... C=0.1, gamma=0.01, kernel=rbf, total= 5.8min\n",
      "[CV] C=0.1, gamma=0.01, kernel=rbf ...................................\n",
      "[CV] .................... C=0.1, gamma=0.01, kernel=rbf, total= 5.8min\n",
      "[CV] C=0.1, gamma=0.01, kernel=poly ..................................\n",
      "[CV] ................... C=0.1, gamma=0.01, kernel=poly, total= 5.2min\n",
      "[CV] C=0.1, gamma=0.01, kernel=poly ..................................\n",
      "[CV] ................... C=0.1, gamma=0.01, kernel=poly, total= 5.2min\n",
      "[CV] C=0.1, gamma=0.01, kernel=poly ..................................\n",
      "[CV] ................... C=0.1, gamma=0.01, kernel=poly, total= 5.2min\n",
      "[CV] C=0.1, gamma=0.01, kernel=linear ................................\n",
      "[CV] ................. C=0.1, gamma=0.01, kernel=linear, total= 5.5min\n",
      "[CV] C=0.1, gamma=0.01, kernel=linear ................................\n",
      "[CV] ................. C=0.1, gamma=0.01, kernel=linear, total= 6.2min\n",
      "[CV] C=0.1, gamma=0.01, kernel=linear ................................\n",
      "[CV] ................. C=0.1, gamma=0.01, kernel=linear, total= 6.3min\n",
      "[CV] C=0.1, gamma=0.001, kernel=rbf ..................................\n",
      "[CV] ................... C=0.1, gamma=0.001, kernel=rbf, total= 7.4min\n",
      "[CV] C=0.1, gamma=0.001, kernel=rbf ..................................\n",
      "[CV] ................... C=0.1, gamma=0.001, kernel=rbf, total= 6.7min\n",
      "[CV] C=0.1, gamma=0.001, kernel=rbf ..................................\n",
      "[CV] ................... C=0.1, gamma=0.001, kernel=rbf, total= 6.6min\n",
      "[CV] C=0.1, gamma=0.001, kernel=poly .................................\n",
      "[CV] .................. C=0.1, gamma=0.001, kernel=poly, total= 6.5min\n",
      "[CV] C=0.1, gamma=0.001, kernel=poly .................................\n",
      "[CV] .................. C=0.1, gamma=0.001, kernel=poly, total= 6.5min\n",
      "[CV] C=0.1, gamma=0.001, kernel=poly .................................\n",
      "[CV] .................. C=0.1, gamma=0.001, kernel=poly, total= 6.4min\n",
      "[CV] C=0.1, gamma=0.001, kernel=linear ...............................\n",
      "[CV] ................ C=0.1, gamma=0.001, kernel=linear, total= 6.6min\n",
      "[CV] C=0.1, gamma=0.001, kernel=linear ...............................\n",
      "[CV] ................ C=0.1, gamma=0.001, kernel=linear, total= 6.6min\n",
      "[CV] C=0.1, gamma=0.001, kernel=linear ...............................\n",
      "[CV] ................ C=0.1, gamma=0.001, kernel=linear, total= 6.3min\n",
      "[CV] C=1, gamma=1, kernel=rbf ........................................\n",
      "[CV] ......................... C=1, gamma=1, kernel=rbf, total=18.7min\n",
      "[CV] C=1, gamma=1, kernel=rbf ........................................\n",
      "[CV] ......................... C=1, gamma=1, kernel=rbf, total=19.4min\n",
      "[CV] C=1, gamma=1, kernel=rbf ........................................\n",
      "[CV] ......................... C=1, gamma=1, kernel=rbf, total=15.6min\n",
      "[CV] C=1, gamma=1, kernel=poly .......................................\n",
      "[CV] ....................... C=1, gamma=1, kernel=poly, total=218.9min\n",
      "[CV] C=1, gamma=1, kernel=poly .......................................\n",
      "[CV] ....................... C=1, gamma=1, kernel=poly, total=218.0min\n",
      "[CV] C=1, gamma=1, kernel=poly .......................................\n",
      "[CV] ....................... C=1, gamma=1, kernel=poly, total=272.6min\n",
      "[CV] C=1, gamma=1, kernel=linear .....................................\n",
      "[CV] ...................... C=1, gamma=1, kernel=linear, total=13.7min\n",
      "[CV] C=1, gamma=1, kernel=linear .....................................\n",
      "[CV] ...................... C=1, gamma=1, kernel=linear, total=13.5min\n",
      "[CV] C=1, gamma=1, kernel=linear .....................................\n",
      "[CV] ...................... C=1, gamma=1, kernel=linear, total=13.7min\n",
      "[CV] C=1, gamma=0.1, kernel=rbf ......................................\n",
      "[CV] ....................... C=1, gamma=0.1, kernel=rbf, total=13.9min\n",
      "[CV] C=1, gamma=0.1, kernel=rbf ......................................\n",
      "[CV] ....................... C=1, gamma=0.1, kernel=rbf, total=14.0min\n",
      "[CV] C=1, gamma=0.1, kernel=rbf ......................................\n",
      "[CV] ....................... C=1, gamma=0.1, kernel=rbf, total=14.0min\n",
      "[CV] C=1, gamma=0.1, kernel=poly .....................................\n",
      "[CV] ...................... C=1, gamma=0.1, kernel=poly, total=83.9min\n",
      "[CV] C=1, gamma=0.1, kernel=poly .....................................\n",
      "[CV] ...................... C=1, gamma=0.1, kernel=poly, total=80.6min\n",
      "[CV] C=1, gamma=0.1, kernel=poly .....................................\n",
      "[CV] ...................... C=1, gamma=0.1, kernel=poly, total=90.8min\n",
      "[CV] C=1, gamma=0.1, kernel=linear ...................................\n"
     ]
    }
   ],
   "source": [
    "param_grid = {'C': [0.1,1, 10, 100], 'gamma': [1,0.1,0.01,0.001],'kernel': ['rbf', 'poly', 'linear']}\n",
    "\n",
    "grid = GridSearchCV(SVC(probability = True),param_grid,refit=True,verbose=2)\n",
    "\n",
    "grid.fit(X_train,y_train)"
   ]
  },
  {
   "cell_type": "code",
   "execution_count": null,
   "metadata": {},
   "outputs": [],
   "source": []
  }
 ],
 "metadata": {
  "kernelspec": {
   "display_name": "Python 3",
   "language": "python",
   "name": "python3"
  },
  "language_info": {
   "codemirror_mode": {
    "name": "ipython",
    "version": 3
   },
   "file_extension": ".py",
   "mimetype": "text/x-python",
   "name": "python",
   "nbconvert_exporter": "python",
   "pygments_lexer": "ipython3",
   "version": "3.7.4"
  }
 },
 "nbformat": 4,
 "nbformat_minor": 2
}
