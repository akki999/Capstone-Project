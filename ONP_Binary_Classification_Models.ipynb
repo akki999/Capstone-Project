{
 "cells": [
  {
   "cell_type": "markdown",
   "metadata": {},
   "source": [
    "# Binary Classification"
   ]
  },
  {
   "cell_type": "markdown",
   "metadata": {},
   "source": [
    "### 1. Importing Libraries and Reading Data"
   ]
  },
  {
   "cell_type": "code",
   "execution_count": 1,
   "metadata": {},
   "outputs": [],
   "source": [
    "import pandas as pd\n",
    "import numpy as np\n",
    "import matplotlib.pyplot as plt\n",
    "import seaborn as sns\n",
    "\n",
    "from sklearn.preprocessing import StandardScaler\n",
    "from sklearn.model_selection import train_test_split, cross_validate\n",
    "from sklearn.decomposition import PCA\n",
    "from sklearn import model_selection, svm\n",
    "from sklearn import feature_selection\n",
    "from sklearn.feature_selection import RFECV\n",
    "\n",
    "from sklearn.model_selection import GridSearchCV, validation_curve, RandomizedSearchCV\n",
    "from sklearn.linear_model import LogisticRegression\n",
    "from sklearn.neighbors import KNeighborsClassifier\n",
    "from sklearn.tree import DecisionTreeClassifier\n",
    "from sklearn.ensemble import RandomForestClassifier,AdaBoostClassifier,BaggingClassifier,GradientBoostingClassifier\n",
    "from xgboost import XGBClassifier\n",
    "from sklearn.metrics import accuracy_score,confusion_matrix, classification_report, f1_score,roc_auc_score, roc_curve, auc, precision_score, recall_score\n",
    "\n",
    "import os\n",
    "os.chdir('E:/PGP-DSE/Capstone Project/Group 2/OnlineNewsPopularity')\n",
    "\n",
    "from warnings import simplefilter\n",
    "simplefilter(action='ignore', category=FutureWarning) # ignore all future warnings"
   ]
  },
  {
   "cell_type": "markdown",
   "metadata": {},
   "source": [
    "### 2. Reading the dataset"
   ]
  },
  {
   "cell_type": "code",
   "execution_count": 2,
   "metadata": {},
   "outputs": [
    {
     "data": {
      "text/html": [
       "<div>\n",
       "<style scoped>\n",
       "    .dataframe tbody tr th:only-of-type {\n",
       "        vertical-align: middle;\n",
       "    }\n",
       "\n",
       "    .dataframe tbody tr th {\n",
       "        vertical-align: top;\n",
       "    }\n",
       "\n",
       "    .dataframe thead th {\n",
       "        text-align: right;\n",
       "    }\n",
       "</style>\n",
       "<table border=\"1\" class=\"dataframe\">\n",
       "  <thead>\n",
       "    <tr style=\"text-align: right;\">\n",
       "      <th></th>\n",
       "      <th>url</th>\n",
       "      <th>timedelta</th>\n",
       "      <th>n_tokens_title</th>\n",
       "      <th>n_tokens_content</th>\n",
       "      <th>n_unique_tokens</th>\n",
       "      <th>n_non_stop_words</th>\n",
       "      <th>n_non_stop_unique_tokens</th>\n",
       "      <th>num_hrefs</th>\n",
       "      <th>num_self_hrefs</th>\n",
       "      <th>num_imgs</th>\n",
       "      <th>...</th>\n",
       "      <th>min_positive_polarity</th>\n",
       "      <th>max_positive_polarity</th>\n",
       "      <th>avg_negative_polarity</th>\n",
       "      <th>min_negative_polarity</th>\n",
       "      <th>max_negative_polarity</th>\n",
       "      <th>title_subjectivity</th>\n",
       "      <th>title_sentiment_polarity</th>\n",
       "      <th>abs_title_subjectivity</th>\n",
       "      <th>abs_title_sentiment_polarity</th>\n",
       "      <th>class</th>\n",
       "    </tr>\n",
       "  </thead>\n",
       "  <tbody>\n",
       "    <tr>\n",
       "      <td>0</td>\n",
       "      <td>http://mashable.com/2013/01/07/amazon-instant-...</td>\n",
       "      <td>731.0</td>\n",
       "      <td>12.0</td>\n",
       "      <td>219.0</td>\n",
       "      <td>0.663594</td>\n",
       "      <td>1.0</td>\n",
       "      <td>0.815385</td>\n",
       "      <td>4.0</td>\n",
       "      <td>2.0</td>\n",
       "      <td>1.0</td>\n",
       "      <td>...</td>\n",
       "      <td>0.100000</td>\n",
       "      <td>0.7</td>\n",
       "      <td>-0.350000</td>\n",
       "      <td>-0.600</td>\n",
       "      <td>-0.200000</td>\n",
       "      <td>0.500000</td>\n",
       "      <td>-0.187500</td>\n",
       "      <td>0.000000</td>\n",
       "      <td>0.187500</td>\n",
       "      <td>0</td>\n",
       "    </tr>\n",
       "    <tr>\n",
       "      <td>1</td>\n",
       "      <td>http://mashable.com/2013/01/07/ap-samsung-spon...</td>\n",
       "      <td>731.0</td>\n",
       "      <td>9.0</td>\n",
       "      <td>255.0</td>\n",
       "      <td>0.604743</td>\n",
       "      <td>1.0</td>\n",
       "      <td>0.791946</td>\n",
       "      <td>3.0</td>\n",
       "      <td>1.0</td>\n",
       "      <td>1.0</td>\n",
       "      <td>...</td>\n",
       "      <td>0.033333</td>\n",
       "      <td>0.7</td>\n",
       "      <td>-0.118750</td>\n",
       "      <td>-0.125</td>\n",
       "      <td>-0.100000</td>\n",
       "      <td>0.000000</td>\n",
       "      <td>0.000000</td>\n",
       "      <td>0.500000</td>\n",
       "      <td>0.000000</td>\n",
       "      <td>0</td>\n",
       "    </tr>\n",
       "    <tr>\n",
       "      <td>2</td>\n",
       "      <td>http://mashable.com/2013/01/07/apple-40-billio...</td>\n",
       "      <td>731.0</td>\n",
       "      <td>9.0</td>\n",
       "      <td>211.0</td>\n",
       "      <td>0.575130</td>\n",
       "      <td>1.0</td>\n",
       "      <td>0.663866</td>\n",
       "      <td>3.0</td>\n",
       "      <td>1.0</td>\n",
       "      <td>1.0</td>\n",
       "      <td>...</td>\n",
       "      <td>0.100000</td>\n",
       "      <td>1.0</td>\n",
       "      <td>-0.466667</td>\n",
       "      <td>-0.800</td>\n",
       "      <td>-0.133333</td>\n",
       "      <td>0.000000</td>\n",
       "      <td>0.000000</td>\n",
       "      <td>0.500000</td>\n",
       "      <td>0.000000</td>\n",
       "      <td>1</td>\n",
       "    </tr>\n",
       "    <tr>\n",
       "      <td>3</td>\n",
       "      <td>http://mashable.com/2013/01/07/astronaut-notre...</td>\n",
       "      <td>731.0</td>\n",
       "      <td>9.0</td>\n",
       "      <td>531.0</td>\n",
       "      <td>0.503788</td>\n",
       "      <td>1.0</td>\n",
       "      <td>0.665635</td>\n",
       "      <td>9.0</td>\n",
       "      <td>0.0</td>\n",
       "      <td>1.0</td>\n",
       "      <td>...</td>\n",
       "      <td>0.136364</td>\n",
       "      <td>0.8</td>\n",
       "      <td>-0.369697</td>\n",
       "      <td>-0.600</td>\n",
       "      <td>-0.166667</td>\n",
       "      <td>0.000000</td>\n",
       "      <td>0.000000</td>\n",
       "      <td>0.500000</td>\n",
       "      <td>0.000000</td>\n",
       "      <td>0</td>\n",
       "    </tr>\n",
       "    <tr>\n",
       "      <td>4</td>\n",
       "      <td>http://mashable.com/2013/01/07/att-u-verse-apps/</td>\n",
       "      <td>731.0</td>\n",
       "      <td>13.0</td>\n",
       "      <td>1072.0</td>\n",
       "      <td>0.415646</td>\n",
       "      <td>1.0</td>\n",
       "      <td>0.540890</td>\n",
       "      <td>19.0</td>\n",
       "      <td>19.0</td>\n",
       "      <td>20.0</td>\n",
       "      <td>...</td>\n",
       "      <td>0.033333</td>\n",
       "      <td>1.0</td>\n",
       "      <td>-0.220192</td>\n",
       "      <td>-0.500</td>\n",
       "      <td>-0.050000</td>\n",
       "      <td>0.454545</td>\n",
       "      <td>0.136364</td>\n",
       "      <td>0.045455</td>\n",
       "      <td>0.136364</td>\n",
       "      <td>0</td>\n",
       "    </tr>\n",
       "  </tbody>\n",
       "</table>\n",
       "<p>5 rows × 61 columns</p>\n",
       "</div>"
      ],
      "text/plain": [
       "                                                 url  timedelta  \\\n",
       "0  http://mashable.com/2013/01/07/amazon-instant-...      731.0   \n",
       "1  http://mashable.com/2013/01/07/ap-samsung-spon...      731.0   \n",
       "2  http://mashable.com/2013/01/07/apple-40-billio...      731.0   \n",
       "3  http://mashable.com/2013/01/07/astronaut-notre...      731.0   \n",
       "4   http://mashable.com/2013/01/07/att-u-verse-apps/      731.0   \n",
       "\n",
       "   n_tokens_title  n_tokens_content  n_unique_tokens  n_non_stop_words  \\\n",
       "0            12.0             219.0         0.663594               1.0   \n",
       "1             9.0             255.0         0.604743               1.0   \n",
       "2             9.0             211.0         0.575130               1.0   \n",
       "3             9.0             531.0         0.503788               1.0   \n",
       "4            13.0            1072.0         0.415646               1.0   \n",
       "\n",
       "   n_non_stop_unique_tokens  num_hrefs  num_self_hrefs  num_imgs  ...  \\\n",
       "0                  0.815385        4.0             2.0       1.0  ...   \n",
       "1                  0.791946        3.0             1.0       1.0  ...   \n",
       "2                  0.663866        3.0             1.0       1.0  ...   \n",
       "3                  0.665635        9.0             0.0       1.0  ...   \n",
       "4                  0.540890       19.0            19.0      20.0  ...   \n",
       "\n",
       "   min_positive_polarity  max_positive_polarity  avg_negative_polarity  \\\n",
       "0               0.100000                    0.7              -0.350000   \n",
       "1               0.033333                    0.7              -0.118750   \n",
       "2               0.100000                    1.0              -0.466667   \n",
       "3               0.136364                    0.8              -0.369697   \n",
       "4               0.033333                    1.0              -0.220192   \n",
       "\n",
       "   min_negative_polarity  max_negative_polarity  title_subjectivity  \\\n",
       "0                 -0.600              -0.200000            0.500000   \n",
       "1                 -0.125              -0.100000            0.000000   \n",
       "2                 -0.800              -0.133333            0.000000   \n",
       "3                 -0.600              -0.166667            0.000000   \n",
       "4                 -0.500              -0.050000            0.454545   \n",
       "\n",
       "   title_sentiment_polarity  abs_title_subjectivity  \\\n",
       "0                 -0.187500                0.000000   \n",
       "1                  0.000000                0.500000   \n",
       "2                  0.000000                0.500000   \n",
       "3                  0.000000                0.500000   \n",
       "4                  0.136364                0.045455   \n",
       "\n",
       "   abs_title_sentiment_polarity  class  \n",
       "0                      0.187500      0  \n",
       "1                      0.000000      0  \n",
       "2                      0.000000      1  \n",
       "3                      0.000000      0  \n",
       "4                      0.136364      0  \n",
       "\n",
       "[5 rows x 61 columns]"
      ]
     },
     "execution_count": 2,
     "metadata": {},
     "output_type": "execute_result"
    }
   ],
   "source": [
    "df = pd.read_csv('ONPClass.csv')\n",
    "df.head()"
   ]
  },
  {
   "cell_type": "code",
   "execution_count": 3,
   "metadata": {},
   "outputs": [],
   "source": [
    "df = df.drop(['url','timedelta'],axis=1)"
   ]
  },
  {
   "cell_type": "markdown",
   "metadata": {},
   "source": [
    "## 3. Custom Functions\n",
    "- These functions are created as they are to be used repeatedly and to reduce the lines of code\n"
   ]
  },
  {
   "cell_type": "code",
   "execution_count": 4,
   "metadata": {},
   "outputs": [],
   "source": [
    "# train test split\n",
    "def perform_train_test_split(x,y,size):\n",
    "    return train_test_split(x, y, test_size = size, random_state = 0)\n",
    "\n",
    "# function for scaling the data for train test split\n",
    "def std_data(xtrain,xtest):\n",
    "    sc = StandardScaler()\n",
    "    scaled = sc.fit(xtrain)\n",
    "    scaled_train = sc.transform(xtrain)\n",
    "    scaled_test = sc.transform(xtest)\n",
    "    return scaled_train, scaled_test\n",
    "\n",
    "# function to scale whole data\n",
    "def std_all_data(x):\n",
    "    sc = StandardScaler()\n",
    "    scaled = sc.fit_transform(x)\n",
    "    return scaled\n",
    "\n",
    "\n",
    "# function to apply rfecv onto the dataset\n",
    "def apply_rfecv(x,y):\n",
    "\n",
    "    RF = RandomForestClassifier(random_state=0)\n",
    "    rfecv = RFECV(estimator= RF, step = 5, cv=5, scoring='roc_auc')\n",
    "    rfecv.fit(x, y)\n",
    "    \n",
    "    print(\"Optimal number of features : %d\" % rfecv.n_features_)\n",
    "    \n",
    "    rfe_features = pd.DataFrame({'features': x.columns, 'rank':rfecv.ranking_}).sort_values(by = 'rank')\n",
    "    sel_features = rfe_features[rfe_features['rank']==1]['features'].to_list()\n",
    "    \n",
    "    # Plot number of features VS. cross-validation scores\n",
    "    plt.figure()\n",
    "    plt.xlabel(\"Number of features selected\")\n",
    "    plt.ylabel(\"Score\")\n",
    "    plt.plot(range(1, len(rfecv.grid_scores_) + 1), rfecv.grid_scores_)\n",
    "    plt.show()\n",
    "    return sel_features\n",
    "    \n",
    "# function for applying random search cv\n",
    "def random_search_cv(x,y,model,params):\n",
    "    RS = RandomizedSearchCV(model, params, cv = 5, scoring = 'roc_auc', random_state = 0)\n",
    "    RS.fit(x,y)\n",
    "    return RS.best_params_, RS.best_estimator_, RS.best_score_\n",
    "\n",
    "# function for applying grid search cv\n",
    "def grid_search_cv(x,y,model,params):\n",
    "    GS = GridSearchCV(model, params, cv = 5, scoring = 'roc_auc')\n",
    "    GS.fit(x,y)\n",
    "    return GS.best_params_\n",
    "\n",
    "# creating an empty dataframe with headers\n",
    "headers=['AUC Train','AUC Test','Acc Train','Acc Test','Pre Train','Pre Test','Re Train','Re Test']\n",
    "dfObj = pd.DataFrame(columns = headers)\n",
    "\n",
    "\n",
    "# function to get roc_auc_scores for train and test  \n",
    "def fit_predict_plot(xtrain,xtest,ytrain,ytest,models):\n",
    "    \n",
    "    for name, model in models:\n",
    "        \n",
    "        model.fit(xtrain,ytrain)\n",
    "        \n",
    "        y_pred_train = model.predict(xtrain)\n",
    "        y_pred_test = model.predict(xtest)\n",
    "        \n",
    "        probas_train = model.predict_proba(xtrain)[:,1]\n",
    "        probas_test = model.predict_proba(xtest)[:,1]\n",
    "\n",
    "        model_name = name \n",
    "        \n",
    "        plot_roc_auc_curve(probas_train,probas_test,ytrain,ytest,name)\n",
    "        \n",
    "        return get_metrics(ytrain,ytest,y_pred_train,y_pred_test,probas_train,probas_test,model_name)\n",
    "    \n",
    "    \n",
    "# function to plot the roc auc curve\n",
    "def plot_roc_auc_curve(probas_train,probas_test,y_train,y_test,name):\n",
    "    \n",
    "        fpr_train, tpr_train, thresholds_train = roc_curve(y_train,probas_train)\n",
    "\n",
    "        fpr_test, tpr_test, thresholds_test = roc_curve(y_test,probas_test)\n",
    "\n",
    "        \n",
    "        plt.plot([0, 1], [0, 1], linestyle='--', lw=2, color='r', label='Chance', alpha=.8)\n",
    "        plt.plot(fpr_train, tpr_train, color='b', \n",
    "                 label=r'Train ROC (AUC = %0.2f )' % (roc_auc_score(y_train,probas_train)),lw=2, alpha=.5)\n",
    "        plt.plot(fpr_test, tpr_test, color='g', \n",
    "                 label=r'Test ROC (AUC = %0.2f )' % (roc_auc_score(y_test,probas_test)),lw=2, alpha=.8)\n",
    "\n",
    "        plt.xlim([-0.01, 1.01])\n",
    "        plt.ylim([-0.01, 1.01])\n",
    "        plt.xlabel('False Positive Rate',fontsize=10)\n",
    "        plt.ylabel('True Positive Rate',fontsize=10)\n",
    "        plt.title('ROC of %s' % (name),fontsize=10)\n",
    "        plt.legend(loc=\"lower right\", prop={'size': 9})\n",
    "        plt.show()\n",
    "\n",
    "        \n",
    "\n",
    "    \n",
    "# function to get all other metrics\n",
    "def get_metrics(y_train,y_test,y_pred_train,y_pred_test,probas_train,probas_test,name):\n",
    "        global dfObj\n",
    "        print('Confusion Matrix:\\n')\n",
    "        print('For Train Data:\\n')\n",
    "        print(confusion_matrix(y_train,y_pred_train))\n",
    "        #print(classification_report(y_train,y_pred_train))\n",
    "        \n",
    "        print('\\n For Test Data:\\n')\n",
    "        print(confusion_matrix(y_test,y_pred_test))\n",
    "        #print(classification_report(y_test,y_pred_test))\n",
    "\n",
    "        dfObj.loc[name] = [roc_auc_score(y_train,probas_train), roc_auc_score(y_test,probas_test),\n",
    "                           accuracy_score(y_train, y_pred_train), accuracy_score(y_test, y_pred_test),\n",
    "                           precision_score(y_train, y_pred_train), precision_score(y_test, y_pred_test),\n",
    "                           recall_score(y_train, y_pred_train), recall_score(y_test, y_pred_test)]\n",
    "        return dfObj\n",
    "        \n",
    "\n",
    "# function for applying various models\n",
    "def implement_cv(x,y,models):\n",
    "    final = {}\n",
    "    results = []\n",
    "    names = []\n",
    "    auc = []\n",
    "    for name,model in models:\n",
    "        kfold = model_selection.KFold(shuffle=True,n_splits=5,random_state=0)\n",
    "        cv_results = model_selection.cross_val_score(model,x,y,cv=kfold, scoring='roc_auc')\n",
    "        results.append((np.abs(cv_results)))\n",
    "        auc.append(np.mean(results))\n",
    "        names.append(name)\n",
    "        print(cv_results)\n",
    "        final.update({'Model': names , 'roc_auc_score': auc})\n",
    "    return pd.DataFrame(final)\n",
    "\n"
   ]
  },
  {
   "cell_type": "markdown",
   "metadata": {},
   "source": [
    "Splitted the data into train and test sets using ratio 70:30"
   ]
  },
  {
   "cell_type": "markdown",
   "metadata": {},
   "source": [
    "## Considering all features"
   ]
  },
  {
   "cell_type": "code",
   "execution_count": 9,
   "metadata": {},
   "outputs": [],
   "source": [
    "X_all = df.drop(['class'],axis = 1 )\n",
    "\n",
    "Y = df['class']\n",
    "\n",
    "X_train, X_test, y_train, y_test = perform_train_test_split(X_all,Y,0.3) # splitting the dataset\n",
    "\n",
    "train, test = std_data(X_train, X_test) # standardizing the train and test sets"
   ]
  },
  {
   "cell_type": "code",
   "execution_count": 10,
   "metadata": {},
   "outputs": [
    {
     "data": {
      "text/plain": [
       "((39644, 58), (27750, 58))"
      ]
     },
     "execution_count": 10,
     "metadata": {},
     "output_type": "execute_result"
    }
   ],
   "source": [
    "X_all.shape, X_train.shape"
   ]
  },
  {
   "cell_type": "code",
   "execution_count": 7,
   "metadata": {},
   "outputs": [
    {
     "data": {
      "image/png": "[encoded data removed]",
      "text/plain": [
       "<Figure size 432x288 with 1 Axes>"
      ]
     },
     "metadata": {
      "needs_background": "light"
     },
     "output_type": "display_data"
    },
    {
     "name": "stdout",
     "output_type": "stream",
     "text": [
      "Confusion Matrix:\n",
      "\n",
      "For Train Data:\n",
      "\n",
      "[[9471 4539]\n",
      " [5009 8731]]\n",
      "\n",
      " For Test Data:\n",
      "\n",
      "[[4030 2042]\n",
      " [2199 3623]]\n"
     ]
    },
    {
     "data": {
      "text/html": [
       "<div>\n",
       "<style scoped>\n",
       "    .dataframe tbody tr th:only-of-type {\n",
       "        vertical-align: middle;\n",
       "    }\n",
       "\n",
       "    .dataframe tbody tr th {\n",
       "        vertical-align: top;\n",
       "    }\n",
       "\n",
       "    .dataframe thead th {\n",
       "        text-align: right;\n",
       "    }\n",
       "</style>\n",
       "<table border=\"1\" class=\"dataframe\">\n",
       "  <thead>\n",
       "    <tr style=\"text-align: right;\">\n",
       "      <th></th>\n",
       "      <th>AUC Train</th>\n",
       "      <th>AUC Test</th>\n",
       "      <th>Acc Train</th>\n",
       "      <th>Acc Test</th>\n",
       "      <th>Pre Train</th>\n",
       "      <th>Pre Test</th>\n",
       "      <th>Re Train</th>\n",
       "      <th>Re Test</th>\n",
       "    </tr>\n",
       "  </thead>\n",
       "  <tbody>\n",
       "    <tr>\n",
       "      <td>Logistic Regression (53)</td>\n",
       "      <td>0.706896</td>\n",
       "      <td>0.697685</td>\n",
       "      <td>0.655928</td>\n",
       "      <td>0.643434</td>\n",
       "      <td>0.65795</td>\n",
       "      <td>0.639541</td>\n",
       "      <td>0.635444</td>\n",
       "      <td>0.622295</td>\n",
       "    </tr>\n",
       "  </tbody>\n",
       "</table>\n",
       "</div>"
      ],
      "text/plain": [
       "                          AUC Train  AUC Test  Acc Train  Acc Test  Pre Train  \\\n",
       "Logistic Regression (53)   0.706896  0.697685   0.655928  0.643434    0.65795   \n",
       "\n",
       "                          Pre Test  Re Train   Re Test  \n",
       "Logistic Regression (53)  0.639541  0.635444  0.622295  "
      ]
     },
     "execution_count": 7,
     "metadata": {},
     "output_type": "execute_result"
    }
   ],
   "source": [
    "# default parameters\n",
    "LOGREG = LogisticRegression(random_state = 0, max_iter = 1000) \n",
    "\n",
    "models = [('Logistic Regression (53)', LOGREG)]\n",
    "\n",
    "fit_predict_plot(train, test, y_train, y_test, models) # implementing the model"
   ]
  },
  {
   "cell_type": "code",
   "execution_count": 8,
   "metadata": {},
   "outputs": [
    {
     "data": {
      "image/png": "[encoded data removed]",
      "text/plain": [
       "<Figure size 432x288 with 1 Axes>"
      ]
     },
     "metadata": {
      "needs_background": "light"
     },
     "output_type": "display_data"
    },
    {
     "name": "stdout",
     "output_type": "stream",
     "text": [
      "Confusion Matrix:\n",
      "\n",
      "For Train Data:\n",
      "\n",
      "[[14010     0]\n",
      " [    0 13740]]\n",
      "\n",
      " For Test Data:\n",
      "\n",
      "[[3577 2495]\n",
      " [2450 3372]]\n"
     ]
    },
    {
     "data": {
      "text/html": [
       "<div>\n",
       "<style scoped>\n",
       "    .dataframe tbody tr th:only-of-type {\n",
       "        vertical-align: middle;\n",
       "    }\n",
       "\n",
       "    .dataframe tbody tr th {\n",
       "        vertical-align: top;\n",
       "    }\n",
       "\n",
       "    .dataframe thead th {\n",
       "        text-align: right;\n",
       "    }\n",
       "</style>\n",
       "<table border=\"1\" class=\"dataframe\">\n",
       "  <thead>\n",
       "    <tr style=\"text-align: right;\">\n",
       "      <th></th>\n",
       "      <th>AUC Train</th>\n",
       "      <th>AUC Test</th>\n",
       "      <th>Acc Train</th>\n",
       "      <th>Acc Test</th>\n",
       "      <th>Pre Train</th>\n",
       "      <th>Pre Test</th>\n",
       "      <th>Re Train</th>\n",
       "      <th>Re Test</th>\n",
       "    </tr>\n",
       "  </thead>\n",
       "  <tbody>\n",
       "    <tr>\n",
       "      <td>Logistic Regression (53)</td>\n",
       "      <td>0.706896</td>\n",
       "      <td>0.697685</td>\n",
       "      <td>0.655928</td>\n",
       "      <td>0.643434</td>\n",
       "      <td>0.65795</td>\n",
       "      <td>0.639541</td>\n",
       "      <td>0.635444</td>\n",
       "      <td>0.622295</td>\n",
       "    </tr>\n",
       "    <tr>\n",
       "      <td>Decision Tree (53)</td>\n",
       "      <td>1.000000</td>\n",
       "      <td>0.584140</td>\n",
       "      <td>1.000000</td>\n",
       "      <td>0.584244</td>\n",
       "      <td>1.00000</td>\n",
       "      <td>0.574740</td>\n",
       "      <td>1.000000</td>\n",
       "      <td>0.579182</td>\n",
       "    </tr>\n",
       "  </tbody>\n",
       "</table>\n",
       "</div>"
      ],
      "text/plain": [
       "                          AUC Train  AUC Test  Acc Train  Acc Test  Pre Train  \\\n",
       "Logistic Regression (53)   0.706896  0.697685   0.655928  0.643434    0.65795   \n",
       "Decision Tree (53)         1.000000  0.584140   1.000000  0.584244    1.00000   \n",
       "\n",
       "                          Pre Test  Re Train   Re Test  \n",
       "Logistic Regression (53)  0.639541  0.635444  0.622295  \n",
       "Decision Tree (53)        0.574740  1.000000  0.579182  "
      ]
     },
     "execution_count": 8,
     "metadata": {},
     "output_type": "execute_result"
    }
   ],
   "source": [
    "# with default parameters\n",
    "\n",
    "default_DT = DecisionTreeClassifier(random_state = 0)\n",
    "\n",
    "models = []\n",
    "models.append(('Decision Tree (53)', default_DT))\n",
    "\n",
    "fit_predict_plot(train, test, y_train, y_test, models) # implementing the model"
   ]
  },
  {
   "cell_type": "code",
   "execution_count": 9,
   "metadata": {},
   "outputs": [
    {
     "data": {
      "image/png": "[encoded data removed]",
      "text/plain": [
       "<Figure size 432x288 with 1 Axes>"
      ]
     },
     "metadata": {
      "needs_background": "light"
     },
     "output_type": "display_data"
    },
    {
     "name": "stdout",
     "output_type": "stream",
     "text": [
      "Confusion Matrix:\n",
      "\n",
      "For Train Data:\n",
      "\n",
      "[[14010     0]\n",
      " [    0 13740]]\n",
      "\n",
      " For Test Data:\n",
      "\n",
      "[[4066 2006]\n",
      " [2094 3728]]\n"
     ]
    },
    {
     "data": {
      "text/html": [
       "<div>\n",
       "<style scoped>\n",
       "    .dataframe tbody tr th:only-of-type {\n",
       "        vertical-align: middle;\n",
       "    }\n",
       "\n",
       "    .dataframe tbody tr th {\n",
       "        vertical-align: top;\n",
       "    }\n",
       "\n",
       "    .dataframe thead th {\n",
       "        text-align: right;\n",
       "    }\n",
       "</style>\n",
       "<table border=\"1\" class=\"dataframe\">\n",
       "  <thead>\n",
       "    <tr style=\"text-align: right;\">\n",
       "      <th></th>\n",
       "      <th>AUC Train</th>\n",
       "      <th>AUC Test</th>\n",
       "      <th>Acc Train</th>\n",
       "      <th>Acc Test</th>\n",
       "      <th>Pre Train</th>\n",
       "      <th>Pre Test</th>\n",
       "      <th>Re Train</th>\n",
       "      <th>Re Test</th>\n",
       "    </tr>\n",
       "  </thead>\n",
       "  <tbody>\n",
       "    <tr>\n",
       "      <td>Logistic Regression (53)</td>\n",
       "      <td>0.706896</td>\n",
       "      <td>0.697685</td>\n",
       "      <td>0.655928</td>\n",
       "      <td>0.643434</td>\n",
       "      <td>0.65795</td>\n",
       "      <td>0.639541</td>\n",
       "      <td>0.635444</td>\n",
       "      <td>0.622295</td>\n",
       "    </tr>\n",
       "    <tr>\n",
       "      <td>Decision Tree (53)</td>\n",
       "      <td>1.000000</td>\n",
       "      <td>0.584140</td>\n",
       "      <td>1.000000</td>\n",
       "      <td>0.584244</td>\n",
       "      <td>1.00000</td>\n",
       "      <td>0.574740</td>\n",
       "      <td>1.000000</td>\n",
       "      <td>0.579182</td>\n",
       "    </tr>\n",
       "    <tr>\n",
       "      <td>Random Forest (53)</td>\n",
       "      <td>1.000000</td>\n",
       "      <td>0.718974</td>\n",
       "      <td>1.000000</td>\n",
       "      <td>0.655288</td>\n",
       "      <td>1.00000</td>\n",
       "      <td>0.650157</td>\n",
       "      <td>1.000000</td>\n",
       "      <td>0.640330</td>\n",
       "    </tr>\n",
       "  </tbody>\n",
       "</table>\n",
       "</div>"
      ],
      "text/plain": [
       "                          AUC Train  AUC Test  Acc Train  Acc Test  Pre Train  \\\n",
       "Logistic Regression (53)   0.706896  0.697685   0.655928  0.643434    0.65795   \n",
       "Decision Tree (53)         1.000000  0.584140   1.000000  0.584244    1.00000   \n",
       "Random Forest (53)         1.000000  0.718974   1.000000  0.655288    1.00000   \n",
       "\n",
       "                          Pre Test  Re Train   Re Test  \n",
       "Logistic Regression (53)  0.639541  0.635444  0.622295  \n",
       "Decision Tree (53)        0.574740  1.000000  0.579182  \n",
       "Random Forest (53)        0.650157  1.000000  0.640330  "
      ]
     },
     "execution_count": 9,
     "metadata": {},
     "output_type": "execute_result"
    }
   ],
   "source": [
    "# default parameters\n",
    "\n",
    "default_RF = RandomForestClassifier(random_state = 0)\n",
    "\n",
    "models = []\n",
    "models.append(('Random Forest (53)',default_RF))\n",
    "\n",
    "fit_predict_plot(train,test,y_train,y_test,models)"
   ]
  },
  {
   "cell_type": "code",
   "execution_count": 10,
   "metadata": {},
   "outputs": [
    {
     "data": {
      "image/png": "[encoded data removed]",
      "text/plain": [
       "<Figure size 432x288 with 1 Axes>"
      ]
     },
     "metadata": {
      "needs_background": "light"
     },
     "output_type": "display_data"
    },
    {
     "name": "stdout",
     "output_type": "stream",
     "text": [
      "Confusion Matrix:\n",
      "\n",
      "For Train Data:\n",
      "\n",
      "[[9713 4297]\n",
      " [4403 9337]]\n",
      "\n",
      " For Test Data:\n",
      "\n",
      "[[4081 1991]\n",
      " [2019 3803]]\n"
     ]
    },
    {
     "data": {
      "text/html": [
       "<div>\n",
       "<style scoped>\n",
       "    .dataframe tbody tr th:only-of-type {\n",
       "        vertical-align: middle;\n",
       "    }\n",
       "\n",
       "    .dataframe tbody tr th {\n",
       "        vertical-align: top;\n",
       "    }\n",
       "\n",
       "    .dataframe thead th {\n",
       "        text-align: right;\n",
       "    }\n",
       "</style>\n",
       "<table border=\"1\" class=\"dataframe\">\n",
       "  <thead>\n",
       "    <tr style=\"text-align: right;\">\n",
       "      <th></th>\n",
       "      <th>AUC Train</th>\n",
       "      <th>AUC Test</th>\n",
       "      <th>Acc Train</th>\n",
       "      <th>Acc Test</th>\n",
       "      <th>Pre Train</th>\n",
       "      <th>Pre Test</th>\n",
       "      <th>Re Train</th>\n",
       "      <th>Re Test</th>\n",
       "    </tr>\n",
       "  </thead>\n",
       "  <tbody>\n",
       "    <tr>\n",
       "      <td>Logistic Regression (53)</td>\n",
       "      <td>0.706896</td>\n",
       "      <td>0.697685</td>\n",
       "      <td>0.655928</td>\n",
       "      <td>0.643434</td>\n",
       "      <td>0.657950</td>\n",
       "      <td>0.639541</td>\n",
       "      <td>0.635444</td>\n",
       "      <td>0.622295</td>\n",
       "    </tr>\n",
       "    <tr>\n",
       "      <td>Decision Tree (53)</td>\n",
       "      <td>1.000000</td>\n",
       "      <td>0.584140</td>\n",
       "      <td>1.000000</td>\n",
       "      <td>0.584244</td>\n",
       "      <td>1.000000</td>\n",
       "      <td>0.574740</td>\n",
       "      <td>1.000000</td>\n",
       "      <td>0.579182</td>\n",
       "    </tr>\n",
       "    <tr>\n",
       "      <td>Random Forest (53)</td>\n",
       "      <td>1.000000</td>\n",
       "      <td>0.718974</td>\n",
       "      <td>1.000000</td>\n",
       "      <td>0.655288</td>\n",
       "      <td>1.000000</td>\n",
       "      <td>0.650157</td>\n",
       "      <td>1.000000</td>\n",
       "      <td>0.640330</td>\n",
       "    </tr>\n",
       "    <tr>\n",
       "      <td>Gradient Boost (53)</td>\n",
       "      <td>0.754509</td>\n",
       "      <td>0.722535</td>\n",
       "      <td>0.686486</td>\n",
       "      <td>0.662855</td>\n",
       "      <td>0.684832</td>\n",
       "      <td>0.656369</td>\n",
       "      <td>0.679549</td>\n",
       "      <td>0.653212</td>\n",
       "    </tr>\n",
       "  </tbody>\n",
       "</table>\n",
       "</div>"
      ],
      "text/plain": [
       "                          AUC Train  AUC Test  Acc Train  Acc Test  Pre Train  \\\n",
       "Logistic Regression (53)   0.706896  0.697685   0.655928  0.643434   0.657950   \n",
       "Decision Tree (53)         1.000000  0.584140   1.000000  0.584244   1.000000   \n",
       "Random Forest (53)         1.000000  0.718974   1.000000  0.655288   1.000000   \n",
       "Gradient Boost (53)        0.754509  0.722535   0.686486  0.662855   0.684832   \n",
       "\n",
       "                          Pre Test  Re Train   Re Test  \n",
       "Logistic Regression (53)  0.639541  0.635444  0.622295  \n",
       "Decision Tree (53)        0.574740  1.000000  0.579182  \n",
       "Random Forest (53)        0.650157  1.000000  0.640330  \n",
       "Gradient Boost (53)       0.656369  0.679549  0.653212  "
      ]
     },
     "execution_count": 10,
     "metadata": {},
     "output_type": "execute_result"
    }
   ],
   "source": [
    "# with default parameters\n",
    "default_GB = GradientBoostingClassifier(random_state = 0)\n",
    "\n",
    "models = []\n",
    "models.append(('Gradient Boost (53)',default_GB))\n",
    "\n",
    "fit_predict_plot(train,test,y_train,y_test,models)"
   ]
  },
  {
   "cell_type": "code",
   "execution_count": null,
   "metadata": {},
   "outputs": [],
   "source": [
    "## SVM default parameters\n",
    "\n",
    "default_SVM = svm.SVC(probability = True,random_state = 0)\n",
    "\n",
    "models = []\n",
    "models.append(('SVM',default_SVM))\n",
    "\n",
    "fit_predict_plot(train,test,y_train,y_test,models)"
   ]
  },
  {
   "cell_type": "code",
   "execution_count": 11,
   "metadata": {},
   "outputs": [],
   "source": [
    "# run only if required \n",
    "dfObj.drop(dfObj.index, inplace=True)"
   ]
  },
  {
   "cell_type": "markdown",
   "metadata": {},
   "source": [
    "## Considering significant features (final)"
   ]
  },
  {
   "cell_type": "code",
   "execution_count": 5,
   "metadata": {},
   "outputs": [
    {
     "data": {
      "text/plain": [
       "((39644, 53), (27750, 53))"
      ]
     },
     "execution_count": 5,
     "metadata": {},
     "output_type": "execute_result"
    }
   ],
   "source": [
    "X = df.drop(['class','avg_negative_polarity','min_negative_polarity','max_negative_polarity','abs_title_subjectivity',\n",
    "            'weekday_is_friday'],axis = 1 )\n",
    "\n",
    "Y = df['class']\n",
    "\n",
    "X_train, X_test, y_train, y_test = perform_train_test_split(X,Y,0.3) # splitting the dataset\n",
    "\n",
    "train, test = std_data(X_train, X_test) # standardizing the train and test sets\n",
    "\n",
    "X.shape, X_train.shape"
   ]
  },
  {
   "cell_type": "markdown",
   "metadata": {},
   "source": [
    "## 4. Model Implementation\n",
    "\n",
    "### 4.1 Base model Logistic Regression\n"
   ]
  },
  {
   "cell_type": "code",
   "execution_count": 13,
   "metadata": {},
   "outputs": [
    {
     "data": {
      "image/png": "[encoded data removed]",
      "text/plain": [
       "<Figure size 432x288 with 1 Axes>"
      ]
     },
     "metadata": {
      "needs_background": "light"
     },
     "output_type": "display_data"
    },
    {
     "name": "stdout",
     "output_type": "stream",
     "text": [
      "Confusion Matrix:\n",
      "\n",
      "For Train Data:\n",
      "\n",
      "[[9460 4550]\n",
      " [4991 8749]]\n",
      "\n",
      " For Test Data:\n",
      "\n",
      "[[4023 2049]\n",
      " [2195 3627]]\n"
     ]
    },
    {
     "data": {
      "text/html": [
       "<div>\n",
       "<style scoped>\n",
       "    .dataframe tbody tr th:only-of-type {\n",
       "        vertical-align: middle;\n",
       "    }\n",
       "\n",
       "    .dataframe tbody tr th {\n",
       "        vertical-align: top;\n",
       "    }\n",
       "\n",
       "    .dataframe thead th {\n",
       "        text-align: right;\n",
       "    }\n",
       "</style>\n",
       "<table border=\"1\" class=\"dataframe\">\n",
       "  <thead>\n",
       "    <tr style=\"text-align: right;\">\n",
       "      <th></th>\n",
       "      <th>AUC Train</th>\n",
       "      <th>AUC Test</th>\n",
       "      <th>Acc Train</th>\n",
       "      <th>Acc Test</th>\n",
       "      <th>Pre Train</th>\n",
       "      <th>Pre Test</th>\n",
       "      <th>Re Train</th>\n",
       "      <th>Re Test</th>\n",
       "    </tr>\n",
       "  </thead>\n",
       "  <tbody>\n",
       "    <tr>\n",
       "      <td>Logistic Regression</td>\n",
       "      <td>0.706581</td>\n",
       "      <td>0.697509</td>\n",
       "      <td>0.65618</td>\n",
       "      <td>0.643181</td>\n",
       "      <td>0.657869</td>\n",
       "      <td>0.639006</td>\n",
       "      <td>0.636754</td>\n",
       "      <td>0.622982</td>\n",
       "    </tr>\n",
       "  </tbody>\n",
       "</table>\n",
       "</div>"
      ],
      "text/plain": [
       "                     AUC Train  AUC Test  Acc Train  Acc Test  Pre Train  \\\n",
       "Logistic Regression   0.706581  0.697509    0.65618  0.643181   0.657869   \n",
       "\n",
       "                     Pre Test  Re Train   Re Test  \n",
       "Logistic Regression  0.639006  0.636754  0.622982  "
      ]
     },
     "execution_count": 13,
     "metadata": {},
     "output_type": "execute_result"
    }
   ],
   "source": [
    "# initialized parameters\n",
    "LOGREG = LogisticRegression(random_state = 0 ,max_iter = 1000) \n",
    "\n",
    "models = [('Logistic Regression', LOGREG)]\n",
    "\n",
    "fit_predict_plot(train, test, y_train, y_test, models) # implementing the model"
   ]
  },
  {
   "cell_type": "markdown",
   "metadata": {},
   "source": [
    " "
   ]
  },
  {
   "cell_type": "markdown",
   "metadata": {},
   "source": [
    "### 4.2  Decision Tree"
   ]
  },
  {
   "cell_type": "code",
   "execution_count": 14,
   "metadata": {},
   "outputs": [
    {
     "data": {
      "image/png": "[encoded data removed]",
      "text/plain": [
       "<Figure size 432x288 with 1 Axes>"
      ]
     },
     "metadata": {
      "needs_background": "light"
     },
     "output_type": "display_data"
    },
    {
     "name": "stdout",
     "output_type": "stream",
     "text": [
      "Confusion Matrix:\n",
      "\n",
      "For Train Data:\n",
      "\n",
      "[[9298 4712]\n",
      " [5584 8156]]\n",
      "\n",
      " For Test Data:\n",
      "\n",
      "[[3992 2080]\n",
      " [2389 3433]]\n"
     ]
    },
    {
     "data": {
      "text/html": [
       "<div>\n",
       "<style scoped>\n",
       "    .dataframe tbody tr th:only-of-type {\n",
       "        vertical-align: middle;\n",
       "    }\n",
       "\n",
       "    .dataframe tbody tr th {\n",
       "        vertical-align: top;\n",
       "    }\n",
       "\n",
       "    .dataframe thead th {\n",
       "        text-align: right;\n",
       "    }\n",
       "</style>\n",
       "<table border=\"1\" class=\"dataframe\">\n",
       "  <thead>\n",
       "    <tr style=\"text-align: right;\">\n",
       "      <th></th>\n",
       "      <th>AUC Train</th>\n",
       "      <th>AUC Test</th>\n",
       "      <th>Acc Train</th>\n",
       "      <th>Acc Test</th>\n",
       "      <th>Pre Train</th>\n",
       "      <th>Pre Test</th>\n",
       "      <th>Re Train</th>\n",
       "      <th>Re Test</th>\n",
       "    </tr>\n",
       "  </thead>\n",
       "  <tbody>\n",
       "    <tr>\n",
       "      <td>Logistic Regression</td>\n",
       "      <td>0.706581</td>\n",
       "      <td>0.697509</td>\n",
       "      <td>0.656180</td>\n",
       "      <td>0.643181</td>\n",
       "      <td>0.657869</td>\n",
       "      <td>0.639006</td>\n",
       "      <td>0.636754</td>\n",
       "      <td>0.622982</td>\n",
       "    </tr>\n",
       "    <tr>\n",
       "      <td>Decision Tree</td>\n",
       "      <td>0.658214</td>\n",
       "      <td>0.649808</td>\n",
       "      <td>0.628973</td>\n",
       "      <td>0.624264</td>\n",
       "      <td>0.633820</td>\n",
       "      <td>0.622710</td>\n",
       "      <td>0.593595</td>\n",
       "      <td>0.589660</td>\n",
       "    </tr>\n",
       "  </tbody>\n",
       "</table>\n",
       "</div>"
      ],
      "text/plain": [
       "                     AUC Train  AUC Test  Acc Train  Acc Test  Pre Train  \\\n",
       "Logistic Regression   0.706581  0.697509   0.656180  0.643181   0.657869   \n",
       "Decision Tree         0.658214  0.649808   0.628973  0.624264   0.633820   \n",
       "\n",
       "                     Pre Test  Re Train   Re Test  \n",
       "Logistic Regression  0.639006  0.636754  0.622982  \n",
       "Decision Tree        0.622710  0.593595  0.589660  "
      ]
     },
     "execution_count": 14,
     "metadata": {},
     "output_type": "execute_result"
    }
   ],
   "source": [
    "# initialized parameters\n",
    "DT = DecisionTreeClassifier(max_depth = 3, min_samples_leaf = 10, min_samples_split = 11, random_state = 0)\n",
    "\n",
    "models = []\n",
    "models.append(('Decision Tree',DT))\n",
    "\n",
    "fit_predict_plot(train,test,y_train,y_test,models)"
   ]
  },
  {
   "cell_type": "markdown",
   "metadata": {},
   "source": [
    "## Implementing Ensemble Models"
   ]
  },
  {
   "cell_type": "markdown",
   "metadata": {},
   "source": [
    "### 4.3 Random Forest"
   ]
  },
  {
   "cell_type": "code",
   "execution_count": 15,
   "metadata": {},
   "outputs": [
    {
     "data": {
      "image/png": "[encoded data removed]",
      "text/plain": [
       "<Figure size 432x288 with 1 Axes>"
      ]
     },
     "metadata": {
      "needs_background": "light"
     },
     "output_type": "display_data"
    },
    {
     "name": "stdout",
     "output_type": "stream",
     "text": [
      "Confusion Matrix:\n",
      "\n",
      "For Train Data:\n",
      "\n",
      "[[9286 4724]\n",
      " [5067 8673]]\n",
      "\n",
      " For Test Data:\n",
      "\n",
      "[[4002 2070]\n",
      " [2181 3641]]\n"
     ]
    },
    {
     "data": {
      "text/html": [
       "<div>\n",
       "<style scoped>\n",
       "    .dataframe tbody tr th:only-of-type {\n",
       "        vertical-align: middle;\n",
       "    }\n",
       "\n",
       "    .dataframe tbody tr th {\n",
       "        vertical-align: top;\n",
       "    }\n",
       "\n",
       "    .dataframe thead th {\n",
       "        text-align: right;\n",
       "    }\n",
       "</style>\n",
       "<table border=\"1\" class=\"dataframe\">\n",
       "  <thead>\n",
       "    <tr style=\"text-align: right;\">\n",
       "      <th></th>\n",
       "      <th>AUC Train</th>\n",
       "      <th>AUC Test</th>\n",
       "      <th>Acc Train</th>\n",
       "      <th>Acc Test</th>\n",
       "      <th>Pre Train</th>\n",
       "      <th>Pre Test</th>\n",
       "      <th>Re Train</th>\n",
       "      <th>Re Test</th>\n",
       "    </tr>\n",
       "  </thead>\n",
       "  <tbody>\n",
       "    <tr>\n",
       "      <td>Logistic Regression</td>\n",
       "      <td>0.706581</td>\n",
       "      <td>0.697509</td>\n",
       "      <td>0.656180</td>\n",
       "      <td>0.643181</td>\n",
       "      <td>0.657869</td>\n",
       "      <td>0.639006</td>\n",
       "      <td>0.636754</td>\n",
       "      <td>0.622982</td>\n",
       "    </tr>\n",
       "    <tr>\n",
       "      <td>Decision Tree</td>\n",
       "      <td>0.658214</td>\n",
       "      <td>0.649808</td>\n",
       "      <td>0.628973</td>\n",
       "      <td>0.624264</td>\n",
       "      <td>0.633820</td>\n",
       "      <td>0.622710</td>\n",
       "      <td>0.593595</td>\n",
       "      <td>0.589660</td>\n",
       "    </tr>\n",
       "    <tr>\n",
       "      <td>Random Forest</td>\n",
       "      <td>0.701367</td>\n",
       "      <td>0.692956</td>\n",
       "      <td>0.647171</td>\n",
       "      <td>0.642593</td>\n",
       "      <td>0.647384</td>\n",
       "      <td>0.637542</td>\n",
       "      <td>0.631223</td>\n",
       "      <td>0.625386</td>\n",
       "    </tr>\n",
       "  </tbody>\n",
       "</table>\n",
       "</div>"
      ],
      "text/plain": [
       "                     AUC Train  AUC Test  Acc Train  Acc Test  Pre Train  \\\n",
       "Logistic Regression   0.706581  0.697509   0.656180  0.643181   0.657869   \n",
       "Decision Tree         0.658214  0.649808   0.628973  0.624264   0.633820   \n",
       "Random Forest         0.701367  0.692956   0.647171  0.642593   0.647384   \n",
       "\n",
       "                     Pre Test  Re Train   Re Test  \n",
       "Logistic Regression  0.639006  0.636754  0.622982  \n",
       "Decision Tree        0.622710  0.593595  0.589660  \n",
       "Random Forest        0.637542  0.631223  0.625386  "
      ]
     },
     "execution_count": 15,
     "metadata": {},
     "output_type": "execute_result"
    }
   ],
   "source": [
    "# initialized parameters\n",
    "\n",
    "RF = RandomForestClassifier(max_depth = 3, min_samples_split = 11, min_samples_leaf = 10,random_state = 0)\n",
    "\n",
    "models = []\n",
    "models.append(('Random Forest',RF))\n",
    "\n",
    "fit_predict_plot(train,test,y_train,y_test,models)"
   ]
  },
  {
   "cell_type": "code",
   "execution_count": null,
   "metadata": {},
   "outputs": [],
   "source": []
  },
  {
   "cell_type": "markdown",
   "metadata": {},
   "source": [
    "### Gradient Boost"
   ]
  },
  {
   "cell_type": "code",
   "execution_count": 20,
   "metadata": {},
   "outputs": [
    {
     "data": {
      "image/png": "[encoded data removed]",
      "text/plain": [
       "<Figure size 432x288 with 1 Axes>"
      ]
     },
     "metadata": {
      "needs_background": "light"
     },
     "output_type": "display_data"
    },
    {
     "name": "stdout",
     "output_type": "stream",
     "text": [
      "Confusion Matrix:\n",
      "\n",
      "For Train Data:\n",
      "\n",
      "[[9356 4654]\n",
      " [4764 8976]]\n",
      "\n",
      " For Test Data:\n",
      "\n",
      "[[3965 2107]\n",
      " [2087 3735]]\n"
     ]
    },
    {
     "data": {
      "text/html": [
       "<div>\n",
       "<style scoped>\n",
       "    .dataframe tbody tr th:only-of-type {\n",
       "        vertical-align: middle;\n",
       "    }\n",
       "\n",
       "    .dataframe tbody tr th {\n",
       "        vertical-align: top;\n",
       "    }\n",
       "\n",
       "    .dataframe thead th {\n",
       "        text-align: right;\n",
       "    }\n",
       "</style>\n",
       "<table border=\"1\" class=\"dataframe\">\n",
       "  <thead>\n",
       "    <tr style=\"text-align: right;\">\n",
       "      <th></th>\n",
       "      <th>AUC Train</th>\n",
       "      <th>AUC Test</th>\n",
       "      <th>Acc Train</th>\n",
       "      <th>Acc Test</th>\n",
       "      <th>Pre Train</th>\n",
       "      <th>Pre Test</th>\n",
       "      <th>Re Train</th>\n",
       "      <th>Re Test</th>\n",
       "    </tr>\n",
       "  </thead>\n",
       "  <tbody>\n",
       "    <tr>\n",
       "      <td>Logistic Regression</td>\n",
       "      <td>0.706581</td>\n",
       "      <td>0.697509</td>\n",
       "      <td>0.656180</td>\n",
       "      <td>0.643181</td>\n",
       "      <td>0.657869</td>\n",
       "      <td>0.639006</td>\n",
       "      <td>0.636754</td>\n",
       "      <td>0.622982</td>\n",
       "    </tr>\n",
       "    <tr>\n",
       "      <td>Decision Tree</td>\n",
       "      <td>0.658214</td>\n",
       "      <td>0.649808</td>\n",
       "      <td>0.628973</td>\n",
       "      <td>0.624264</td>\n",
       "      <td>0.633820</td>\n",
       "      <td>0.622710</td>\n",
       "      <td>0.593595</td>\n",
       "      <td>0.589660</td>\n",
       "    </tr>\n",
       "    <tr>\n",
       "      <td>Random Forest</td>\n",
       "      <td>0.701367</td>\n",
       "      <td>0.692956</td>\n",
       "      <td>0.647171</td>\n",
       "      <td>0.642593</td>\n",
       "      <td>0.647384</td>\n",
       "      <td>0.637542</td>\n",
       "      <td>0.631223</td>\n",
       "      <td>0.625386</td>\n",
       "    </tr>\n",
       "    <tr>\n",
       "      <td>Boosted Decision Tree</td>\n",
       "      <td>0.732882</td>\n",
       "      <td>0.708357</td>\n",
       "      <td>0.668721</td>\n",
       "      <td>0.651169</td>\n",
       "      <td>0.669728</td>\n",
       "      <td>0.647505</td>\n",
       "      <td>0.652911</td>\n",
       "      <td>0.630711</td>\n",
       "    </tr>\n",
       "    <tr>\n",
       "      <td>Boosted Random Forest</td>\n",
       "      <td>0.747595</td>\n",
       "      <td>0.721972</td>\n",
       "      <td>0.680757</td>\n",
       "      <td>0.662014</td>\n",
       "      <td>0.678464</td>\n",
       "      <td>0.654175</td>\n",
       "      <td>0.675255</td>\n",
       "      <td>0.656647</td>\n",
       "    </tr>\n",
       "    <tr>\n",
       "      <td>Gradient Boost</td>\n",
       "      <td>0.719067</td>\n",
       "      <td>0.703941</td>\n",
       "      <td>0.660613</td>\n",
       "      <td>0.647385</td>\n",
       "      <td>0.658547</td>\n",
       "      <td>0.639336</td>\n",
       "      <td>0.653275</td>\n",
       "      <td>0.641532</td>\n",
       "    </tr>\n",
       "  </tbody>\n",
       "</table>\n",
       "</div>"
      ],
      "text/plain": [
       "                       AUC Train  AUC Test  Acc Train  Acc Test  Pre Train  \\\n",
       "Logistic Regression     0.706581  0.697509   0.656180  0.643181   0.657869   \n",
       "Decision Tree           0.658214  0.649808   0.628973  0.624264   0.633820   \n",
       "Random Forest           0.701367  0.692956   0.647171  0.642593   0.647384   \n",
       "Boosted Decision Tree   0.732882  0.708357   0.668721  0.651169   0.669728   \n",
       "Boosted Random Forest   0.747595  0.721972   0.680757  0.662014   0.678464   \n",
       "Gradient Boost          0.719067  0.703941   0.660613  0.647385   0.658547   \n",
       "\n",
       "                       Pre Test  Re Train   Re Test  \n",
       "Logistic Regression    0.639006  0.636754  0.622982  \n",
       "Decision Tree          0.622710  0.593595  0.589660  \n",
       "Random Forest          0.637542  0.631223  0.625386  \n",
       "Boosted Decision Tree  0.647505  0.652911  0.630711  \n",
       "Boosted Random Forest  0.654175  0.675255  0.656647  \n",
       "Gradient Boost         0.639336  0.653275  0.641532  "
      ]
     },
     "execution_count": 20,
     "metadata": {},
     "output_type": "execute_result"
    }
   ],
   "source": [
    "# initialized parameters\n",
    "GB = GradientBoostingClassifier(max_depth = 3, min_samples_split = 11, min_samples_leaf = 10, \n",
    "                                n_estimators = 20, random_state = 0)\n",
    "\n",
    "models = []\n",
    "models.append(('Gradient Boost',GB))\n",
    "\n",
    "fit_predict_plot(train,test,y_train,y_test,models)"
   ]
  },
  {
   "cell_type": "code",
   "execution_count": null,
   "metadata": {},
   "outputs": [],
   "source": []
  },
  {
   "cell_type": "markdown",
   "metadata": {},
   "source": [
    "## Support Vector Machine"
   ]
  },
  {
   "cell_type": "code",
   "execution_count": 7,
   "metadata": {},
   "outputs": [
    {
     "data": {
      "image/png": "[encoded data removed]",
      "text/plain": [
       "<Figure size 432x288 with 1 Axes>"
      ]
     },
     "metadata": {
      "needs_background": "light"
     },
     "output_type": "display_data"
    },
    {
     "name": "stdout",
     "output_type": "stream",
     "text": [
      "Confusion Matrix:\n",
      "\n",
      "For Train Data:\n",
      "\n",
      "[[9208 4802]\n",
      " [5050 8690]]\n",
      "\n",
      " For Test Data:\n",
      "\n",
      "[[3919 2153]\n",
      " [2210 3612]]\n"
     ]
    },
    {
     "data": {
      "text/html": [
       "<div>\n",
       "<style scoped>\n",
       "    .dataframe tbody tr th:only-of-type {\n",
       "        vertical-align: middle;\n",
       "    }\n",
       "\n",
       "    .dataframe tbody tr th {\n",
       "        vertical-align: top;\n",
       "    }\n",
       "\n",
       "    .dataframe thead th {\n",
       "        text-align: right;\n",
       "    }\n",
       "</style>\n",
       "<table border=\"1\" class=\"dataframe\">\n",
       "  <thead>\n",
       "    <tr style=\"text-align: right;\">\n",
       "      <th></th>\n",
       "      <th>AUC Train</th>\n",
       "      <th>AUC Test</th>\n",
       "      <th>Acc Train</th>\n",
       "      <th>Acc Test</th>\n",
       "      <th>Pre Train</th>\n",
       "      <th>Pre Test</th>\n",
       "      <th>Re Train</th>\n",
       "      <th>Re Test</th>\n",
       "    </tr>\n",
       "  </thead>\n",
       "  <tbody>\n",
       "    <tr>\n",
       "      <td>SVM</td>\n",
       "      <td>0.699929</td>\n",
       "      <td>0.689926</td>\n",
       "      <td>0.644973</td>\n",
       "      <td>0.633176</td>\n",
       "      <td>0.644085</td>\n",
       "      <td>0.626539</td>\n",
       "      <td>0.63246</td>\n",
       "      <td>0.620405</td>\n",
       "    </tr>\n",
       "  </tbody>\n",
       "</table>\n",
       "</div>"
      ],
      "text/plain": [
       "     AUC Train  AUC Test  Acc Train  Acc Test  Pre Train  Pre Test  Re Train  \\\n",
       "SVM   0.699929  0.689926   0.644973  0.633176   0.644085  0.626539   0.63246   \n",
       "\n",
       "      Re Test  \n",
       "SVM  0.620405  "
      ]
     },
     "execution_count": 7,
     "metadata": {},
     "output_type": "execute_result"
    }
   ],
   "source": [
    "default_SVM = svm.SVC(kernel = 'linear', gamma = 'auto', probability = True,random_state = 0)\n",
    "\n",
    "models = []\n",
    "models.append(('SVM',default_SVM))\n",
    "\n",
    "fit_predict_plot(train,test,y_train,y_test,models)"
   ]
  },
  {
   "cell_type": "code",
   "execution_count": null,
   "metadata": {},
   "outputs": [],
   "source": []
  },
  {
   "cell_type": "markdown",
   "metadata": {},
   "source": [
    "## Comaprison of Models"
   ]
  },
  {
   "cell_type": "code",
   "execution_count": 21,
   "metadata": {},
   "outputs": [],
   "source": [
    "# dataframe styles\n",
    "th_props = [\n",
    "  ('font-size', '11px'),\n",
    "  ('text-align', 'left'),\n",
    "  ('font-weight', 'bold'),\n",
    "  ('color', '#6d6d6d'),\n",
    "  ('background-color', '#f7f7f9')\n",
    "  ]\n",
    "\n",
    "# Set CSS properties for td elements in dataframe\n",
    "td_props = [\n",
    "  ('font-size', '11px'),\n",
    "  ('text-align', 'left'),\n",
    "  ]\n",
    "\n",
    "# Set table styles\n",
    "styles = [\n",
    "  dict(selector=\"th\", props=th_props),\n",
    "  dict(selector=\"td\", props=td_props)\n",
    "  ]\n",
    "\n",
    "\n",
    "def compare_models():\n",
    "    \n",
    "    final_scores = dfObj\n",
    "\n",
    "    final_scores.columns = ['Train','Test','Train','Test','Train','Test','Train','Test']\n",
    "\n",
    "    headers = pd.MultiIndex.from_product([['ROC_AUC','ACCURACY','PRECISION','RECALL'],['Train','Test']])\n",
    "\n",
    "    final_scores.columns = headers\n",
    "\n",
    "    return final_scores.style.set_table_styles(styles)\n",
    "\n",
    "    #final_scores['ACCURACY'], final_scores['ACCURACY'].plot(kind ='bar')"
   ]
  },
  {
   "cell_type": "markdown",
   "metadata": {},
   "source": [
    "### Models with significant features and initialized parameters"
   ]
  },
  {
   "cell_type": "code",
   "execution_count": 22,
   "metadata": {},
   "outputs": [
    {
     "data": {
      "text/html": [
       "<style  type=\"text/css\" >\n",
       "    #T_3882ae3e_a16d_11ea_b57b_c465169f896d th {\n",
       "          font-size: 11px;\n",
       "          text-align: left;\n",
       "          font-weight: bold;\n",
       "          color: #6d6d6d;\n",
       "          background-color: #f7f7f9;\n",
       "    }    #T_3882ae3e_a16d_11ea_b57b_c465169f896d td {\n",
       "          font-size: 11px;\n",
       "          text-align: left;\n",
       "    }</style><table id=\"T_3882ae3e_a16d_11ea_b57b_c465169f896d\" ><thead>    <tr>        <th class=\"blank level0\" ></th>        <th class=\"col_heading level0 col0\" colspan=2>ROC_AUC</th>        <th class=\"col_heading level0 col2\" colspan=2>ACCURACY</th>        <th class=\"col_heading level0 col4\" colspan=2>PRECISION</th>        <th class=\"col_heading level0 col6\" colspan=2>RECALL</th>    </tr>    <tr>        <th class=\"blank level1\" ></th>        <th class=\"col_heading level1 col0\" >Train</th>        <th class=\"col_heading level1 col1\" >Test</th>        <th class=\"col_heading level1 col2\" >Train</th>        <th class=\"col_heading level1 col3\" >Test</th>        <th class=\"col_heading level1 col4\" >Train</th>        <th class=\"col_heading level1 col5\" >Test</th>        <th class=\"col_heading level1 col6\" >Train</th>        <th class=\"col_heading level1 col7\" >Test</th>    </tr></thead><tbody>\n",
       "                <tr>\n",
       "                        <th id=\"T_3882ae3e_a16d_11ea_b57b_c465169f896dlevel0_row0\" class=\"row_heading level0 row0\" >Logistic Regression</th>\n",
       "                        <td id=\"T_3882ae3e_a16d_11ea_b57b_c465169f896drow0_col0\" class=\"data row0 col0\" >0.706581</td>\n",
       "                        <td id=\"T_3882ae3e_a16d_11ea_b57b_c465169f896drow0_col1\" class=\"data row0 col1\" >0.697509</td>\n",
       "                        <td id=\"T_3882ae3e_a16d_11ea_b57b_c465169f896drow0_col2\" class=\"data row0 col2\" >0.65618</td>\n",
       "                        <td id=\"T_3882ae3e_a16d_11ea_b57b_c465169f896drow0_col3\" class=\"data row0 col3\" >0.643181</td>\n",
       "                        <td id=\"T_3882ae3e_a16d_11ea_b57b_c465169f896drow0_col4\" class=\"data row0 col4\" >0.657869</td>\n",
       "                        <td id=\"T_3882ae3e_a16d_11ea_b57b_c465169f896drow0_col5\" class=\"data row0 col5\" >0.639006</td>\n",
       "                        <td id=\"T_3882ae3e_a16d_11ea_b57b_c465169f896drow0_col6\" class=\"data row0 col6\" >0.636754</td>\n",
       "                        <td id=\"T_3882ae3e_a16d_11ea_b57b_c465169f896drow0_col7\" class=\"data row0 col7\" >0.622982</td>\n",
       "            </tr>\n",
       "            <tr>\n",
       "                        <th id=\"T_3882ae3e_a16d_11ea_b57b_c465169f896dlevel0_row1\" class=\"row_heading level0 row1\" >Decision Tree</th>\n",
       "                        <td id=\"T_3882ae3e_a16d_11ea_b57b_c465169f896drow1_col0\" class=\"data row1 col0\" >0.658214</td>\n",
       "                        <td id=\"T_3882ae3e_a16d_11ea_b57b_c465169f896drow1_col1\" class=\"data row1 col1\" >0.649808</td>\n",
       "                        <td id=\"T_3882ae3e_a16d_11ea_b57b_c465169f896drow1_col2\" class=\"data row1 col2\" >0.628973</td>\n",
       "                        <td id=\"T_3882ae3e_a16d_11ea_b57b_c465169f896drow1_col3\" class=\"data row1 col3\" >0.624264</td>\n",
       "                        <td id=\"T_3882ae3e_a16d_11ea_b57b_c465169f896drow1_col4\" class=\"data row1 col4\" >0.63382</td>\n",
       "                        <td id=\"T_3882ae3e_a16d_11ea_b57b_c465169f896drow1_col5\" class=\"data row1 col5\" >0.62271</td>\n",
       "                        <td id=\"T_3882ae3e_a16d_11ea_b57b_c465169f896drow1_col6\" class=\"data row1 col6\" >0.593595</td>\n",
       "                        <td id=\"T_3882ae3e_a16d_11ea_b57b_c465169f896drow1_col7\" class=\"data row1 col7\" >0.58966</td>\n",
       "            </tr>\n",
       "            <tr>\n",
       "                        <th id=\"T_3882ae3e_a16d_11ea_b57b_c465169f896dlevel0_row2\" class=\"row_heading level0 row2\" >Random Forest</th>\n",
       "                        <td id=\"T_3882ae3e_a16d_11ea_b57b_c465169f896drow2_col0\" class=\"data row2 col0\" >0.701367</td>\n",
       "                        <td id=\"T_3882ae3e_a16d_11ea_b57b_c465169f896drow2_col1\" class=\"data row2 col1\" >0.692956</td>\n",
       "                        <td id=\"T_3882ae3e_a16d_11ea_b57b_c465169f896drow2_col2\" class=\"data row2 col2\" >0.647171</td>\n",
       "                        <td id=\"T_3882ae3e_a16d_11ea_b57b_c465169f896drow2_col3\" class=\"data row2 col3\" >0.642593</td>\n",
       "                        <td id=\"T_3882ae3e_a16d_11ea_b57b_c465169f896drow2_col4\" class=\"data row2 col4\" >0.647384</td>\n",
       "                        <td id=\"T_3882ae3e_a16d_11ea_b57b_c465169f896drow2_col5\" class=\"data row2 col5\" >0.637542</td>\n",
       "                        <td id=\"T_3882ae3e_a16d_11ea_b57b_c465169f896drow2_col6\" class=\"data row2 col6\" >0.631223</td>\n",
       "                        <td id=\"T_3882ae3e_a16d_11ea_b57b_c465169f896drow2_col7\" class=\"data row2 col7\" >0.625386</td>\n",
       "            </tr>\n",
       "            <tr>\n",
       "                        <th id=\"T_3882ae3e_a16d_11ea_b57b_c465169f896dlevel0_row3\" class=\"row_heading level0 row3\" >Boosted Decision Tree</th>\n",
       "                        <td id=\"T_3882ae3e_a16d_11ea_b57b_c465169f896drow3_col0\" class=\"data row3 col0\" >0.732882</td>\n",
       "                        <td id=\"T_3882ae3e_a16d_11ea_b57b_c465169f896drow3_col1\" class=\"data row3 col1\" >0.708357</td>\n",
       "                        <td id=\"T_3882ae3e_a16d_11ea_b57b_c465169f896drow3_col2\" class=\"data row3 col2\" >0.668721</td>\n",
       "                        <td id=\"T_3882ae3e_a16d_11ea_b57b_c465169f896drow3_col3\" class=\"data row3 col3\" >0.651169</td>\n",
       "                        <td id=\"T_3882ae3e_a16d_11ea_b57b_c465169f896drow3_col4\" class=\"data row3 col4\" >0.669728</td>\n",
       "                        <td id=\"T_3882ae3e_a16d_11ea_b57b_c465169f896drow3_col5\" class=\"data row3 col5\" >0.647505</td>\n",
       "                        <td id=\"T_3882ae3e_a16d_11ea_b57b_c465169f896drow3_col6\" class=\"data row3 col6\" >0.652911</td>\n",
       "                        <td id=\"T_3882ae3e_a16d_11ea_b57b_c465169f896drow3_col7\" class=\"data row3 col7\" >0.630711</td>\n",
       "            </tr>\n",
       "            <tr>\n",
       "                        <th id=\"T_3882ae3e_a16d_11ea_b57b_c465169f896dlevel0_row4\" class=\"row_heading level0 row4\" >Boosted Random Forest</th>\n",
       "                        <td id=\"T_3882ae3e_a16d_11ea_b57b_c465169f896drow4_col0\" class=\"data row4 col0\" >0.747595</td>\n",
       "                        <td id=\"T_3882ae3e_a16d_11ea_b57b_c465169f896drow4_col1\" class=\"data row4 col1\" >0.721972</td>\n",
       "                        <td id=\"T_3882ae3e_a16d_11ea_b57b_c465169f896drow4_col2\" class=\"data row4 col2\" >0.680757</td>\n",
       "                        <td id=\"T_3882ae3e_a16d_11ea_b57b_c465169f896drow4_col3\" class=\"data row4 col3\" >0.662014</td>\n",
       "                        <td id=\"T_3882ae3e_a16d_11ea_b57b_c465169f896drow4_col4\" class=\"data row4 col4\" >0.678464</td>\n",
       "                        <td id=\"T_3882ae3e_a16d_11ea_b57b_c465169f896drow4_col5\" class=\"data row4 col5\" >0.654175</td>\n",
       "                        <td id=\"T_3882ae3e_a16d_11ea_b57b_c465169f896drow4_col6\" class=\"data row4 col6\" >0.675255</td>\n",
       "                        <td id=\"T_3882ae3e_a16d_11ea_b57b_c465169f896drow4_col7\" class=\"data row4 col7\" >0.656647</td>\n",
       "            </tr>\n",
       "            <tr>\n",
       "                        <th id=\"T_3882ae3e_a16d_11ea_b57b_c465169f896dlevel0_row5\" class=\"row_heading level0 row5\" >Gradient Boost</th>\n",
       "                        <td id=\"T_3882ae3e_a16d_11ea_b57b_c465169f896drow5_col0\" class=\"data row5 col0\" >0.719067</td>\n",
       "                        <td id=\"T_3882ae3e_a16d_11ea_b57b_c465169f896drow5_col1\" class=\"data row5 col1\" >0.703941</td>\n",
       "                        <td id=\"T_3882ae3e_a16d_11ea_b57b_c465169f896drow5_col2\" class=\"data row5 col2\" >0.660613</td>\n",
       "                        <td id=\"T_3882ae3e_a16d_11ea_b57b_c465169f896drow5_col3\" class=\"data row5 col3\" >0.647385</td>\n",
       "                        <td id=\"T_3882ae3e_a16d_11ea_b57b_c465169f896drow5_col4\" class=\"data row5 col4\" >0.658547</td>\n",
       "                        <td id=\"T_3882ae3e_a16d_11ea_b57b_c465169f896drow5_col5\" class=\"data row5 col5\" >0.639336</td>\n",
       "                        <td id=\"T_3882ae3e_a16d_11ea_b57b_c465169f896drow5_col6\" class=\"data row5 col6\" >0.653275</td>\n",
       "                        <td id=\"T_3882ae3e_a16d_11ea_b57b_c465169f896drow5_col7\" class=\"data row5 col7\" >0.641532</td>\n",
       "            </tr>\n",
       "    </tbody></table>"
      ],
      "text/plain": [
       "<pandas.io.formats.style.Styler at 0x20e5c071408>"
      ]
     },
     "execution_count": 22,
     "metadata": {},
     "output_type": "execute_result"
    }
   ],
   "source": [
    "compare_models()"
   ]
  },
  {
   "cell_type": "code",
   "execution_count": null,
   "metadata": {},
   "outputs": [],
   "source": []
  },
  {
   "cell_type": "code",
   "execution_count": null,
   "metadata": {},
   "outputs": [],
   "source": []
  },
  {
   "cell_type": "markdown",
   "metadata": {},
   "source": [
    "## Evaluation  of the final models"
   ]
  },
  {
   "cell_type": "code",
   "execution_count": 9,
   "metadata": {},
   "outputs": [],
   "source": [
    "# base estimators for AB_DT and AB_RF\n",
    "DT = DecisionTreeClassifier(max_depth = 3, min_samples_leaf = 10, min_samples_split = 11, random_state = 0)\n",
    "\n",
    "RF = RandomForestClassifier(max_depth = 3, min_samples_split = 11, min_samples_leaf = 10,random_state = 0)\n",
    "\n",
    "tuned_AB_DT = AdaBoostClassifier(base_estimator = DT, n_estimators = 12, random_state = 0) \n",
    "\n",
    "tuned_AB_RF = AdaBoostClassifier(base_estimator = RF, n_estimators = 15, random_state = 0) \n",
    "\n",
    "tuned_GB = GradientBoostingClassifier(n_estimators = 100,learning_rate = 0.1, max_depth = 3, \n",
    "                                min_samples_split = 10, min_samples_leaf = 20, random_state = 0)\n",
    "\n",
    "from sklearn.ensemble import VotingClassifier\n",
    "stacked = VotingClassifier(estimators=[('abrf',tuned_AB_RF), ('gb',tuned_GB)], voting='soft')\n",
    "stacked2 = VotingClassifier(estimators=[('abdt',tuned_AB_DT), ('abrf',tuned_AB_RF), ('gb',tuned_GB)], voting='soft')\n",
    "\n"
   ]
  },
  {
   "cell_type": "code",
   "execution_count": 41,
   "metadata": {},
   "outputs": [],
   "source": [
    "def evaluate_model(x,y,models):\n",
    "    \n",
    "    for name,model in models:\n",
    "        kfold = model_selection.KFold(shuffle=True,n_splits=5,random_state=0)\n",
    "        cv_results = model_selection.cross_validate(model,x,y,cv=kfold, scoring='roc_auc',return_train_score = True)\n",
    "        train_cv_score = [i for i in cv_results['train_score']]\n",
    "        test_cv_score = [i for i in cv_results['test_score']]\n",
    "        print('Train Scores: ',train_cv_score)\n",
    "        print('Test Scores: ',test_cv_score)\n",
    "        print('Mean Train Scores: ', np.mean(train_cv_score))\n",
    "        print('MeanTest Scores: ', np.mean(test_cv_score))\n",
    "        \n",
    "        #plt.figure(figsize = (5,5))\n",
    "        #plt.ylim([0,100])\n",
    "        #plt.plot(np.arange(1,6,1),train_cv_score, label=r'Train Mean %0.2f )' % (np.mean(train_cv_score)),lw=2, alpha=.5)\n",
    "        #plt.plot(np.arange(1,6,1),test_cv_score, label=r'Test Mean %0.2f )' % (np.mean(test_cv_score)),lw=2, alpha=.5)\n",
    "        #plt.legend(loc=\"best\", prop={'size': 9})\n",
    "        #plt.show()\n",
    "        \n",
    "        \n",
    "def implement_cv(x,y,models):\n",
    "    final = {}\n",
    "    results = []\n",
    "    names = []\n",
    "    auc = []\n",
    "    for name,model in models:\n",
    "        kfold = model_selection.KFold(shuffle=True,n_splits=5,random_state=0)\n",
    "        cv_results = model_selection.cross_val_score(model,x,y,cv=kfold, scoring='roc_auc')\n",
    "        results.append((np.abs(cv_results)))\n",
    "        auc.append(np.mean(results))\n",
    "        names.append(name)\n",
    "        #print(cv_results)\n",
    "        final.update({'Model': names , 'accuracy': auc})\n",
    "    return pd.DataFrame(final)\n"
   ]
  },
  {
   "cell_type": "code",
   "execution_count": 17,
   "metadata": {},
   "outputs": [
    {
     "name": "stdout",
     "output_type": "stream",
     "text": [
      "Train Scores:  [73.30245923447578, 73.28211030680359, 73.06802441761225, 73.27963217889463, 72.85822466899916]\n",
      "Test Scores:  [70.7020084575344, 70.89129477551634, 70.96738969136823, 70.49412650956943, 71.69911943919165]\n",
      "Mean Train Scores:  73.15809016135708\n",
      "MeanTest Scores:  70.950787774636\n"
     ]
    }
   ],
   "source": [
    "models = []\n",
    "models.append(('Boosted DT',tuned_AB_DT))\n",
    "evaluate_model(X,Y,models)"
   ]
  },
  {
   "cell_type": "code",
   "execution_count": 23,
   "metadata": {},
   "outputs": [
    {
     "name": "stdout",
     "output_type": "stream",
     "text": [
      "Train Scores:  [0.754073517798735, 0.7541651630597961, 0.7522460959399436, 0.7529250548478862, 0.7500990829486144]\n",
      "Test Scores:  [0.725523344157229, 0.7237926979654636, 0.7314602159936284, 0.7302842803725593, 0.74030313449086]\n",
      "Mean Train Scores:  0.752701782918995\n",
      "MeanTest Scores:  0.7302727345959481\n"
     ]
    }
   ],
   "source": [
    "models = []\n",
    "models.append(('Boosted RF',tuned_AB_RF))\n",
    "evaluate_model(X,Y,models)"
   ]
  },
  {
   "cell_type": "code",
   "execution_count": 24,
   "metadata": {},
   "outputs": [
    {
     "name": "stdout",
     "output_type": "stream",
     "text": [
      "Train Scores:  [0.750188088945519, 0.7508887121061139, 0.7483285144459667, 0.7494040749049278, 0.7470098238393145]\n",
      "Test Scores:  [0.7247133980560274, 0.722293711606669, 0.7294109516899494, 0.7261680652379586, 0.7357323680909722]\n",
      "Mean Train Scores:  0.7491638428483683\n",
      "MeanTest Scores:  0.7276636989363153\n"
     ]
    }
   ],
   "source": [
    "models = []\n",
    "models.append(('Gradient Boost',tuned_GB))\n",
    "evaluate_model(X,Y,models)"
   ]
  },
  {
   "cell_type": "code",
   "execution_count": 25,
   "metadata": {},
   "outputs": [
    {
     "name": "stdout",
     "output_type": "stream",
     "text": [
      "Train Scores:  [0.7507260941640838, 0.7513820634093042, 0.7488433592423356, 0.7499208520046015, 0.7474900722973843]\n",
      "Test Scores:  [0.7250276432659604, 0.7226320692406664, 0.729843025488918, 0.726693380449354, 0.7363245022571135]\n",
      "Mean Train Scores:  0.7496724882235417\n",
      "MeanTest Scores:  0.7281041241404025\n"
     ]
    }
   ],
   "source": [
    "models = []\n",
    "models.append(('Stacked Model',stacked))\n",
    "evaluate_model(X,Y,models)"
   ]
  },
  {
   "cell_type": "code",
   "execution_count": 26,
   "metadata": {},
   "outputs": [
    {
     "name": "stdout",
     "output_type": "stream",
     "text": [
      "Train Scores:  [0.7514536678559418, 0.7516440595232068, 0.7492089133666795, 0.7503673338939078, 0.7476268412868219]\n",
      "Test Scores:  [0.7252021284519072, 0.7231542249049036, 0.729778118968307, 0.726374749240165, 0.7362140978867815]\n",
      "Mean Train Scores:  0.7500601631853115\n",
      "MeanTest Scores:  0.7281446638904129\n"
     ]
    }
   ],
   "source": [
    "models = []\n",
    "models.append(('Stacked Model2',stacked2))\n",
    "evaluate_model(X,Y,models)"
   ]
  },
  {
   "cell_type": "markdown",
   "metadata": {},
   "source": [
    "## Mean Accuracies"
   ]
  },
  {
   "cell_type": "code",
   "execution_count": 11,
   "metadata": {},
   "outputs": [
    {
     "data": {
      "text/html": [
       "<div>\n",
       "<style scoped>\n",
       "    .dataframe tbody tr th:only-of-type {\n",
       "        vertical-align: middle;\n",
       "    }\n",
       "\n",
       "    .dataframe tbody tr th {\n",
       "        vertical-align: top;\n",
       "    }\n",
       "\n",
       "    .dataframe thead th {\n",
       "        text-align: right;\n",
       "    }\n",
       "</style>\n",
       "<table border=\"1\" class=\"dataframe\">\n",
       "  <thead>\n",
       "    <tr style=\"text-align: right;\">\n",
       "      <th></th>\n",
       "      <th>Model</th>\n",
       "      <th>accuracy</th>\n",
       "    </tr>\n",
       "  </thead>\n",
       "  <tbody>\n",
       "    <tr>\n",
       "      <td>0</td>\n",
       "      <td>Boosted DT</td>\n",
       "      <td>0.653668</td>\n",
       "    </tr>\n",
       "  </tbody>\n",
       "</table>\n",
       "</div>"
      ],
      "text/plain": [
       "        Model  accuracy\n",
       "0  Boosted DT  0.653668"
      ]
     },
     "execution_count": 11,
     "metadata": {},
     "output_type": "execute_result"
    }
   ],
   "source": [
    "models = []\n",
    "models.append(('Boosted DT',tuned_AB_DT))\n",
    "\n",
    "implement_cv(X,Y,models)"
   ]
  },
  {
   "cell_type": "code",
   "execution_count": 12,
   "metadata": {},
   "outputs": [
    {
     "data": {
      "text/html": [
       "<div>\n",
       "<style scoped>\n",
       "    .dataframe tbody tr th:only-of-type {\n",
       "        vertical-align: middle;\n",
       "    }\n",
       "\n",
       "    .dataframe tbody tr th {\n",
       "        vertical-align: top;\n",
       "    }\n",
       "\n",
       "    .dataframe thead th {\n",
       "        text-align: right;\n",
       "    }\n",
       "</style>\n",
       "<table border=\"1\" class=\"dataframe\">\n",
       "  <thead>\n",
       "    <tr style=\"text-align: right;\">\n",
       "      <th></th>\n",
       "      <th>Model</th>\n",
       "      <th>accuracy</th>\n",
       "    </tr>\n",
       "  </thead>\n",
       "  <tbody>\n",
       "    <tr>\n",
       "      <td>0</td>\n",
       "      <td>Boosted RF</td>\n",
       "      <td>0.667794</td>\n",
       "    </tr>\n",
       "  </tbody>\n",
       "</table>\n",
       "</div>"
      ],
      "text/plain": [
       "        Model  accuracy\n",
       "0  Boosted RF  0.667794"
      ]
     },
     "execution_count": 12,
     "metadata": {},
     "output_type": "execute_result"
    }
   ],
   "source": [
    "models = []\n",
    "models.append(('Boosted RF',tuned_AB_RF))\n",
    "implement_cv(X,Y,models)"
   ]
  },
  {
   "cell_type": "code",
   "execution_count": null,
   "metadata": {},
   "outputs": [],
   "source": []
  },
  {
   "cell_type": "code",
   "execution_count": 13,
   "metadata": {},
   "outputs": [
    {
     "data": {
      "text/html": [
       "<div>\n",
       "<style scoped>\n",
       "    .dataframe tbody tr th:only-of-type {\n",
       "        vertical-align: middle;\n",
       "    }\n",
       "\n",
       "    .dataframe tbody tr th {\n",
       "        vertical-align: top;\n",
       "    }\n",
       "\n",
       "    .dataframe thead th {\n",
       "        text-align: right;\n",
       "    }\n",
       "</style>\n",
       "<table border=\"1\" class=\"dataframe\">\n",
       "  <thead>\n",
       "    <tr style=\"text-align: right;\">\n",
       "      <th></th>\n",
       "      <th>Model</th>\n",
       "      <th>accuracy</th>\n",
       "    </tr>\n",
       "  </thead>\n",
       "  <tbody>\n",
       "    <tr>\n",
       "      <td>0</td>\n",
       "      <td>Gradient Boost</td>\n",
       "      <td>0.667289</td>\n",
       "    </tr>\n",
       "  </tbody>\n",
       "</table>\n",
       "</div>"
      ],
      "text/plain": [
       "            Model  accuracy\n",
       "0  Gradient Boost  0.667289"
      ]
     },
     "execution_count": 13,
     "metadata": {},
     "output_type": "execute_result"
    }
   ],
   "source": [
    "models = []\n",
    "models.append(('Gradient Boost',tuned_GB))\n",
    "implement_cv(X,Y,models)"
   ]
  },
  {
   "cell_type": "code",
   "execution_count": null,
   "metadata": {},
   "outputs": [],
   "source": []
  },
  {
   "cell_type": "code",
   "execution_count": 14,
   "metadata": {},
   "outputs": [
    {
     "data": {
      "text/html": [
       "<div>\n",
       "<style scoped>\n",
       "    .dataframe tbody tr th:only-of-type {\n",
       "        vertical-align: middle;\n",
       "    }\n",
       "\n",
       "    .dataframe tbody tr th {\n",
       "        vertical-align: top;\n",
       "    }\n",
       "\n",
       "    .dataframe thead th {\n",
       "        text-align: right;\n",
       "    }\n",
       "</style>\n",
       "<table border=\"1\" class=\"dataframe\">\n",
       "  <thead>\n",
       "    <tr style=\"text-align: right;\">\n",
       "      <th></th>\n",
       "      <th>Model</th>\n",
       "      <th>accuracy</th>\n",
       "    </tr>\n",
       "  </thead>\n",
       "  <tbody>\n",
       "    <tr>\n",
       "      <td>0</td>\n",
       "      <td>Stacked Model</td>\n",
       "      <td>0.667138</td>\n",
       "    </tr>\n",
       "  </tbody>\n",
       "</table>\n",
       "</div>"
      ],
      "text/plain": [
       "           Model  accuracy\n",
       "0  Stacked Model  0.667138"
      ]
     },
     "execution_count": 14,
     "metadata": {},
     "output_type": "execute_result"
    }
   ],
   "source": [
    "models = []\n",
    "models.append(('Stacked Model',stacked))\n",
    "implement_cv(X,Y,models)"
   ]
  },
  {
   "cell_type": "code",
   "execution_count": null,
   "metadata": {},
   "outputs": [],
   "source": []
  },
  {
   "cell_type": "code",
   "execution_count": null,
   "metadata": {},
   "outputs": [],
   "source": []
  },
  {
   "cell_type": "markdown",
   "metadata": {},
   "source": [
    "## Mean ROC AUC"
   ]
  },
  {
   "cell_type": "code",
   "execution_count": 30,
   "metadata": {},
   "outputs": [
    {
     "name": "stdout",
     "output_type": "stream",
     "text": [
      "[0.72552334 0.7237927  0.73146022 0.73028428 0.74030313]\n"
     ]
    },
    {
     "data": {
      "text/html": [
       "<div>\n",
       "<style scoped>\n",
       "    .dataframe tbody tr th:only-of-type {\n",
       "        vertical-align: middle;\n",
       "    }\n",
       "\n",
       "    .dataframe tbody tr th {\n",
       "        vertical-align: top;\n",
       "    }\n",
       "\n",
       "    .dataframe thead th {\n",
       "        text-align: right;\n",
       "    }\n",
       "</style>\n",
       "<table border=\"1\" class=\"dataframe\">\n",
       "  <thead>\n",
       "    <tr style=\"text-align: right;\">\n",
       "      <th></th>\n",
       "      <th>Model</th>\n",
       "      <th>roc_auc_score</th>\n",
       "    </tr>\n",
       "  </thead>\n",
       "  <tbody>\n",
       "    <tr>\n",
       "      <td>0</td>\n",
       "      <td>Boosted RF</td>\n",
       "      <td>0.730273</td>\n",
       "    </tr>\n",
       "  </tbody>\n",
       "</table>\n",
       "</div>"
      ],
      "text/plain": [
       "        Model  roc_auc_score\n",
       "0  Boosted RF       0.730273"
      ]
     },
     "execution_count": 30,
     "metadata": {},
     "output_type": "execute_result"
    }
   ],
   "source": [
    "\n",
    "models = []\n",
    "models.append(('Boosted RF',tuned_AB_RF))\n",
    "implement_cv(X,Y,models)\n",
    "\n",
    "\n"
   ]
  },
  {
   "cell_type": "code",
   "execution_count": 34,
   "metadata": {},
   "outputs": [
    {
     "name": "stdout",
     "output_type": "stream",
     "text": [
      "[0.7247134  0.72229371 0.72941095 0.72616807 0.73573237]\n"
     ]
    },
    {
     "data": {
      "text/html": [
       "<div>\n",
       "<style scoped>\n",
       "    .dataframe tbody tr th:only-of-type {\n",
       "        vertical-align: middle;\n",
       "    }\n",
       "\n",
       "    .dataframe tbody tr th {\n",
       "        vertical-align: top;\n",
       "    }\n",
       "\n",
       "    .dataframe thead th {\n",
       "        text-align: right;\n",
       "    }\n",
       "</style>\n",
       "<table border=\"1\" class=\"dataframe\">\n",
       "  <thead>\n",
       "    <tr style=\"text-align: right;\">\n",
       "      <th></th>\n",
       "      <th>Model</th>\n",
       "      <th>roc_auc_score</th>\n",
       "    </tr>\n",
       "  </thead>\n",
       "  <tbody>\n",
       "    <tr>\n",
       "      <td>0</td>\n",
       "      <td>Gradient Boost</td>\n",
       "      <td>0.727664</td>\n",
       "    </tr>\n",
       "  </tbody>\n",
       "</table>\n",
       "</div>"
      ],
      "text/plain": [
       "            Model  roc_auc_score\n",
       "0  Gradient Boost       0.727664"
      ]
     },
     "execution_count": 34,
     "metadata": {},
     "output_type": "execute_result"
    }
   ],
   "source": [
    "\n",
    "models = []\n",
    "models.append(('Gradient Boost',tuned_GB))\n",
    "implement_cv(X,Y,models)\n",
    "\n",
    "\n"
   ]
  },
  {
   "cell_type": "code",
   "execution_count": 35,
   "metadata": {},
   "outputs": [
    {
     "name": "stdout",
     "output_type": "stream",
     "text": [
      "[0.72502764 0.72263207 0.72984303 0.72669338 0.7363245 ]\n"
     ]
    },
    {
     "data": {
      "text/html": [
       "<div>\n",
       "<style scoped>\n",
       "    .dataframe tbody tr th:only-of-type {\n",
       "        vertical-align: middle;\n",
       "    }\n",
       "\n",
       "    .dataframe tbody tr th {\n",
       "        vertical-align: top;\n",
       "    }\n",
       "\n",
       "    .dataframe thead th {\n",
       "        text-align: right;\n",
       "    }\n",
       "</style>\n",
       "<table border=\"1\" class=\"dataframe\">\n",
       "  <thead>\n",
       "    <tr style=\"text-align: right;\">\n",
       "      <th></th>\n",
       "      <th>Model</th>\n",
       "      <th>roc_auc_score</th>\n",
       "    </tr>\n",
       "  </thead>\n",
       "  <tbody>\n",
       "    <tr>\n",
       "      <td>0</td>\n",
       "      <td>Stacked Model</td>\n",
       "      <td>0.728104</td>\n",
       "    </tr>\n",
       "  </tbody>\n",
       "</table>\n",
       "</div>"
      ],
      "text/plain": [
       "           Model  roc_auc_score\n",
       "0  Stacked Model       0.728104"
      ]
     },
     "execution_count": 35,
     "metadata": {},
     "output_type": "execute_result"
    }
   ],
   "source": [
    "\n",
    "models = []\n",
    "models.append(('Stacked Model',stacked))\n",
    "implement_cv(X,Y,models)"
   ]
  },
  {
   "cell_type": "markdown",
   "metadata": {},
   "source": [
    "## FINAL ROC AUC PLOT"
   ]
  },
  {
   "cell_type": "code",
   "execution_count": 55,
   "metadata": {},
   "outputs": [],
   "source": [
    "def plot_roc_auc_curve(x,y,model):\n",
    "    \n",
    "        tprs = []\n",
    "        aucs = []\n",
    "        mean_fpr = np.linspace(0, 1, 100)\n",
    "        plt.figure(figsize=(5,5))\n",
    "        i = 0\n",
    "        \n",
    "        kfold = model_selection.KFold(shuffle=True,n_splits=5,random_state=0)\n",
    "        \n",
    "        for i, (train_index, test_index) in enumerate(kfold.split(x)):\n",
    "            X_train, X_test = x.iloc[train_index], x.iloc[test_index]\n",
    "            y_train, y_test = y.iloc[train_index], y.iloc[test_index]\n",
    "            \n",
    "            probas_test = model.fit(X_train,y_train).predict_proba(X_test)[:,1]\n",
    "            \n",
    "            fpr, tpr, thresholds = roc_curve(y_test,probas_test)\n",
    "            \n",
    "            tprs.append(np.interp(mean_fpr, fpr, tpr))\n",
    "            tprs[-1][0] = 0.0\n",
    "            roc_auc = auc(fpr, tpr)\n",
    "            aucs.append(roc_auc)\n",
    "            plt.plot(fpr, tpr, alpha=0.3, label='ROC fold %d (AUC = %0.2f)' % (i, roc_auc)) # plot for each fold\n",
    "\n",
    "            i += 1\n",
    "            \n",
    "        plt.plot([0, 1], [0, 1], linestyle='--', lw=2, color='r', label='Chance', alpha=.8) # chnace\n",
    "\n",
    "        mean_tpr = np.mean(tprs, axis=0)\n",
    "        mean_tpr[-1] = 1.0\n",
    "        mean_auc = auc(mean_fpr, mean_tpr)\n",
    "        plt.plot(mean_fpr, mean_tpr, color='b', label=r'Mean ROC (AUC = %0.2f )' % (mean_auc), lw=2, alpha=.8) # plot for mean auc\n",
    "\n",
    "        plt.xlim([-0.01, 1.01])\n",
    "        plt.ylim([-0.01, 1.01])\n",
    "        plt.xlabel('False Positive Rate',fontsize=10)\n",
    "        plt.ylabel('True Positive Rate',fontsize=10)\n",
    "        plt.title(r'Cross-Validation ROC',fontsize=10)\n",
    "        plt.legend(loc=\"lower right\", prop={'size': 9})\n",
    "        plt.show()"
   ]
  },
  {
   "cell_type": "code",
   "execution_count": 56,
   "metadata": {},
   "outputs": [
    {
     "data": {
      "image/png": "[encoded data removed]",
      "text/plain": [
       "<Figure size 360x360 with 1 Axes>"
      ]
     },
     "metadata": {
      "needs_background": "light"
     },
     "output_type": "display_data"
    }
   ],
   "source": [
    "plot_roc_auc_curve(X,Y,tuned_AB_RF)"
   ]
  },
  {
   "cell_type": "code",
   "execution_count": null,
   "metadata": {},
   "outputs": [],
   "source": []
  }
 ],
 "metadata": {
  "kernelspec": {
   "display_name": "Python 3",
   "language": "python",
   "name": "python3"
  },
  "language_info": {
   "codemirror_mode": {
    "name": "ipython",
    "version": 3
   },
   "file_extension": ".py",
   "mimetype": "text/x-python",
   "name": "python",
   "nbconvert_exporter": "python",
   "pygments_lexer": "ipython3",
   "version": "3.7.4"
  }
 },
 "nbformat": 4,
 "nbformat_minor": 2
}
